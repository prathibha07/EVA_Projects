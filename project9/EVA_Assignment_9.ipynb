{
  "nbformat": 4,
  "nbformat_minor": 0,
  "metadata": {
    "colab": {
      "name": "Copy of Copy of EVA_Assignment_9.ipynb",
      "version": "0.3.2",
      "provenance": [],
      "collapsed_sections": []
    },
    "kernelspec": {
      "name": "python3",
      "display_name": "Python 3"
    },
    "accelerator": "GPU"
  },
  "cells": [
    {
      "cell_type": "markdown",
      "metadata": {
        "id": "Uj8IqG_swRuz",
        "colab_type": "text"
      },
      "source": [
        "**Conclusions** :\n",
        "\n",
        "\n",
        "\n",
        "\n",
        "*   With cutout validation accuracy improved 1.5% from 86.33 to 87.83\n",
        "*   Grad CAM highlighted in many images the important areas for the classes that are being predicted. \n",
        "*   After cutout the are of importance has moved from irrelevant positions to more relevant positions.\n",
        "\n",
        "\n",
        "\n"
      ]
    },
    {
      "cell_type": "code",
      "metadata": {
        "id": "KkwXnw9OfHZl",
        "colab_type": "code",
        "outputId": "2f46a6a2-d0b0-4c72-a707-e52bfc3bd788",
        "colab": {
          "base_uri": "https://localhost:8080/",
          "height": 35
        }
      },
      "source": [
        "from keras import backend as K\n",
        "import keras.models\n",
        "import time\n",
        "import matplotlib.pyplot as plt\n",
        "import numpy as np\n",
        "% matplotlib inline\n",
        "np.random.seed(2017) \n",
        "from keras.models import Sequential\n",
        "from keras.layers.convolutional import Convolution2D, MaxPooling2D, AveragePooling2D\n",
        "from keras.layers import Activation, Flatten, Dense, Dropout\n",
        "from keras.layers.normalization import BatchNormalization\n",
        "from keras.utils import np_utils"
      ],
      "execution_count": 1,
      "outputs": [
        {
          "output_type": "stream",
          "text": [
            "Using TensorFlow backend.\n"
          ],
          "name": "stderr"
        }
      ]
    },
    {
      "cell_type": "code",
      "metadata": {
        "id": "VhdVHE9tyRhU",
        "colab_type": "code",
        "outputId": "a4d89642-f87e-4ddc-906d-7ed01ee57d9c",
        "colab": {
          "base_uri": "https://localhost:8080/",
          "height": 129
        }
      },
      "source": [
        "from google.colab import drive\n",
        "drive.mount('../content/drive/', force_remount=True)\n"
      ],
      "execution_count": 2,
      "outputs": [
        {
          "output_type": "stream",
          "text": [
            "Go to this URL in a browser: https://accounts.google.com/o/oauth2/auth?client_id=947318989803-6bn6qk8qdgf4n4g3pfee6491hc0brc4i.apps.googleusercontent.com&redirect_uri=urn%3Aietf%3Awg%3Aoauth%3A2.0%3Aoob&scope=email%20https%3A%2F%2Fwww.googleapis.com%2Fauth%2Fdocs.test%20https%3A%2F%2Fwww.googleapis.com%2Fauth%2Fdrive%20https%3A%2F%2Fwww.googleapis.com%2Fauth%2Fdrive.photos.readonly%20https%3A%2F%2Fwww.googleapis.com%2Fauth%2Fpeopleapi.readonly&response_type=code\n",
            "\n",
            "Enter your authorization code:\n",
            "··········\n",
            "Mounted at ../content/drive/\n"
          ],
          "name": "stdout"
        }
      ]
    },
    {
      "cell_type": "code",
      "metadata": {
        "id": "7asrrDT8yV0G",
        "colab_type": "code",
        "colab": {}
      },
      "source": [
        "import os\n",
        "#os.listdir('../content/drive/My Drive/')"
      ],
      "execution_count": 0,
      "outputs": []
    },
    {
      "cell_type": "code",
      "metadata": {
        "id": "NHpnoCHZfO8g",
        "colab_type": "code",
        "outputId": "0185a990-a26f-43fc-fcb0-75ce12bfd9f0",
        "colab": {
          "base_uri": "https://localhost:8080/",
          "height": 54
        }
      },
      "source": [
        "from keras.datasets import cifar10\n",
        "(train_features, train_labels), (test_features, test_labels) = cifar10.load_data()\n",
        "num_train, img_channels, img_rows, img_cols =  train_features.shape\n",
        "num_test, _, _, _ =  test_features.shape\n",
        "num_classes = len(np.unique(train_labels))"
      ],
      "execution_count": 6,
      "outputs": [
        {
          "output_type": "stream",
          "text": [
            "Downloading data from https://www.cs.toronto.edu/~kriz/cifar-10-python.tar.gz\n",
            "170500096/170498071 [==============================] - 2s 0us/step\n"
          ],
          "name": "stdout"
        }
      ]
    },
    {
      "cell_type": "code",
      "metadata": {
        "id": "14HyBUXdfS6G",
        "colab_type": "code",
        "outputId": "32a69093-6dec-4723-ba33-196bac9a2bfe",
        "colab": {
          "base_uri": "https://localhost:8080/",
          "height": 213
        }
      },
      "source": [
        "class_names = ['airplane','automobile','bird','cat','deer',\n",
        "               'dog','frog','horse','ship','truck']\n",
        "fig = plt.figure(figsize=(8,3))\n",
        "for i in range(num_classes):\n",
        "    ax = fig.add_subplot(2, 5, 1 + i, xticks=[], yticks=[])\n",
        "    idx = np.where(train_labels[:]==i)[0]\n",
        "    features_idx = train_features[idx,::]\n",
        "    img_num = np.random.randint(features_idx.shape[0])\n",
        "    im = features_idx[img_num]\n",
        "    ax.set_title(class_names[i])\n",
        "    plt.imshow(im)\n",
        "plt.show()"
      ],
      "execution_count": 7,
      "outputs": [
        {
          "output_type": "display_data",
          "data": {
            "image/png": "[encoded data removed]",
            "text/plain": [
              "<Figure size 576x216 with 10 Axes>"
            ]
          },
          "metadata": {
            "tags": []
          }
        }
      ]
    },
    {
      "cell_type": "code",
      "metadata": {
        "id": "bmfsk76-fadV",
        "colab_type": "code",
        "colab": {}
      },
      "source": [
        "def plot_model_history(model_history):\n",
        "    fig, axs = plt.subplots(1,2,figsize=(15,5))\n",
        "    # summarize history for accuracy\n",
        "    axs[0].plot(range(1,len(model_history.history['acc'])+1),model_history.history['acc'])\n",
        "    axs[0].plot(range(1,len(model_history.history['val_acc'])+1),model_history.history['val_acc'])\n",
        "    axs[0].set_title('Model Accuracy')\n",
        "    axs[0].set_ylabel('Accuracy')\n",
        "    axs[0].set_xlabel('Epoch')\n",
        "    axs[0].set_xticks(np.arange(1,len(model_history.history['acc'])+1),len(model_history.history['acc'])/10)\n",
        "    axs[0].legend(['train', 'val'], loc='best')\n",
        "    # summarize history for loss\n",
        "    axs[1].plot(range(1,len(model_history.history['loss'])+1),model_history.history['loss'])\n",
        "    axs[1].plot(range(1,len(model_history.history['val_loss'])+1),model_history.history['val_loss'])\n",
        "    axs[1].set_title('Model Loss')\n",
        "    axs[1].set_ylabel('Loss')\n",
        "    axs[1].set_xlabel('Epoch')\n",
        "    axs[1].set_xticks(np.arange(1,len(model_history.history['loss'])+1),len(model_history.history['loss'])/10)\n",
        "    axs[1].legend(['train', 'val'], loc='best')\n",
        "    plt.show()"
      ],
      "execution_count": 0,
      "outputs": []
    },
    {
      "cell_type": "code",
      "metadata": {
        "id": "YJMT4rjgfdZz",
        "colab_type": "code",
        "colab": {}
      },
      "source": [
        "def accuracy(test_x, test_y, model):\n",
        "    result = model.predict(test_x)\n",
        "    predicted_class = np.argmax(result, axis=1)\n",
        "    true_class = np.argmax(test_y, axis=1)\n",
        "    num_correct = np.sum(predicted_class == true_class) \n",
        "    accuracy = float(num_correct)/result.shape[0]\n",
        "    return (accuracy * 100)"
      ],
      "execution_count": 0,
      "outputs": []
    },
    {
      "cell_type": "code",
      "metadata": {
        "id": "T5c5nDvxm6zR",
        "colab_type": "code",
        "colab": {}
      },
      "source": [
        "train_features = train_features.astype('float32')/255\n",
        "test_features = test_features.astype('float32')/255\n",
        "# convert class labels to binary class labels\n",
        "train_labels = np_utils.to_categorical(train_labels, num_classes)\n",
        "test_labels = np_utils.to_categorical(test_labels, num_classes)"
      ],
      "execution_count": 0,
      "outputs": []
    },
    {
      "cell_type": "code",
      "metadata": {
        "id": "RGbA4JSRhzGG",
        "colab_type": "code",
        "outputId": "7d83d448-6390-430b-afdf-92be2cc685ad",
        "colab": {
          "base_uri": "https://localhost:8080/",
          "height": 606
        }
      },
      "source": [
        "# 6B model - This is to get base accuracy before cutout\n",
        "# Define the model\n",
        "model = Sequential()\n",
        "\n",
        "x=model.add(Convolution2D(48, 3, 3, border_mode='same', input_shape=(32, 32, 3))) # 32x32 x48\n",
        "x=model.add(BatchNormalization())\n",
        "x=model.add(Activation('relu'))\n",
        "x=model.add(Dropout(0.1))\n",
        "\n",
        "model.add(Convolution2D(48, 3, 3)) # 30x30 x48\n",
        "model.add(Activation('relu'))\n",
        "\n",
        "\n",
        "model.add(MaxPooling2D(pool_size=(2, 2))) #15 x15 x48\n",
        "\n",
        "\n",
        "model.add(Convolution2D(96, 3, 3, border_mode='same')) #15x15 x96\n",
        "model.add(BatchNormalization())\n",
        "model.add(Activation('relu'))\n",
        "model.add(Dropout(0.1))\n",
        "          \n",
        "model.add(Convolution2D(96, 3, 3)) # 13x13 x96\n",
        "model.add(Activation('relu'))\n",
        "\n",
        "model.add(MaxPooling2D(pool_size=(2, 2))) #6x6x96\n",
        "\n",
        "model.add(Convolution2D(192, 3, 3, border_mode='same')) #6x6x192\n",
        "model.add(BatchNormalization())\n",
        "model.add(Activation('relu'))\n",
        "model.add(Dropout(0.15))\n",
        "\n",
        "model.add(Convolution2D(192, 3, 3)) #4x4x192\n",
        "model.add(BatchNormalization())\n",
        "model.add(Activation('relu'))\n",
        "model.add(Dropout(0.15))\n",
        "\n",
        "model.add(Convolution2D(10, 4, 4))\n",
        "model.add(BatchNormalization()) \n",
        "model.add(Activation('relu'))\n",
        "model.add(Dropout(0.5))\n",
        "\n",
        "model.add(Convolution2D(10, 1, 1, border_mode='same'))\n",
        "model.add(BatchNormalization())\n",
        "model.add(Dropout(0.1))\n",
        "\n",
        "model.add(Flatten())\n",
        "model.add(Activation('softmax'))\n",
        "\n",
        "# Compile the model\n",
        "model.compile(optimizer='adam', loss='categorical_crossentropy', metrics=['accuracy'])"
      ],
      "execution_count": 11,
      "outputs": [
        {
          "output_type": "stream",
          "text": [
            "WARNING: Logging before flag parsing goes to stderr.\n",
            "W0717 12:30:32.624094 139752369432448 deprecation_wrapper.py:119] From /usr/local/lib/python3.6/dist-packages/keras/backend/tensorflow_backend.py:74: The name tf.get_default_graph is deprecated. Please use tf.compat.v1.get_default_graph instead.\n",
            "\n",
            "/usr/local/lib/python3.6/dist-packages/ipykernel_launcher.py:3: UserWarning: Update your `Conv2D` call to the Keras 2 API: `Conv2D(48, (3, 3), input_shape=(32, 32, 3..., padding=\"same\")`\n",
            "  This is separate from the ipykernel package so we can avoid doing imports until\n",
            "W0717 12:30:32.675331 139752369432448 deprecation_wrapper.py:119] From /usr/local/lib/python3.6/dist-packages/keras/backend/tensorflow_backend.py:517: The name tf.placeholder is deprecated. Please use tf.compat.v1.placeholder instead.\n",
            "\n",
            "W0717 12:30:32.685350 139752369432448 deprecation_wrapper.py:119] From /usr/local/lib/python3.6/dist-packages/keras/backend/tensorflow_backend.py:4138: The name tf.random_uniform is deprecated. Please use tf.random.uniform instead.\n",
            "\n",
            "W0717 12:30:32.734827 139752369432448 deprecation_wrapper.py:119] From /usr/local/lib/python3.6/dist-packages/keras/backend/tensorflow_backend.py:174: The name tf.get_default_session is deprecated. Please use tf.compat.v1.get_default_session instead.\n",
            "\n",
            "W0717 12:30:32.736314 139752369432448 deprecation_wrapper.py:119] From /usr/local/lib/python3.6/dist-packages/keras/backend/tensorflow_backend.py:181: The name tf.ConfigProto is deprecated. Please use tf.compat.v1.ConfigProto instead.\n",
            "\n",
            "W0717 12:30:35.683736 139752369432448 deprecation_wrapper.py:119] From /usr/local/lib/python3.6/dist-packages/keras/backend/tensorflow_backend.py:1834: The name tf.nn.fused_batch_norm is deprecated. Please use tf.compat.v1.nn.fused_batch_norm instead.\n",
            "\n",
            "W0717 12:30:35.884227 139752369432448 deprecation.py:506] From /usr/local/lib/python3.6/dist-packages/keras/backend/tensorflow_backend.py:3445: calling dropout (from tensorflow.python.ops.nn_ops) with keep_prob is deprecated and will be removed in a future version.\n",
            "Instructions for updating:\n",
            "Please use `rate` instead of `keep_prob`. Rate should be set to `rate = 1 - keep_prob`.\n",
            "/usr/local/lib/python3.6/dist-packages/ipykernel_launcher.py:8: UserWarning: Update your `Conv2D` call to the Keras 2 API: `Conv2D(48, (3, 3))`\n",
            "  \n",
            "W0717 12:30:35.922388 139752369432448 deprecation_wrapper.py:119] From /usr/local/lib/python3.6/dist-packages/keras/backend/tensorflow_backend.py:3976: The name tf.nn.max_pool is deprecated. Please use tf.nn.max_pool2d instead.\n",
            "\n",
            "/usr/local/lib/python3.6/dist-packages/ipykernel_launcher.py:15: UserWarning: Update your `Conv2D` call to the Keras 2 API: `Conv2D(96, (3, 3), padding=\"same\")`\n",
            "  from ipykernel import kernelapp as app\n",
            "/usr/local/lib/python3.6/dist-packages/ipykernel_launcher.py:20: UserWarning: Update your `Conv2D` call to the Keras 2 API: `Conv2D(96, (3, 3))`\n",
            "/usr/local/lib/python3.6/dist-packages/ipykernel_launcher.py:25: UserWarning: Update your `Conv2D` call to the Keras 2 API: `Conv2D(192, (3, 3), padding=\"same\")`\n",
            "/usr/local/lib/python3.6/dist-packages/ipykernel_launcher.py:30: UserWarning: Update your `Conv2D` call to the Keras 2 API: `Conv2D(192, (3, 3))`\n",
            "/usr/local/lib/python3.6/dist-packages/ipykernel_launcher.py:35: UserWarning: Update your `Conv2D` call to the Keras 2 API: `Conv2D(10, (4, 4))`\n",
            "/usr/local/lib/python3.6/dist-packages/ipykernel_launcher.py:40: UserWarning: Update your `Conv2D` call to the Keras 2 API: `Conv2D(10, (1, 1), padding=\"same\")`\n",
            "W0717 12:30:36.592430 139752369432448 deprecation_wrapper.py:119] From /usr/local/lib/python3.6/dist-packages/keras/optimizers.py:790: The name tf.train.Optimizer is deprecated. Please use tf.compat.v1.train.Optimizer instead.\n",
            "\n"
          ],
          "name": "stderr"
        }
      ]
    },
    {
      "cell_type": "code",
      "metadata": {
        "id": "ji7LHws7VQL2",
        "colab_type": "code",
        "colab": {}
      },
      "source": [
        "from keras.callbacks import ModelCheckpoint,ReduceLROnPlateau\n",
        "\n",
        "checkpointer = ModelCheckpoint(filepath='../content/drive/My Drive/model_before_cutout.h5', monitor='val_acc', mode='auto', verbose = 1, save_best_only=True)\n",
        "lr_reducer = ReduceLROnPlateau(monitor='val_acc',factor=0.8, cooldown=0, patience=5, min_lr=0.5e-9,verbose = 1)\n",
        "\n",
        "\n",
        "\n",
        "# Compile the model\n",
        "model.compile(optimizer='adam', loss='categorical_crossentropy', metrics=['accuracy'])"
      ],
      "execution_count": 0,
      "outputs": []
    },
    {
      "cell_type": "code",
      "metadata": {
        "id": "pgkz5nRyVfMe",
        "colab_type": "code",
        "outputId": "571cce3a-7a40-4df8-f2ff-c2a97dd3ff2d",
        "colab": {
          "base_uri": "https://localhost:8080/",
          "height": 1000
        }
      },
      "source": [
        "model.summary()"
      ],
      "execution_count": 12,
      "outputs": [
        {
          "output_type": "stream",
          "text": [
            "_________________________________________________________________\n",
            "Layer (type)                 Output Shape              Param #   \n",
            "=================================================================\n",
            "conv2d_1 (Conv2D)            (None, 32, 32, 48)        1344      \n",
            "_________________________________________________________________\n",
            "batch_normalization_1 (Batch (None, 32, 32, 48)        192       \n",
            "_________________________________________________________________\n",
            "activation_1 (Activation)    (None, 32, 32, 48)        0         \n",
            "_________________________________________________________________\n",
            "dropout_1 (Dropout)          (None, 32, 32, 48)        0         \n",
            "_________________________________________________________________\n",
            "conv2d_2 (Conv2D)            (None, 30, 30, 48)        20784     \n",
            "_________________________________________________________________\n",
            "activation_2 (Activation)    (None, 30, 30, 48)        0         \n",
            "_________________________________________________________________\n",
            "max_pooling2d_1 (MaxPooling2 (None, 15, 15, 48)        0         \n",
            "_________________________________________________________________\n",
            "conv2d_3 (Conv2D)            (None, 15, 15, 96)        41568     \n",
            "_________________________________________________________________\n",
            "batch_normalization_2 (Batch (None, 15, 15, 96)        384       \n",
            "_________________________________________________________________\n",
            "activation_3 (Activation)    (None, 15, 15, 96)        0         \n",
            "_________________________________________________________________\n",
            "dropout_2 (Dropout)          (None, 15, 15, 96)        0         \n",
            "_________________________________________________________________\n",
            "conv2d_4 (Conv2D)            (None, 13, 13, 96)        83040     \n",
            "_________________________________________________________________\n",
            "activation_4 (Activation)    (None, 13, 13, 96)        0         \n",
            "_________________________________________________________________\n",
            "max_pooling2d_2 (MaxPooling2 (None, 6, 6, 96)          0         \n",
            "_________________________________________________________________\n",
            "conv2d_5 (Conv2D)            (None, 6, 6, 192)         166080    \n",
            "_________________________________________________________________\n",
            "batch_normalization_3 (Batch (None, 6, 6, 192)         768       \n",
            "_________________________________________________________________\n",
            "activation_5 (Activation)    (None, 6, 6, 192)         0         \n",
            "_________________________________________________________________\n",
            "dropout_3 (Dropout)          (None, 6, 6, 192)         0         \n",
            "_________________________________________________________________\n",
            "conv2d_6 (Conv2D)            (None, 4, 4, 192)         331968    \n",
            "_________________________________________________________________\n",
            "batch_normalization_4 (Batch (None, 4, 4, 192)         768       \n",
            "_________________________________________________________________\n",
            "activation_6 (Activation)    (None, 4, 4, 192)         0         \n",
            "_________________________________________________________________\n",
            "dropout_4 (Dropout)          (None, 4, 4, 192)         0         \n",
            "_________________________________________________________________\n",
            "conv2d_7 (Conv2D)            (None, 1, 1, 10)          30730     \n",
            "_________________________________________________________________\n",
            "batch_normalization_5 (Batch (None, 1, 1, 10)          40        \n",
            "_________________________________________________________________\n",
            "activation_7 (Activation)    (None, 1, 1, 10)          0         \n",
            "_________________________________________________________________\n",
            "dropout_5 (Dropout)          (None, 1, 1, 10)          0         \n",
            "_________________________________________________________________\n",
            "conv2d_8 (Conv2D)            (None, 1, 1, 10)          110       \n",
            "_________________________________________________________________\n",
            "batch_normalization_6 (Batch (None, 1, 1, 10)          40        \n",
            "_________________________________________________________________\n",
            "dropout_6 (Dropout)          (None, 1, 1, 10)          0         \n",
            "_________________________________________________________________\n",
            "flatten_1 (Flatten)          (None, 10)                0         \n",
            "_________________________________________________________________\n",
            "activation_8 (Activation)    (None, 10)                0         \n",
            "=================================================================\n",
            "Total params: 677,816\n",
            "Trainable params: 676,720\n",
            "Non-trainable params: 1,096\n",
            "_________________________________________________________________\n"
          ],
          "name": "stdout"
        }
      ]
    },
    {
      "cell_type": "markdown",
      "metadata": {
        "id": "DDfadbN_V109",
        "colab_type": "text"
      },
      "source": [
        "**Model without Cutout**"
      ]
    },
    {
      "cell_type": "code",
      "metadata": {
        "id": "gG3BKAymw5Nm",
        "colab_type": "code",
        "outputId": "4a07bfe1-9b55-4107-872e-ded379418608",
        "colab": {
          "base_uri": "https://localhost:8080/",
          "height": 1000
        }
      },
      "source": [
        "from keras.preprocessing.image import ImageDataGenerator\n",
        "\n",
        "datagen = ImageDataGenerator(zoom_range=0.0, \n",
        "                             horizontal_flip=False)\n",
        "\n",
        "\n",
        "# train the model\n",
        "start = time.time()\n",
        "# Train the model\n",
        "model_info = model.fit_generator(datagen.flow(train_features, train_labels, batch_size = 128),\n",
        "                                 samples_per_epoch = train_features.shape[0], nb_epoch = 100, \n",
        "                                 validation_data = (test_features, test_labels), callbacks=[checkpointer,lr_reducer],verbose=1)\n",
        "end = time.time()\n",
        "print (\"Model took %0.2f seconds to train\"%(end - start))\n",
        "# plot model history\n",
        "plot_model_history(model_info)\n",
        "# compute test accuracy\n",
        "print (\"Accuracy on test data is: %0.2f\"%accuracy(test_features, test_labels, model))"
      ],
      "execution_count": 0,
      "outputs": [
        {
          "output_type": "stream",
          "text": [
            "/usr/local/lib/python3.6/dist-packages/ipykernel_launcher.py:12: UserWarning: The semantics of the Keras 2 argument `steps_per_epoch` is not the same as the Keras 1 argument `samples_per_epoch`. `steps_per_epoch` is the number of batches to draw from the generator at each epoch. Basically steps_per_epoch = samples_per_epoch/batch_size. Similarly `nb_val_samples`->`validation_steps` and `val_samples`->`steps` arguments have changed. Update your method calls accordingly.\n",
            "  if sys.path[0] == '':\n",
            "/usr/local/lib/python3.6/dist-packages/ipykernel_launcher.py:12: UserWarning: Update your `fit_generator` call to the Keras 2 API: `fit_generator(<keras_pre..., validation_data=(array([[[..., callbacks=[<keras.ca..., verbose=1, steps_per_epoch=390, epochs=100)`\n",
            "  if sys.path[0] == '':\n"
          ],
          "name": "stderr"
        },
        {
          "output_type": "stream",
          "text": [
            "Epoch 1/100\n",
            "390/390 [==============================] - 30s 76ms/step - loss: 1.7062 - acc: 0.3973 - val_loss: 1.5521 - val_acc: 0.5576\n",
            "\n",
            "Epoch 00001: val_acc improved from -inf to 0.55760, saving model to ../content/drive/My Drive/model_before_cutout.h5\n",
            "Epoch 2/100\n",
            "390/390 [==============================] - 28s 73ms/step - loss: 1.5681 - acc: 0.4491 - val_loss: 1.4121 - val_acc: 0.5783\n",
            "\n",
            "Epoch 00002: val_acc improved from 0.55760 to 0.57830, saving model to ../content/drive/My Drive/model_before_cutout.h5\n",
            "Epoch 3/100\n",
            "390/390 [==============================] - 28s 72ms/step - loss: 1.4817 - acc: 0.4815 - val_loss: 1.0968 - val_acc: 0.6956\n",
            "\n",
            "Epoch 00003: val_acc improved from 0.57830 to 0.69560, saving model to ../content/drive/My Drive/model_before_cutout.h5\n",
            "Epoch 4/100\n",
            "390/390 [==============================] - 28s 72ms/step - loss: 1.4158 - acc: 0.5060 - val_loss: 1.2498 - val_acc: 0.6311\n",
            "\n",
            "Epoch 00004: val_acc did not improve from 0.69560\n",
            "Epoch 5/100\n",
            "390/390 [==============================] - 28s 72ms/step - loss: 1.3764 - acc: 0.5178 - val_loss: 1.0183 - val_acc: 0.7318\n",
            "\n",
            "Epoch 00005: val_acc improved from 0.69560 to 0.73180, saving model to ../content/drive/My Drive/model_before_cutout.h5\n",
            "Epoch 6/100\n",
            "390/390 [==============================] - 28s 72ms/step - loss: 1.3211 - acc: 0.5411 - val_loss: 1.0650 - val_acc: 0.7119\n",
            "\n",
            "Epoch 00006: val_acc did not improve from 0.73180\n",
            "Epoch 7/100\n",
            "390/390 [==============================] - 28s 72ms/step - loss: 1.2927 - acc: 0.5502 - val_loss: 0.9216 - val_acc: 0.7680\n",
            "\n",
            "Epoch 00007: val_acc improved from 0.73180 to 0.76800, saving model to ../content/drive/My Drive/model_before_cutout.h5\n",
            "Epoch 8/100\n",
            "390/390 [==============================] - 28s 72ms/step - loss: 1.2499 - acc: 0.5647 - val_loss: 0.8739 - val_acc: 0.7853\n",
            "\n",
            "Epoch 00008: val_acc improved from 0.76800 to 0.78530, saving model to ../content/drive/My Drive/model_before_cutout.h5\n",
            "Epoch 9/100\n",
            "390/390 [==============================] - 28s 72ms/step - loss: 1.2271 - acc: 0.5747 - val_loss: 0.9134 - val_acc: 0.7629\n",
            "\n",
            "Epoch 00009: val_acc did not improve from 0.78530\n",
            "Epoch 10/100\n",
            "390/390 [==============================] - 28s 72ms/step - loss: 1.1981 - acc: 0.5796 - val_loss: 0.9084 - val_acc: 0.7589\n",
            "\n",
            "Epoch 00010: val_acc did not improve from 0.78530\n",
            "Epoch 11/100\n",
            "390/390 [==============================] - 28s 72ms/step - loss: 1.1822 - acc: 0.5845 - val_loss: 0.8175 - val_acc: 0.7900\n",
            "\n",
            "Epoch 00011: val_acc improved from 0.78530 to 0.79000, saving model to ../content/drive/My Drive/model_before_cutout.h5\n",
            "Epoch 12/100\n",
            "390/390 [==============================] - 28s 72ms/step - loss: 1.1617 - acc: 0.5895 - val_loss: 0.7641 - val_acc: 0.8072\n",
            "\n",
            "Epoch 00012: val_acc improved from 0.79000 to 0.80720, saving model to ../content/drive/My Drive/model_before_cutout.h5\n",
            "Epoch 13/100\n",
            "390/390 [==============================] - 28s 72ms/step - loss: 1.1406 - acc: 0.5974 - val_loss: 0.8476 - val_acc: 0.7767\n",
            "\n",
            "Epoch 00013: val_acc did not improve from 0.80720\n",
            "Epoch 14/100\n",
            "390/390 [==============================] - 28s 72ms/step - loss: 1.1174 - acc: 0.6054 - val_loss: 0.7447 - val_acc: 0.8111\n",
            "\n",
            "Epoch 00014: val_acc improved from 0.80720 to 0.81110, saving model to ../content/drive/My Drive/model_before_cutout.h5\n",
            "Epoch 15/100\n",
            "390/390 [==============================] - 28s 72ms/step - loss: 1.1038 - acc: 0.6083 - val_loss: 0.7156 - val_acc: 0.8144\n",
            "\n",
            "Epoch 00015: val_acc improved from 0.81110 to 0.81440, saving model to ../content/drive/My Drive/model_before_cutout.h5\n",
            "Epoch 16/100\n",
            "390/390 [==============================] - 28s 72ms/step - loss: 1.0818 - acc: 0.6157 - val_loss: 0.7167 - val_acc: 0.8169\n",
            "\n",
            "Epoch 00016: val_acc improved from 0.81440 to 0.81690, saving model to ../content/drive/My Drive/model_before_cutout.h5\n",
            "Epoch 17/100\n",
            "390/390 [==============================] - 28s 72ms/step - loss: 1.0709 - acc: 0.6167 - val_loss: 0.7250 - val_acc: 0.8170\n",
            "\n",
            "Epoch 00017: val_acc improved from 0.81690 to 0.81700, saving model to ../content/drive/My Drive/model_before_cutout.h5\n",
            "Epoch 18/100\n",
            "390/390 [==============================] - 28s 72ms/step - loss: 1.0549 - acc: 0.6231 - val_loss: 0.7187 - val_acc: 0.8174\n",
            "\n",
            "Epoch 00018: val_acc improved from 0.81700 to 0.81740, saving model to ../content/drive/My Drive/model_before_cutout.h5\n",
            "Epoch 19/100\n",
            "390/390 [==============================] - 28s 72ms/step - loss: 1.0516 - acc: 0.6241 - val_loss: 0.6971 - val_acc: 0.8216\n",
            "\n",
            "Epoch 00019: val_acc improved from 0.81740 to 0.82160, saving model to ../content/drive/My Drive/model_before_cutout.h5\n",
            "Epoch 20/100\n",
            "390/390 [==============================] - 28s 72ms/step - loss: 1.0363 - acc: 0.6285 - val_loss: 0.7102 - val_acc: 0.8155\n",
            "\n",
            "Epoch 00020: val_acc did not improve from 0.82160\n",
            "Epoch 21/100\n",
            "390/390 [==============================] - 28s 72ms/step - loss: 1.0248 - acc: 0.6327 - val_loss: 0.6731 - val_acc: 0.8317\n",
            "\n",
            "Epoch 00021: val_acc improved from 0.82160 to 0.83170, saving model to ../content/drive/My Drive/model_before_cutout.h5\n",
            "Epoch 22/100\n",
            "390/390 [==============================] - 28s 72ms/step - loss: 1.0154 - acc: 0.6327 - val_loss: 0.7022 - val_acc: 0.8079\n",
            "\n",
            "Epoch 00022: val_acc did not improve from 0.83170\n",
            "Epoch 23/100\n",
            "390/390 [==============================] - 28s 72ms/step - loss: 1.0040 - acc: 0.6392 - val_loss: 0.6568 - val_acc: 0.8288\n",
            "\n",
            "Epoch 00023: val_acc did not improve from 0.83170\n",
            "Epoch 24/100\n",
            "390/390 [==============================] - 28s 72ms/step - loss: 0.9915 - acc: 0.6417 - val_loss: 0.6650 - val_acc: 0.8316\n",
            "\n",
            "Epoch 00024: val_acc did not improve from 0.83170\n",
            "Epoch 25/100\n",
            "390/390 [==============================] - 28s 72ms/step - loss: 0.9822 - acc: 0.6450 - val_loss: 0.6630 - val_acc: 0.8234\n",
            "\n",
            "Epoch 00025: val_acc did not improve from 0.83170\n",
            "Epoch 26/100\n",
            "390/390 [==============================] - 28s 72ms/step - loss: 0.9730 - acc: 0.6481 - val_loss: 0.6749 - val_acc: 0.8194\n",
            "\n",
            "Epoch 00026: val_acc did not improve from 0.83170\n",
            "\n",
            "Epoch 00026: ReduceLROnPlateau reducing learning rate to 0.000800000037997961.\n",
            "Epoch 27/100\n",
            "390/390 [==============================] - 28s 71ms/step - loss: 0.9528 - acc: 0.6545 - val_loss: 0.6524 - val_acc: 0.8228\n",
            "\n",
            "Epoch 00027: val_acc did not improve from 0.83170\n",
            "Epoch 28/100\n",
            "390/390 [==============================] - 28s 72ms/step - loss: 0.9457 - acc: 0.6561 - val_loss: 0.6395 - val_acc: 0.8334\n",
            "\n",
            "Epoch 00028: val_acc improved from 0.83170 to 0.83340, saving model to ../content/drive/My Drive/model_before_cutout.h5\n",
            "Epoch 29/100\n",
            "390/390 [==============================] - 28s 72ms/step - loss: 0.9348 - acc: 0.6610 - val_loss: 0.6001 - val_acc: 0.8455\n",
            "\n",
            "Epoch 00029: val_acc improved from 0.83340 to 0.84550, saving model to ../content/drive/My Drive/model_before_cutout.h5\n",
            "Epoch 30/100\n",
            "390/390 [==============================] - 28s 72ms/step - loss: 0.9406 - acc: 0.6560 - val_loss: 0.6280 - val_acc: 0.8377\n",
            "\n",
            "Epoch 00030: val_acc did not improve from 0.84550\n",
            "Epoch 31/100\n",
            "390/390 [==============================] - 28s 72ms/step - loss: 0.9275 - acc: 0.6645 - val_loss: 0.6013 - val_acc: 0.8448\n",
            "\n",
            "Epoch 00031: val_acc did not improve from 0.84550\n",
            "Epoch 32/100\n",
            "390/390 [==============================] - 28s 72ms/step - loss: 0.9224 - acc: 0.6645 - val_loss: 0.6012 - val_acc: 0.8423\n",
            "\n",
            "Epoch 00032: val_acc did not improve from 0.84550\n",
            "Epoch 33/100\n",
            "390/390 [==============================] - 28s 72ms/step - loss: 0.9210 - acc: 0.6643 - val_loss: 0.6043 - val_acc: 0.8423\n",
            "\n",
            "Epoch 00033: val_acc did not improve from 0.84550\n",
            "Epoch 34/100\n",
            "390/390 [==============================] - 28s 72ms/step - loss: 0.9130 - acc: 0.6684 - val_loss: 0.6091 - val_acc: 0.8395\n",
            "\n",
            "Epoch 00034: val_acc did not improve from 0.84550\n",
            "\n",
            "Epoch 00034: ReduceLROnPlateau reducing learning rate to 0.0006400000303983689.\n",
            "Epoch 35/100\n",
            "390/390 [==============================] - 28s 72ms/step - loss: 0.9036 - acc: 0.6696 - val_loss: 0.5806 - val_acc: 0.8504\n",
            "\n",
            "Epoch 00035: val_acc improved from 0.84550 to 0.85040, saving model to ../content/drive/My Drive/model_before_cutout.h5\n",
            "Epoch 36/100\n",
            "390/390 [==============================] - 28s 72ms/step - loss: 0.8979 - acc: 0.6718 - val_loss: 0.5805 - val_acc: 0.8462\n",
            "\n",
            "Epoch 00036: val_acc did not improve from 0.85040\n",
            "Epoch 37/100\n",
            "390/390 [==============================] - 28s 72ms/step - loss: 0.8878 - acc: 0.6760 - val_loss: 0.6187 - val_acc: 0.8379\n",
            "\n",
            "Epoch 00037: val_acc did not improve from 0.85040\n",
            "Epoch 38/100\n",
            "390/390 [==============================] - 28s 72ms/step - loss: 0.8943 - acc: 0.6726 - val_loss: 0.5911 - val_acc: 0.8468\n",
            "\n",
            "Epoch 00038: val_acc did not improve from 0.85040\n",
            "Epoch 39/100\n",
            "390/390 [==============================] - 28s 72ms/step - loss: 0.8877 - acc: 0.6766 - val_loss: 0.5750 - val_acc: 0.8500\n",
            "\n",
            "Epoch 00039: val_acc did not improve from 0.85040\n",
            "Epoch 40/100\n",
            "390/390 [==============================] - 28s 72ms/step - loss: 0.8816 - acc: 0.6786 - val_loss: 0.5811 - val_acc: 0.8497\n",
            "\n",
            "Epoch 00040: val_acc did not improve from 0.85040\n",
            "\n",
            "Epoch 00040: ReduceLROnPlateau reducing learning rate to 0.0005120000336319208.\n",
            "Epoch 41/100\n",
            "390/390 [==============================] - 28s 72ms/step - loss: 0.8734 - acc: 0.6806 - val_loss: 0.5836 - val_acc: 0.8458\n",
            "\n",
            "Epoch 00041: val_acc did not improve from 0.85040\n",
            "Epoch 42/100\n",
            "390/390 [==============================] - 28s 72ms/step - loss: 0.8715 - acc: 0.6809 - val_loss: 0.5685 - val_acc: 0.8521\n",
            "\n",
            "Epoch 00042: val_acc improved from 0.85040 to 0.85210, saving model to ../content/drive/My Drive/model_before_cutout.h5\n",
            "Epoch 43/100\n",
            "390/390 [==============================] - 28s 72ms/step - loss: 0.8636 - acc: 0.6829 - val_loss: 0.5707 - val_acc: 0.8514\n",
            "\n",
            "Epoch 00043: val_acc did not improve from 0.85210\n",
            "Epoch 44/100\n",
            "390/390 [==============================] - 28s 72ms/step - loss: 0.8557 - acc: 0.6860 - val_loss: 0.5645 - val_acc: 0.8493\n",
            "\n",
            "Epoch 00044: val_acc did not improve from 0.85210\n",
            "Epoch 45/100\n",
            "390/390 [==============================] - 28s 72ms/step - loss: 0.8683 - acc: 0.6811 - val_loss: 0.6015 - val_acc: 0.8424\n",
            "\n",
            "Epoch 00045: val_acc did not improve from 0.85210\n",
            "Epoch 46/100\n",
            "390/390 [==============================] - 28s 72ms/step - loss: 0.8650 - acc: 0.6807 - val_loss: 0.6080 - val_acc: 0.8406\n",
            "\n",
            "Epoch 00046: val_acc did not improve from 0.85210\n",
            "Epoch 47/100\n",
            "390/390 [==============================] - 28s 71ms/step - loss: 0.8566 - acc: 0.6867 - val_loss: 0.5643 - val_acc: 0.8530\n",
            "\n",
            "Epoch 00047: val_acc improved from 0.85210 to 0.85300, saving model to ../content/drive/My Drive/model_before_cutout.h5\n",
            "Epoch 48/100\n",
            "390/390 [==============================] - 28s 72ms/step - loss: 0.8611 - acc: 0.6852 - val_loss: 0.5706 - val_acc: 0.8480\n",
            "\n",
            "Epoch 00048: val_acc did not improve from 0.85300\n",
            "Epoch 49/100\n",
            "390/390 [==============================] - 28s 72ms/step - loss: 0.8512 - acc: 0.6889 - val_loss: 0.5761 - val_acc: 0.8501\n",
            "\n",
            "Epoch 00049: val_acc did not improve from 0.85300\n",
            "Epoch 50/100\n",
            "390/390 [==============================] - 28s 72ms/step - loss: 0.8605 - acc: 0.6831 - val_loss: 0.5916 - val_acc: 0.8447\n",
            "\n",
            "Epoch 00050: val_acc did not improve from 0.85300\n",
            "Epoch 51/100\n",
            "390/390 [==============================] - 28s 72ms/step - loss: 0.8540 - acc: 0.6866 - val_loss: 0.5527 - val_acc: 0.8546\n",
            "\n",
            "Epoch 00051: val_acc improved from 0.85300 to 0.85460, saving model to ../content/drive/My Drive/model_before_cutout.h5\n",
            "Epoch 52/100\n",
            "390/390 [==============================] - 28s 72ms/step - loss: 0.8572 - acc: 0.6853 - val_loss: 0.5602 - val_acc: 0.8531\n",
            "\n",
            "Epoch 00052: val_acc did not improve from 0.85460\n",
            "Epoch 53/100\n",
            "390/390 [==============================] - 28s 72ms/step - loss: 0.8496 - acc: 0.6882 - val_loss: 0.5993 - val_acc: 0.8428\n",
            "\n",
            "Epoch 00053: val_acc did not improve from 0.85460\n",
            "Epoch 54/100\n",
            "390/390 [==============================] - 28s 72ms/step - loss: 0.8462 - acc: 0.6896 - val_loss: 0.5491 - val_acc: 0.8589\n",
            "\n",
            "Epoch 00054: val_acc improved from 0.85460 to 0.85890, saving model to ../content/drive/My Drive/model_before_cutout.h5\n",
            "Epoch 55/100\n",
            "390/390 [==============================] - 28s 72ms/step - loss: 0.8434 - acc: 0.6902 - val_loss: 0.5569 - val_acc: 0.8549\n",
            "\n",
            "Epoch 00055: val_acc did not improve from 0.85890\n",
            "Epoch 56/100\n",
            "390/390 [==============================] - 28s 72ms/step - loss: 0.8481 - acc: 0.6885 - val_loss: 0.5554 - val_acc: 0.8549\n",
            "\n",
            "Epoch 00056: val_acc did not improve from 0.85890\n",
            "Epoch 57/100\n",
            "390/390 [==============================] - 28s 72ms/step - loss: 0.8466 - acc: 0.6886 - val_loss: 0.5601 - val_acc: 0.8533\n",
            "\n",
            "Epoch 00057: val_acc did not improve from 0.85890\n",
            "Epoch 58/100\n",
            "390/390 [==============================] - 28s 72ms/step - loss: 0.8435 - acc: 0.6905 - val_loss: 0.5779 - val_acc: 0.8500\n",
            "\n",
            "Epoch 00058: val_acc did not improve from 0.85890\n",
            "Epoch 59/100\n",
            "390/390 [==============================] - 28s 72ms/step - loss: 0.8489 - acc: 0.6878 - val_loss: 0.5512 - val_acc: 0.8582\n",
            "\n",
            "Epoch 00059: val_acc did not improve from 0.85890\n",
            "\n",
            "Epoch 00059: ReduceLROnPlateau reducing learning rate to 0.00040960004553198815.\n",
            "Epoch 60/100\n",
            "390/390 [==============================] - 28s 72ms/step - loss: 0.8385 - acc: 0.6926 - val_loss: 0.5600 - val_acc: 0.8533\n",
            "\n",
            "Epoch 00060: val_acc did not improve from 0.85890\n",
            "Epoch 61/100\n",
            "390/390 [==============================] - 28s 73ms/step - loss: 0.8383 - acc: 0.6920 - val_loss: 0.5478 - val_acc: 0.8561\n",
            "\n",
            "Epoch 00061: val_acc did not improve from 0.85890\n",
            "Epoch 62/100\n",
            "390/390 [==============================] - 28s 72ms/step - loss: 0.8297 - acc: 0.6991 - val_loss: 0.5600 - val_acc: 0.8536\n",
            "\n",
            "Epoch 00062: val_acc did not improve from 0.85890\n",
            "Epoch 63/100\n",
            "390/390 [==============================] - 28s 72ms/step - loss: 0.8371 - acc: 0.6927 - val_loss: 0.5603 - val_acc: 0.8557\n",
            "\n",
            "Epoch 00063: val_acc did not improve from 0.85890\n",
            "Epoch 64/100\n",
            "390/390 [==============================] - 28s 72ms/step - loss: 0.8271 - acc: 0.6950 - val_loss: 0.5489 - val_acc: 0.8556\n",
            "\n",
            "Epoch 00064: val_acc did not improve from 0.85890\n",
            "\n",
            "Epoch 00064: ReduceLROnPlateau reducing learning rate to 0.00032768002711236477.\n",
            "Epoch 65/100\n",
            "390/390 [==============================] - 28s 72ms/step - loss: 0.8210 - acc: 0.6990 - val_loss: 0.5452 - val_acc: 0.8552\n",
            "\n",
            "Epoch 00065: val_acc did not improve from 0.85890\n",
            "Epoch 66/100\n",
            "390/390 [==============================] - 28s 72ms/step - loss: 0.8328 - acc: 0.6943 - val_loss: 0.5751 - val_acc: 0.8481\n",
            "\n",
            "Epoch 00066: val_acc did not improve from 0.85890\n",
            "Epoch 67/100\n",
            "390/390 [==============================] - 28s 72ms/step - loss: 0.8177 - acc: 0.7010 - val_loss: 0.5603 - val_acc: 0.8562\n",
            "\n",
            "Epoch 00067: val_acc did not improve from 0.85890\n",
            "Epoch 68/100\n",
            "390/390 [==============================] - 28s 72ms/step - loss: 0.8281 - acc: 0.6975 - val_loss: 0.5479 - val_acc: 0.8572\n",
            "\n",
            "Epoch 00068: val_acc did not improve from 0.85890\n",
            "Epoch 69/100\n",
            "390/390 [==============================] - 28s 72ms/step - loss: 0.8202 - acc: 0.6976 - val_loss: 0.5544 - val_acc: 0.8565\n",
            "\n",
            "Epoch 00069: val_acc did not improve from 0.85890\n",
            "\n",
            "Epoch 00069: ReduceLROnPlateau reducing learning rate to 0.0002621440216898918.\n",
            "Epoch 70/100\n",
            "390/390 [==============================] - 28s 72ms/step - loss: 0.8264 - acc: 0.6958 - val_loss: 0.5425 - val_acc: 0.8606\n",
            "\n",
            "Epoch 00070: val_acc improved from 0.85890 to 0.86060, saving model to ../content/drive/My Drive/model_before_cutout.h5\n",
            "Epoch 71/100\n",
            "390/390 [==============================] - 28s 72ms/step - loss: 0.8211 - acc: 0.6985 - val_loss: 0.5433 - val_acc: 0.8619\n",
            "\n",
            "Epoch 00071: val_acc improved from 0.86060 to 0.86190, saving model to ../content/drive/My Drive/model_before_cutout.h5\n",
            "Epoch 72/100\n",
            "390/390 [==============================] - 28s 72ms/step - loss: 0.8171 - acc: 0.6995 - val_loss: 0.5378 - val_acc: 0.8625\n",
            "\n",
            "Epoch 00072: val_acc improved from 0.86190 to 0.86250, saving model to ../content/drive/My Drive/model_before_cutout.h5\n",
            "Epoch 73/100\n",
            "390/390 [==============================] - 28s 72ms/step - loss: 0.8232 - acc: 0.6974 - val_loss: 0.5452 - val_acc: 0.8614\n",
            "\n",
            "Epoch 00073: val_acc did not improve from 0.86250\n",
            "Epoch 74/100\n",
            "390/390 [==============================] - 28s 72ms/step - loss: 0.8231 - acc: 0.7008 - val_loss: 0.5489 - val_acc: 0.8580\n",
            "\n",
            "Epoch 00074: val_acc did not improve from 0.86250\n",
            "Epoch 75/100\n",
            "390/390 [==============================] - 28s 72ms/step - loss: 0.8193 - acc: 0.6991 - val_loss: 0.5423 - val_acc: 0.8613\n",
            "\n",
            "Epoch 00075: val_acc did not improve from 0.86250\n",
            "Epoch 76/100\n",
            "390/390 [==============================] - 28s 72ms/step - loss: 0.8225 - acc: 0.6989 - val_loss: 0.5386 - val_acc: 0.8625\n",
            "\n",
            "Epoch 00076: val_acc did not improve from 0.86250\n",
            "Epoch 77/100\n",
            "390/390 [==============================] - 28s 72ms/step - loss: 0.8209 - acc: 0.6996 - val_loss: 0.5599 - val_acc: 0.8535\n",
            "\n",
            "Epoch 00077: val_acc did not improve from 0.86250\n",
            "\n",
            "Epoch 00077: ReduceLROnPlateau reducing learning rate to 0.00020971521735191345.\n",
            "Epoch 78/100\n",
            "390/390 [==============================] - 28s 72ms/step - loss: 0.8153 - acc: 0.7009 - val_loss: 0.5468 - val_acc: 0.8566\n",
            "\n",
            "Epoch 00078: val_acc did not improve from 0.86250\n",
            "Epoch 79/100\n",
            "390/390 [==============================] - 28s 72ms/step - loss: 0.8116 - acc: 0.7037 - val_loss: 0.5370 - val_acc: 0.8599\n",
            "\n",
            "Epoch 00079: val_acc did not improve from 0.86250\n",
            "Epoch 80/100\n",
            "390/390 [==============================] - 28s 72ms/step - loss: 0.8045 - acc: 0.7044 - val_loss: 0.5393 - val_acc: 0.8599\n",
            "\n",
            "Epoch 00080: val_acc did not improve from 0.86250\n",
            "Epoch 81/100\n",
            "390/390 [==============================] - 28s 72ms/step - loss: 0.8065 - acc: 0.7054 - val_loss: 0.5387 - val_acc: 0.8593\n",
            "\n",
            "Epoch 00081: val_acc did not improve from 0.86250\n",
            "Epoch 82/100\n",
            "390/390 [==============================] - 28s 72ms/step - loss: 0.8125 - acc: 0.7031 - val_loss: 0.5394 - val_acc: 0.8624\n",
            "\n",
            "Epoch 00082: val_acc did not improve from 0.86250\n",
            "\n",
            "Epoch 00082: ReduceLROnPlateau reducing learning rate to 0.00016777217388153076.\n",
            "Epoch 83/100\n",
            "390/390 [==============================] - 28s 72ms/step - loss: 0.8158 - acc: 0.7019 - val_loss: 0.5338 - val_acc: 0.8617\n",
            "\n",
            "Epoch 00083: val_acc did not improve from 0.86250\n",
            "Epoch 84/100\n",
            "390/390 [==============================] - 28s 72ms/step - loss: 0.8116 - acc: 0.7026 - val_loss: 0.5366 - val_acc: 0.8635\n",
            "\n",
            "Epoch 00084: val_acc improved from 0.86250 to 0.86350, saving model to ../content/drive/My Drive/model_before_cutout.h5\n",
            "Epoch 85/100\n",
            "390/390 [==============================] - 28s 72ms/step - loss: 0.8072 - acc: 0.7062 - val_loss: 0.5382 - val_acc: 0.8617\n",
            "\n",
            "Epoch 00085: val_acc did not improve from 0.86350\n",
            "Epoch 86/100\n",
            "390/390 [==============================] - 28s 72ms/step - loss: 0.8091 - acc: 0.7052 - val_loss: 0.5437 - val_acc: 0.8592\n",
            "\n",
            "Epoch 00086: val_acc did not improve from 0.86350\n",
            "Epoch 87/100\n",
            "390/390 [==============================] - 28s 72ms/step - loss: 0.7985 - acc: 0.7076 - val_loss: 0.5402 - val_acc: 0.8616\n",
            "\n",
            "Epoch 00087: val_acc did not improve from 0.86350\n",
            "Epoch 88/100\n",
            "390/390 [==============================] - 28s 72ms/step - loss: 0.8085 - acc: 0.7044 - val_loss: 0.5370 - val_acc: 0.8600\n",
            "\n",
            "Epoch 00088: val_acc did not improve from 0.86350\n",
            "Epoch 89/100\n",
            "390/390 [==============================] - 28s 72ms/step - loss: 0.8050 - acc: 0.7060 - val_loss: 0.5415 - val_acc: 0.8603\n",
            "\n",
            "Epoch 00089: val_acc did not improve from 0.86350\n",
            "\n",
            "Epoch 00089: ReduceLROnPlateau reducing learning rate to 0.00013421773910522462.\n",
            "Epoch 90/100\n",
            "390/390 [==============================] - 28s 72ms/step - loss: 0.8098 - acc: 0.7030 - val_loss: 0.5338 - val_acc: 0.8629\n",
            "\n",
            "Epoch 00090: val_acc did not improve from 0.86350\n",
            "Epoch 91/100\n",
            "390/390 [==============================] - 28s 72ms/step - loss: 0.8031 - acc: 0.7073 - val_loss: 0.5380 - val_acc: 0.8627\n",
            "\n",
            "Epoch 00091: val_acc did not improve from 0.86350\n",
            "Epoch 92/100\n",
            "390/390 [==============================] - 28s 72ms/step - loss: 0.8011 - acc: 0.7084 - val_loss: 0.5317 - val_acc: 0.8626\n",
            "\n",
            "Epoch 00092: val_acc did not improve from 0.86350\n",
            "Epoch 93/100\n",
            "390/390 [==============================] - 28s 72ms/step - loss: 0.8118 - acc: 0.7034 - val_loss: 0.5326 - val_acc: 0.8619\n",
            "\n",
            "Epoch 00093: val_acc did not improve from 0.86350\n",
            "Epoch 94/100\n",
            "390/390 [==============================] - 28s 71ms/step - loss: 0.8142 - acc: 0.6995 - val_loss: 0.5395 - val_acc: 0.8591\n",
            "\n",
            "Epoch 00094: val_acc did not improve from 0.86350\n",
            "\n",
            "Epoch 00094: ReduceLROnPlateau reducing learning rate to 0.00010737419361248613.\n",
            "Epoch 95/100\n",
            "390/390 [==============================] - 28s 72ms/step - loss: 0.8048 - acc: 0.7055 - val_loss: 0.5397 - val_acc: 0.8614\n",
            "\n",
            "Epoch 00095: val_acc did not improve from 0.86350\n",
            "Epoch 96/100\n",
            "390/390 [==============================] - 28s 72ms/step - loss: 0.8047 - acc: 0.7068 - val_loss: 0.5321 - val_acc: 0.8626\n",
            "\n",
            "Epoch 00096: val_acc did not improve from 0.86350\n",
            "Epoch 97/100\n",
            "390/390 [==============================] - 28s 72ms/step - loss: 0.8099 - acc: 0.7015 - val_loss: 0.5254 - val_acc: 0.8654\n",
            "\n",
            "Epoch 00097: val_acc improved from 0.86350 to 0.86540, saving model to ../content/drive/My Drive/model_before_cutout.h5\n",
            "Epoch 98/100\n",
            "390/390 [==============================] - 28s 72ms/step - loss: 0.8069 - acc: 0.7027 - val_loss: 0.5370 - val_acc: 0.8609\n",
            "\n",
            "Epoch 00098: val_acc did not improve from 0.86540\n",
            "Epoch 99/100\n",
            "390/390 [==============================] - 28s 72ms/step - loss: 0.8095 - acc: 0.7047 - val_loss: 0.5314 - val_acc: 0.8620\n",
            "\n",
            "Epoch 00099: val_acc did not improve from 0.86540\n",
            "Epoch 100/100\n",
            "390/390 [==============================] - 28s 72ms/step - loss: 0.8118 - acc: 0.7033 - val_loss: 0.5269 - val_acc: 0.8633\n",
            "\n",
            "Epoch 00100: val_acc did not improve from 0.86540\n",
            "Model took 2827.41 seconds to train\n"
          ],
          "name": "stdout"
        },
        {
          "output_type": "display_data",
          "data": {
            "image/png": "[encoded data removed]",
            "text/plain": [
              "<Figure size 1080x360 with 2 Axes>"
            ]
          },
          "metadata": {
            "tags": []
          }
        },
        {
          "output_type": "stream",
          "text": [
            "Accuracy on test data is: 86.33\n"
          ],
          "name": "stdout"
        }
      ]
    },
    {
      "cell_type": "code",
      "metadata": {
        "id": "7PRMedHcX6yF",
        "colab_type": "code",
        "colab": {
          "base_uri": "https://localhost:8080/",
          "height": 92
        },
        "outputId": "aee11d02-db08-4c32-f2f0-9ec6754d1336"
      },
      "source": [
        "model =keras.models.load_model('../content/drive/My Drive/model_before_cutout.h5')"
      ],
      "execution_count": 13,
      "outputs": [
        {
          "output_type": "stream",
          "text": [
            "W0717 12:31:14.379165 139752369432448 deprecation.py:323] From /usr/local/lib/python3.6/dist-packages/tensorflow/python/ops/math_grad.py:1250: add_dispatch_support.<locals>.wrapper (from tensorflow.python.ops.array_ops) is deprecated and will be removed in a future version.\n",
            "Instructions for updating:\n",
            "Use tf.where in 2.0, which has the same broadcast rule as np.where\n"
          ],
          "name": "stderr"
        }
      ]
    },
    {
      "cell_type": "code",
      "metadata": {
        "id": "F15q9hD0KTB7",
        "colab_type": "code",
        "outputId": "2b1f0b6f-1cea-4c76-bcbf-b03fd3bca046",
        "colab": {
          "base_uri": "https://localhost:8080/",
          "height": 54
        }
      },
      "source": [
        "score = model.evaluate(test_features, test_labels, batch_size=128)\n",
        "print (score[1])"
      ],
      "execution_count": 14,
      "outputs": [
        {
          "output_type": "stream",
          "text": [
            "10000/10000 [==============================] - 4s 427us/step\n",
            "0.8654\n"
          ],
          "name": "stdout"
        }
      ]
    },
    {
      "cell_type": "code",
      "metadata": {
        "id": "50pBUCM9CAZj",
        "colab_type": "code",
        "outputId": "4b0ca12f-88f1-43c8-8af4-07706cead802",
        "colab": {
          "base_uri": "https://localhost:8080/",
          "height": 1000
        }
      },
      "source": [
        "import cv2\n",
        "from google.colab.patches import cv2_imshow\n",
        "\n",
        "(trainX, trainy), (testX, testy) = cifar10.load_data()\n",
        "\n",
        "images = [1,101,201,501,901,1001,1501,1601,2001,4001,5001,6001,7001,8001,9001,9999]\n",
        "for j in images:\n",
        "  x = testX[j]\n",
        "  x = np.expand_dims(x, axis=0)\n",
        "  preds = model.predict(x,batch_size=1)\n",
        "  class_idx = np.argmax(preds[0])\n",
        "  class_output = model.output[:, class_idx]\n",
        "  last_conv_layer = model.get_layer(\"conv2d_6\")\n",
        "\n",
        "\n",
        "  grads = K.gradients(class_output, last_conv_layer.output)[0]\n",
        "  pooled_grads = K.mean(grads, axis=(0, 1, 2))\n",
        "  iterate = K.function([model.input], [pooled_grads, last_conv_layer.output[0]])\n",
        "  pooled_grads_value, conv_layer_output_value = iterate([x])\n",
        "  for i in range(192):\n",
        "    conv_layer_output_value[:, :, i] *= pooled_grads_value[i]\n",
        "  \n",
        "  heatmap = np.mean(conv_layer_output_value, axis=-1)\n",
        "  heatmap = np.maximum(heatmap, 0)\n",
        "  heatmap /= np.max(heatmap)\n",
        "  img = (testX[j])\n",
        "  heatmap = cv2.resize(heatmap, (img.shape[1], img.shape[0]))\n",
        "  heatmap = np.uint8(255 * heatmap)\n",
        "  heatmap = cv2.applyColorMap(heatmap, cv2.COLORMAP_JET)\n",
        "\n",
        "  superimposed_img = cv2.addWeighted(img, 0.6, heatmap, 0.4, 0)\n",
        "  #cv2_imshow(img)\n",
        "  #cv2_imshow(superimposed_img)\n",
        "  concatimg = cv2.hconcat([img,superimposed_img])\n",
        "  # Display the concatenated image\n",
        "  print (j)\n",
        "  cv2_imshow(concatimg)\n",
        "  cv2.waitKey(0)\n",
        "  print (\" \")\n",
        "  j = j + 1\n"
      ],
      "execution_count": 15,
      "outputs": [
        {
          "output_type": "stream",
          "text": [
            "1\n"
          ],
          "name": "stdout"
        },
        {
          "output_type": "stream",
          "text": [
            "/usr/local/lib/python3.6/dist-packages/ipykernel_launcher.py:25: RuntimeWarning: invalid value encountered in true_divide\n"
          ],
          "name": "stderr"
        },
        {
          "output_type": "display_data",
          "data": {
            "image/png": "[encoded data removed]",
            "text/plain": [
              "<PIL.Image.Image image mode=RGB size=64x32 at 0x7F19FFCF2C18>"
            ]
          },
          "metadata": {
            "tags": []
          }
        },
        {
          "output_type": "stream",
          "text": [
            " \n",
            "101\n"
          ],
          "name": "stdout"
        },
        {
          "output_type": "stream",
          "text": [
            "/usr/local/lib/python3.6/dist-packages/ipykernel_launcher.py:25: RuntimeWarning: invalid value encountered in true_divide\n"
          ],
          "name": "stderr"
        },
        {
          "output_type": "display_data",
          "data": {
            "image/png": "[encoded data removed]",
            "text/plain": [
              "<PIL.Image.Image image mode=RGB size=64x32 at 0x7F19FF28AAC8>"
            ]
          },
          "metadata": {
            "tags": []
          }
        },
        {
          "output_type": "stream",
          "text": [
            " \n",
            "201\n"
          ],
          "name": "stdout"
        },
        {
          "output_type": "display_data",
          "data": {
            "image/png": "[encoded data removed]",
            "text/plain": [
              "<PIL.Image.Image image mode=RGB size=64x32 at 0x7F1A07D34A20>"
            ]
          },
          "metadata": {
            "tags": []
          }
        },
        {
          "output_type": "stream",
          "text": [
            " \n",
            "501\n"
          ],
          "name": "stdout"
        },
        {
          "output_type": "stream",
          "text": [
            "/usr/local/lib/python3.6/dist-packages/ipykernel_launcher.py:25: RuntimeWarning: invalid value encountered in true_divide\n"
          ],
          "name": "stderr"
        },
        {
          "output_type": "display_data",
          "data": {
            "image/png": "[encoded data removed]",
            "text/plain": [
              "<PIL.Image.Image image mode=RGB size=64x32 at 0x7F1A07D34828>"
            ]
          },
          "metadata": {
            "tags": []
          }
        },
        {
          "output_type": "stream",
          "text": [
            " \n",
            "901\n"
          ],
          "name": "stdout"
        },
        {
          "output_type": "stream",
          "text": [
            "/usr/local/lib/python3.6/dist-packages/ipykernel_launcher.py:25: RuntimeWarning: invalid value encountered in true_divide\n"
          ],
          "name": "stderr"
        },
        {
          "output_type": "display_data",
          "data": {
            "image/png": "[encoded data removed]",
            "text/plain": [
              "<PIL.Image.Image image mode=RGB size=64x32 at 0x7F19FEFF0898>"
            ]
          },
          "metadata": {
            "tags": []
          }
        },
        {
          "output_type": "stream",
          "text": [
            " \n",
            "1001\n"
          ],
          "name": "stdout"
        },
        {
          "output_type": "display_data",
          "data": {
            "image/png": "[encoded data removed]",
            "text/plain": [
              "<PIL.Image.Image image mode=RGB size=64x32 at 0x7F19FEE88B70>"
            ]
          },
          "metadata": {
            "tags": []
          }
        },
        {
          "output_type": "stream",
          "text": [
            " \n",
            "1501\n"
          ],
          "name": "stdout"
        },
        {
          "output_type": "stream",
          "text": [
            "/usr/local/lib/python3.6/dist-packages/ipykernel_launcher.py:25: RuntimeWarning: invalid value encountered in true_divide\n"
          ],
          "name": "stderr"
        },
        {
          "output_type": "display_data",
          "data": {
            "image/png": "[encoded data removed]",
            "text/plain": [
              "<PIL.Image.Image image mode=RGB size=64x32 at 0x7F19FFCF2CC0>"
            ]
          },
          "metadata": {
            "tags": []
          }
        },
        {
          "output_type": "stream",
          "text": [
            " \n",
            "1601\n"
          ],
          "name": "stdout"
        },
        {
          "output_type": "stream",
          "text": [
            "/usr/local/lib/python3.6/dist-packages/ipykernel_launcher.py:25: RuntimeWarning: invalid value encountered in true_divide\n"
          ],
          "name": "stderr"
        },
        {
          "output_type": "display_data",
          "data": {
            "image/png": "[encoded data removed]",
            "text/plain": [
              "<PIL.Image.Image image mode=RGB size=64x32 at 0x7F1A07D34828>"
            ]
          },
          "metadata": {
            "tags": []
          }
        },
        {
          "output_type": "stream",
          "text": [
            " \n",
            "2001\n"
          ],
          "name": "stdout"
        },
        {
          "output_type": "stream",
          "text": [
            "/usr/local/lib/python3.6/dist-packages/ipykernel_launcher.py:25: RuntimeWarning: invalid value encountered in true_divide\n"
          ],
          "name": "stderr"
        },
        {
          "output_type": "display_data",
          "data": {
            "image/png": "[encoded data removed]",
            "text/plain": [
              "<PIL.Image.Image image mode=RGB size=64x32 at 0x7F19FE90B7B8>"
            ]
          },
          "metadata": {
            "tags": []
          }
        },
        {
          "output_type": "stream",
          "text": [
            " \n",
            "4001\n"
          ],
          "name": "stdout"
        },
        {
          "output_type": "stream",
          "text": [
            "/usr/local/lib/python3.6/dist-packages/ipykernel_launcher.py:25: RuntimeWarning: invalid value encountered in true_divide\n"
          ],
          "name": "stderr"
        },
        {
          "output_type": "display_data",
          "data": {
            "image/png": "[encoded data removed]",
            "text/plain": [
              "<PIL.Image.Image image mode=RGB size=64x32 at 0x7F19FEFF7F28>"
            ]
          },
          "metadata": {
            "tags": []
          }
        },
        {
          "output_type": "stream",
          "text": [
            " \n",
            "5001\n"
          ],
          "name": "stdout"
        },
        {
          "output_type": "stream",
          "text": [
            "/usr/local/lib/python3.6/dist-packages/ipykernel_launcher.py:25: RuntimeWarning: invalid value encountered in true_divide\n"
          ],
          "name": "stderr"
        },
        {
          "output_type": "display_data",
          "data": {
            "image/png": "[encoded data removed]",
            "text/plain": [
              "<PIL.Image.Image image mode=RGB size=64x32 at 0x7F19FEC090B8>"
            ]
          },
          "metadata": {
            "tags": []
          }
        },
        {
          "output_type": "stream",
          "text": [
            " \n",
            "6001\n"
          ],
          "name": "stdout"
        },
        {
          "output_type": "display_data",
          "data": {
            "image/png": "[encoded data removed]",
            "text/plain": [
              "<PIL.Image.Image image mode=RGB size=64x32 at 0x7F19FE74AEB8>"
            ]
          },
          "metadata": {
            "tags": []
          }
        },
        {
          "output_type": "stream",
          "text": [
            " \n",
            "7001\n"
          ],
          "name": "stdout"
        },
        {
          "output_type": "stream",
          "text": [
            "/usr/local/lib/python3.6/dist-packages/ipykernel_launcher.py:25: RuntimeWarning: invalid value encountered in true_divide\n"
          ],
          "name": "stderr"
        },
        {
          "output_type": "display_data",
          "data": {
            "image/png": "[encoded data removed]",
            "text/plain": [
              "<PIL.Image.Image image mode=RGB size=64x32 at 0x7F19FE497F98>"
            ]
          },
          "metadata": {
            "tags": []
          }
        },
        {
          "output_type": "stream",
          "text": [
            " \n",
            "8001\n"
          ],
          "name": "stdout"
        },
        {
          "output_type": "stream",
          "text": [
            "/usr/local/lib/python3.6/dist-packages/ipykernel_launcher.py:25: RuntimeWarning: invalid value encountered in true_divide\n"
          ],
          "name": "stderr"
        },
        {
          "output_type": "display_data",
          "data": {
            "image/png": "[encoded data removed]",
            "text/plain": [
              "<PIL.Image.Image image mode=RGB size=64x32 at 0x7F19FE648978>"
            ]
          },
          "metadata": {
            "tags": []
          }
        },
        {
          "output_type": "stream",
          "text": [
            " \n",
            "9001\n"
          ],
          "name": "stdout"
        },
        {
          "output_type": "display_data",
          "data": {
            "image/png": "[encoded data removed]",
            "text/plain": [
              "<PIL.Image.Image image mode=RGB size=64x32 at 0x7F19FE0FCCC0>"
            ]
          },
          "metadata": {
            "tags": []
          }
        },
        {
          "output_type": "stream",
          "text": [
            " \n",
            "9999\n"
          ],
          "name": "stdout"
        },
        {
          "output_type": "stream",
          "text": [
            "/usr/local/lib/python3.6/dist-packages/ipykernel_launcher.py:25: RuntimeWarning: invalid value encountered in true_divide\n"
          ],
          "name": "stderr"
        },
        {
          "output_type": "display_data",
          "data": {
            "image/png": "[encoded data removed]",
            "text/plain": [
              "<PIL.Image.Image image mode=RGB size=64x32 at 0x7F19FE06CEB8>"
            ]
          },
          "metadata": {
            "tags": []
          }
        },
        {
          "output_type": "stream",
          "text": [
            " \n"
          ],
          "name": "stdout"
        }
      ]
    },
    {
      "cell_type": "markdown",
      "metadata": {
        "id": "mO06K5GO9Ca5",
        "colab_type": "text"
      },
      "source": [
        "* Using Cutout"
      ]
    },
    {
      "cell_type": "code",
      "metadata": {
        "id": "3H2JpRt-C4Yo",
        "colab_type": "code",
        "outputId": "e4f7bab5-ebb2-46e7-da46-2a2dda96ab33",
        "colab": {
          "base_uri": "https://localhost:8080/",
          "height": 239
        }
      },
      "source": [
        "# Define model again and use cutout\n",
        "from keras import regularizers\n",
        "# Define the model\n",
        "model = Sequential()\n",
        "model.add(Convolution2D(48, 3, 3, border_mode='same', input_shape=(32, 32, 3))) # 32x32 x48\n",
        "model.add(BatchNormalization())\n",
        "model.add(Activation('relu'))\n",
        "model.add(Dropout(0.1))\n",
        "\n",
        "model.add(Convolution2D(48, 3, 3)) # 30x30 x48\n",
        "model.add(Activation('relu'))\n",
        "\n",
        "\n",
        "model.add(MaxPooling2D(pool_size=(2, 2))) #15 x15 x48\n",
        "\n",
        "\n",
        "model.add(Convolution2D(96, 3, 3, border_mode='same')) #15x15 x96\n",
        "model.add(BatchNormalization())\n",
        "model.add(Activation('relu'))\n",
        "model.add(Dropout(0.1))\n",
        "          \n",
        "model.add(Convolution2D(96, 3, 3)) # 13x13 x96\n",
        "model.add(Activation('relu'))\n",
        "\n",
        "model.add(MaxPooling2D(pool_size=(2, 2))) #6x6x96\n",
        "\n",
        "model.add(Convolution2D(192, 3, 3, border_mode='same')) #6x6x192\n",
        "model.add(BatchNormalization())\n",
        "model.add(Activation('relu'))\n",
        "model.add(Dropout(0.15))\n",
        "\n",
        "model.add(Convolution2D(192, 3, 3)) #4x4x192\n",
        "model.add(BatchNormalization())\n",
        "model.add(Activation('relu'))\n",
        "model.add(Dropout(0.15))\n",
        "\n",
        "model.add(Convolution2D(10, 4, 4))\n",
        "model.add(BatchNormalization()) \n",
        "model.add(Activation('relu'))\n",
        "model.add(Dropout(0.5))\n",
        "\n",
        "model.add(Convolution2D(10, 1, 1, border_mode='same'))\n",
        "model.add(BatchNormalization())\n",
        "model.add(Dropout(0.1))\n",
        "\n",
        "model.add(Flatten())\n",
        "model.add(Activation('softmax'))\n",
        "\n",
        "# Compile the model\n",
        "model.compile(optimizer='adam', loss='categorical_crossentropy', metrics=['accuracy'])"
      ],
      "execution_count": 16,
      "outputs": [
        {
          "output_type": "stream",
          "text": [
            "/usr/local/lib/python3.6/dist-packages/ipykernel_launcher.py:4: UserWarning: Update your `Conv2D` call to the Keras 2 API: `Conv2D(48, (3, 3), input_shape=(32, 32, 3..., padding=\"same\")`\n",
            "  after removing the cwd from sys.path.\n",
            "/usr/local/lib/python3.6/dist-packages/ipykernel_launcher.py:9: UserWarning: Update your `Conv2D` call to the Keras 2 API: `Conv2D(48, (3, 3))`\n",
            "  if __name__ == '__main__':\n",
            "/usr/local/lib/python3.6/dist-packages/ipykernel_launcher.py:16: UserWarning: Update your `Conv2D` call to the Keras 2 API: `Conv2D(96, (3, 3), padding=\"same\")`\n",
            "  app.launch_new_instance()\n",
            "/usr/local/lib/python3.6/dist-packages/ipykernel_launcher.py:21: UserWarning: Update your `Conv2D` call to the Keras 2 API: `Conv2D(96, (3, 3))`\n",
            "/usr/local/lib/python3.6/dist-packages/ipykernel_launcher.py:26: UserWarning: Update your `Conv2D` call to the Keras 2 API: `Conv2D(192, (3, 3), padding=\"same\")`\n",
            "/usr/local/lib/python3.6/dist-packages/ipykernel_launcher.py:31: UserWarning: Update your `Conv2D` call to the Keras 2 API: `Conv2D(192, (3, 3))`\n",
            "/usr/local/lib/python3.6/dist-packages/ipykernel_launcher.py:36: UserWarning: Update your `Conv2D` call to the Keras 2 API: `Conv2D(10, (4, 4))`\n",
            "/usr/local/lib/python3.6/dist-packages/ipykernel_launcher.py:41: UserWarning: Update your `Conv2D` call to the Keras 2 API: `Conv2D(10, (1, 1), padding=\"same\")`\n"
          ],
          "name": "stderr"
        }
      ]
    },
    {
      "cell_type": "code",
      "metadata": {
        "id": "La6GKo3SC_xt",
        "colab_type": "code",
        "outputId": "4c99c41e-287b-452e-b946-a1e7192fd6f7",
        "colab": {
          "base_uri": "https://localhost:8080/",
          "height": 1000
        }
      },
      "source": [
        "model.summary()"
      ],
      "execution_count": 17,
      "outputs": [
        {
          "output_type": "stream",
          "text": [
            "_________________________________________________________________\n",
            "Layer (type)                 Output Shape              Param #   \n",
            "=================================================================\n",
            "conv2d_9 (Conv2D)            (None, 32, 32, 48)        1344      \n",
            "_________________________________________________________________\n",
            "batch_normalization_7 (Batch (None, 32, 32, 48)        192       \n",
            "_________________________________________________________________\n",
            "activation_9 (Activation)    (None, 32, 32, 48)        0         \n",
            "_________________________________________________________________\n",
            "dropout_7 (Dropout)          (None, 32, 32, 48)        0         \n",
            "_________________________________________________________________\n",
            "conv2d_10 (Conv2D)           (None, 30, 30, 48)        20784     \n",
            "_________________________________________________________________\n",
            "activation_10 (Activation)   (None, 30, 30, 48)        0         \n",
            "_________________________________________________________________\n",
            "max_pooling2d_3 (MaxPooling2 (None, 15, 15, 48)        0         \n",
            "_________________________________________________________________\n",
            "conv2d_11 (Conv2D)           (None, 15, 15, 96)        41568     \n",
            "_________________________________________________________________\n",
            "batch_normalization_8 (Batch (None, 15, 15, 96)        384       \n",
            "_________________________________________________________________\n",
            "activation_11 (Activation)   (None, 15, 15, 96)        0         \n",
            "_________________________________________________________________\n",
            "dropout_8 (Dropout)          (None, 15, 15, 96)        0         \n",
            "_________________________________________________________________\n",
            "conv2d_12 (Conv2D)           (None, 13, 13, 96)        83040     \n",
            "_________________________________________________________________\n",
            "activation_12 (Activation)   (None, 13, 13, 96)        0         \n",
            "_________________________________________________________________\n",
            "max_pooling2d_4 (MaxPooling2 (None, 6, 6, 96)          0         \n",
            "_________________________________________________________________\n",
            "conv2d_13 (Conv2D)           (None, 6, 6, 192)         166080    \n",
            "_________________________________________________________________\n",
            "batch_normalization_9 (Batch (None, 6, 6, 192)         768       \n",
            "_________________________________________________________________\n",
            "activation_13 (Activation)   (None, 6, 6, 192)         0         \n",
            "_________________________________________________________________\n",
            "dropout_9 (Dropout)          (None, 6, 6, 192)         0         \n",
            "_________________________________________________________________\n",
            "conv2d_14 (Conv2D)           (None, 4, 4, 192)         331968    \n",
            "_________________________________________________________________\n",
            "batch_normalization_10 (Batc (None, 4, 4, 192)         768       \n",
            "_________________________________________________________________\n",
            "activation_14 (Activation)   (None, 4, 4, 192)         0         \n",
            "_________________________________________________________________\n",
            "dropout_10 (Dropout)         (None, 4, 4, 192)         0         \n",
            "_________________________________________________________________\n",
            "conv2d_15 (Conv2D)           (None, 1, 1, 10)          30730     \n",
            "_________________________________________________________________\n",
            "batch_normalization_11 (Batc (None, 1, 1, 10)          40        \n",
            "_________________________________________________________________\n",
            "activation_15 (Activation)   (None, 1, 1, 10)          0         \n",
            "_________________________________________________________________\n",
            "dropout_11 (Dropout)         (None, 1, 1, 10)          0         \n",
            "_________________________________________________________________\n",
            "conv2d_16 (Conv2D)           (None, 1, 1, 10)          110       \n",
            "_________________________________________________________________\n",
            "batch_normalization_12 (Batc (None, 1, 1, 10)          40        \n",
            "_________________________________________________________________\n",
            "dropout_12 (Dropout)         (None, 1, 1, 10)          0         \n",
            "_________________________________________________________________\n",
            "flatten_2 (Flatten)          (None, 10)                0         \n",
            "_________________________________________________________________\n",
            "activation_16 (Activation)   (None, 10)                0         \n",
            "=================================================================\n",
            "Total params: 677,816\n",
            "Trainable params: 676,720\n",
            "Non-trainable params: 1,096\n",
            "_________________________________________________________________\n"
          ],
          "name": "stdout"
        }
      ]
    },
    {
      "cell_type": "code",
      "metadata": {
        "id": "aOMjkModDAvV",
        "colab_type": "code",
        "colab": {}
      },
      "source": [
        "from keras.callbacks import ModelCheckpoint,ReduceLROnPlateau\n",
        "\n",
        "checkpointer1 = ModelCheckpoint(filepath='../content/drive/My Drive/model_after_cutout.h5', monitor='val_acc', mode='auto', verbose = 1, save_best_only=True)\n",
        "lr_reducer1 = ReduceLROnPlateau(monitor='val_acc',factor=0.8, cooldown=0, patience=5, min_lr=0.5e-9,verbose = 1)\n",
        "\n",
        "\n",
        "\n",
        "# Compile the model\n",
        "model.compile(optimizer='adam', loss='categorical_crossentropy', metrics=['accuracy'])\n"
      ],
      "execution_count": 0,
      "outputs": []
    },
    {
      "cell_type": "code",
      "metadata": {
        "id": "T5l52p82DDTh",
        "colab_type": "code",
        "colab": {}
      },
      "source": [
        "def get_random_eraser(p=0.5, s_l=0.02, s_h=0.4, r_1=0.3, r_2=1/0.3, v_l=0, v_h=255, pixel_level=False):\n",
        "    def eraser(input_img):\n",
        "        img_h, img_w, img_c = input_img.shape\n",
        "        p_1 = np.random.rand()\n",
        "\n",
        "        if p_1 > p:\n",
        "            return input_img\n",
        "\n",
        "        while True:\n",
        "            s = np.random.uniform(s_l, s_h) * img_h * img_w\n",
        "            r = np.random.uniform(r_1, r_2)\n",
        "            w = int(np.sqrt(s / r))\n",
        "            h = int(np.sqrt(s * r))\n",
        "            left = np.random.randint(0, img_w)\n",
        "            top = np.random.randint(0, img_h)\n",
        "\n",
        "            if left + w <= img_w and top + h <= img_h:\n",
        "                break\n",
        "\n",
        "        if pixel_level:\n",
        "            c = np.random.uniform(v_l, v_h, (h, w, img_c))\n",
        "        else:\n",
        "            c = np.random.uniform(v_l, v_h)\n",
        "\n",
        "        input_img[top:top + h, left:left + w, :] = c\n",
        "\n",
        "        return input_img\n",
        "\n",
        "    return eraser"
      ],
      "execution_count": 0,
      "outputs": []
    },
    {
      "cell_type": "markdown",
      "metadata": {
        "id": "LiaQsM9lDJKM",
        "colab_type": "text"
      },
      "source": [
        "**Model with Cutout**"
      ]
    },
    {
      "cell_type": "code",
      "metadata": {
        "id": "6fZA8vGNDF8G",
        "colab_type": "code",
        "outputId": "2cc9480a-940f-46f4-9fba-341216800897",
        "colab": {
          "base_uri": "https://localhost:8080/",
          "height": 1000
        }
      },
      "source": [
        "from keras.preprocessing.image import ImageDataGenerator\n",
        "\n",
        "datagen = ImageDataGenerator(zoom_range=0.0, \n",
        "                             horizontal_flip=False,\n",
        "                             preprocessing_function=get_random_eraser(v_l=0, v_h=1, pixel_level=True))\n",
        "\n",
        "\n",
        "# train the model\n",
        "start = time.time()\n",
        "# Train the model\n",
        "model_info = model.fit_generator(datagen.flow(train_features, train_labels, batch_size = 128),\n",
        "                                 samples_per_epoch = train_features.shape[0], nb_epoch = 100, \n",
        "                                 validation_data = (test_features, test_labels), callbacks=[checkpointer1,lr_reducer1],verbose=1)\n",
        "end = time.time()\n",
        "print (\"Model took %0.2f seconds to train\"%(end - start))\n",
        "# plot model history\n",
        "plot_model_history(model_info)\n",
        "# compute test accuracy\n",
        "print (\"Accuracy on test data is: %0.2f\"%accuracy(test_features, test_labels, model))"
      ],
      "execution_count": 20,
      "outputs": [
        {
          "output_type": "stream",
          "text": [
            "/usr/local/lib/python3.6/dist-packages/ipykernel_launcher.py:13: UserWarning: The semantics of the Keras 2 argument `steps_per_epoch` is not the same as the Keras 1 argument `samples_per_epoch`. `steps_per_epoch` is the number of batches to draw from the generator at each epoch. Basically steps_per_epoch = samples_per_epoch/batch_size. Similarly `nb_val_samples`->`validation_steps` and `val_samples`->`steps` arguments have changed. Update your method calls accordingly.\n",
            "  del sys.path[0]\n",
            "/usr/local/lib/python3.6/dist-packages/ipykernel_launcher.py:13: UserWarning: Update your `fit_generator` call to the Keras 2 API: `fit_generator(<keras_pre..., validation_data=(array([[[..., callbacks=[<keras.ca..., verbose=1, steps_per_epoch=390, epochs=100)`\n",
            "  del sys.path[0]\n"
          ],
          "name": "stderr"
        },
        {
          "output_type": "stream",
          "text": [
            "Epoch 1/100\n",
            "390/390 [==============================] - 32s 81ms/step - loss: 2.0883 - acc: 0.2489 - val_loss: 1.8178 - val_acc: 0.4089\n",
            "\n",
            "Epoch 00001: val_acc improved from -inf to 0.40890, saving model to ../content/drive/My Drive/model_after_cutout.h5\n",
            "Epoch 2/100\n",
            "390/390 [==============================] - 29s 75ms/step - loss: 1.8213 - acc: 0.3381 - val_loss: 1.5104 - val_acc: 0.5308\n",
            "\n",
            "Epoch 00002: val_acc improved from 0.40890 to 0.53080, saving model to ../content/drive/My Drive/model_after_cutout.h5\n",
            "Epoch 3/100\n",
            "390/390 [==============================] - 29s 74ms/step - loss: 1.6919 - acc: 0.3901 - val_loss: 1.3926 - val_acc: 0.6038\n",
            "\n",
            "Epoch 00003: val_acc improved from 0.53080 to 0.60380, saving model to ../content/drive/My Drive/model_after_cutout.h5\n",
            "Epoch 4/100\n",
            "390/390 [==============================] - 29s 73ms/step - loss: 1.6090 - acc: 0.4203 - val_loss: 1.2656 - val_acc: 0.6285\n",
            "\n",
            "Epoch 00004: val_acc improved from 0.60380 to 0.62850, saving model to ../content/drive/My Drive/model_after_cutout.h5\n",
            "Epoch 5/100\n",
            "390/390 [==============================] - 29s 73ms/step - loss: 1.5593 - acc: 0.4400 - val_loss: 1.3612 - val_acc: 0.5785\n",
            "\n",
            "Epoch 00005: val_acc did not improve from 0.62850\n",
            "Epoch 6/100\n",
            "390/390 [==============================] - 29s 74ms/step - loss: 1.5113 - acc: 0.4622 - val_loss: 1.2435 - val_acc: 0.6536\n",
            "\n",
            "Epoch 00006: val_acc improved from 0.62850 to 0.65360, saving model to ../content/drive/My Drive/model_after_cutout.h5\n",
            "Epoch 7/100\n",
            "390/390 [==============================] - 29s 74ms/step - loss: 1.4683 - acc: 0.4776 - val_loss: 1.1330 - val_acc: 0.6744\n",
            "\n",
            "Epoch 00007: val_acc improved from 0.65360 to 0.67440, saving model to ../content/drive/My Drive/model_after_cutout.h5\n",
            "Epoch 8/100\n",
            "390/390 [==============================] - 29s 74ms/step - loss: 1.4331 - acc: 0.4930 - val_loss: 1.0202 - val_acc: 0.7125\n",
            "\n",
            "Epoch 00008: val_acc improved from 0.67440 to 0.71250, saving model to ../content/drive/My Drive/model_after_cutout.h5\n",
            "Epoch 9/100\n",
            "390/390 [==============================] - 29s 74ms/step - loss: 1.4017 - acc: 0.5014 - val_loss: 1.0373 - val_acc: 0.7036\n",
            "\n",
            "Epoch 00009: val_acc did not improve from 0.71250\n",
            "Epoch 10/100\n",
            "390/390 [==============================] - 29s 73ms/step - loss: 1.3760 - acc: 0.5060 - val_loss: 0.9958 - val_acc: 0.7334\n",
            "\n",
            "Epoch 00010: val_acc improved from 0.71250 to 0.73340, saving model to ../content/drive/My Drive/model_after_cutout.h5\n",
            "Epoch 11/100\n",
            "390/390 [==============================] - 29s 73ms/step - loss: 1.3544 - acc: 0.5161 - val_loss: 0.8913 - val_acc: 0.7597\n",
            "\n",
            "Epoch 00011: val_acc improved from 0.73340 to 0.75970, saving model to ../content/drive/My Drive/model_after_cutout.h5\n",
            "Epoch 12/100\n",
            "390/390 [==============================] - 29s 74ms/step - loss: 1.3311 - acc: 0.5258 - val_loss: 0.9568 - val_acc: 0.7326\n",
            "\n",
            "Epoch 00012: val_acc did not improve from 0.75970\n",
            "Epoch 13/100\n",
            "390/390 [==============================] - 29s 73ms/step - loss: 1.3085 - acc: 0.5322 - val_loss: 0.9361 - val_acc: 0.7448\n",
            "\n",
            "Epoch 00013: val_acc did not improve from 0.75970\n",
            "Epoch 14/100\n",
            "390/390 [==============================] - 28s 73ms/step - loss: 1.2920 - acc: 0.5367 - val_loss: 0.9503 - val_acc: 0.7271\n",
            "\n",
            "Epoch 00014: val_acc did not improve from 0.75970\n",
            "Epoch 15/100\n",
            "390/390 [==============================] - 29s 74ms/step - loss: 1.2751 - acc: 0.5396 - val_loss: 0.8258 - val_acc: 0.7882\n",
            "\n",
            "Epoch 00015: val_acc improved from 0.75970 to 0.78820, saving model to ../content/drive/My Drive/model_after_cutout.h5\n",
            "Epoch 16/100\n",
            "390/390 [==============================] - 29s 74ms/step - loss: 1.2613 - acc: 0.5497 - val_loss: 0.8522 - val_acc: 0.7840\n",
            "\n",
            "Epoch 00016: val_acc did not improve from 0.78820\n",
            "Epoch 17/100\n",
            "390/390 [==============================] - 29s 73ms/step - loss: 1.2489 - acc: 0.5479 - val_loss: 0.8356 - val_acc: 0.7764\n",
            "\n",
            "Epoch 00017: val_acc did not improve from 0.78820\n",
            "Epoch 18/100\n",
            "390/390 [==============================] - 29s 73ms/step - loss: 1.2235 - acc: 0.5603 - val_loss: 0.8249 - val_acc: 0.7846\n",
            "\n",
            "Epoch 00018: val_acc did not improve from 0.78820\n",
            "Epoch 19/100\n",
            "390/390 [==============================] - 29s 73ms/step - loss: 1.2264 - acc: 0.5560 - val_loss: 0.7963 - val_acc: 0.7881\n",
            "\n",
            "Epoch 00019: val_acc did not improve from 0.78820\n",
            "Epoch 20/100\n",
            "390/390 [==============================] - 29s 74ms/step - loss: 1.2059 - acc: 0.5685 - val_loss: 0.7730 - val_acc: 0.8064\n",
            "\n",
            "Epoch 00020: val_acc improved from 0.78820 to 0.80640, saving model to ../content/drive/My Drive/model_after_cutout.h5\n",
            "Epoch 21/100\n",
            "390/390 [==============================] - 29s 73ms/step - loss: 1.1902 - acc: 0.5697 - val_loss: 0.7397 - val_acc: 0.8189\n",
            "\n",
            "Epoch 00021: val_acc improved from 0.80640 to 0.81890, saving model to ../content/drive/My Drive/model_after_cutout.h5\n",
            "Epoch 22/100\n",
            "390/390 [==============================] - 29s 74ms/step - loss: 1.1854 - acc: 0.5687 - val_loss: 0.8449 - val_acc: 0.7783\n",
            "\n",
            "Epoch 00022: val_acc did not improve from 0.81890\n",
            "Epoch 23/100\n",
            "390/390 [==============================] - 29s 74ms/step - loss: 1.1764 - acc: 0.5719 - val_loss: 0.8280 - val_acc: 0.7880\n",
            "\n",
            "Epoch 00023: val_acc did not improve from 0.81890\n",
            "Epoch 24/100\n",
            "390/390 [==============================] - 29s 74ms/step - loss: 1.1639 - acc: 0.5784 - val_loss: 0.7262 - val_acc: 0.8201\n",
            "\n",
            "Epoch 00024: val_acc improved from 0.81890 to 0.82010, saving model to ../content/drive/My Drive/model_after_cutout.h5\n",
            "Epoch 25/100\n",
            "390/390 [==============================] - 28s 73ms/step - loss: 1.1585 - acc: 0.5792 - val_loss: 0.8272 - val_acc: 0.7839\n",
            "\n",
            "Epoch 00025: val_acc did not improve from 0.82010\n",
            "Epoch 26/100\n",
            "390/390 [==============================] - 29s 73ms/step - loss: 1.1533 - acc: 0.5793 - val_loss: 0.7157 - val_acc: 0.8184\n",
            "\n",
            "Epoch 00026: val_acc did not improve from 0.82010\n",
            "Epoch 27/100\n",
            "390/390 [==============================] - 29s 73ms/step - loss: 1.1381 - acc: 0.5843 - val_loss: 0.7619 - val_acc: 0.7984\n",
            "\n",
            "Epoch 00027: val_acc did not improve from 0.82010\n",
            "Epoch 28/100\n",
            "390/390 [==============================] - 29s 73ms/step - loss: 1.1302 - acc: 0.5868 - val_loss: 0.6654 - val_acc: 0.8385\n",
            "\n",
            "Epoch 00028: val_acc improved from 0.82010 to 0.83850, saving model to ../content/drive/My Drive/model_after_cutout.h5\n",
            "Epoch 29/100\n",
            "390/390 [==============================] - 29s 73ms/step - loss: 1.1217 - acc: 0.5925 - val_loss: 0.6707 - val_acc: 0.8337\n",
            "\n",
            "Epoch 00029: val_acc did not improve from 0.83850\n",
            "Epoch 30/100\n",
            "390/390 [==============================] - 29s 73ms/step - loss: 1.1256 - acc: 0.5892 - val_loss: 0.7037 - val_acc: 0.8293\n",
            "\n",
            "Epoch 00030: val_acc did not improve from 0.83850\n",
            "Epoch 31/100\n",
            "390/390 [==============================] - 29s 74ms/step - loss: 1.1116 - acc: 0.5952 - val_loss: 0.6743 - val_acc: 0.8296\n",
            "\n",
            "Epoch 00031: val_acc did not improve from 0.83850\n",
            "Epoch 32/100\n",
            "390/390 [==============================] - 28s 73ms/step - loss: 1.1063 - acc: 0.5941 - val_loss: 0.6359 - val_acc: 0.8388\n",
            "\n",
            "Epoch 00032: val_acc improved from 0.83850 to 0.83880, saving model to ../content/drive/My Drive/model_after_cutout.h5\n",
            "Epoch 33/100\n",
            "390/390 [==============================] - 29s 73ms/step - loss: 1.0986 - acc: 0.5973 - val_loss: 0.6615 - val_acc: 0.8362\n",
            "\n",
            "Epoch 00033: val_acc did not improve from 0.83880\n",
            "Epoch 34/100\n",
            "390/390 [==============================] - 29s 73ms/step - loss: 1.0905 - acc: 0.6011 - val_loss: 0.7131 - val_acc: 0.8154\n",
            "\n",
            "Epoch 00034: val_acc did not improve from 0.83880\n",
            "Epoch 35/100\n",
            "390/390 [==============================] - 29s 73ms/step - loss: 1.0814 - acc: 0.6061 - val_loss: 0.6935 - val_acc: 0.8268\n",
            "\n",
            "Epoch 00035: val_acc did not improve from 0.83880\n",
            "Epoch 36/100\n",
            "390/390 [==============================] - 28s 73ms/step - loss: 1.0824 - acc: 0.6046 - val_loss: 0.6037 - val_acc: 0.8479\n",
            "\n",
            "Epoch 00036: val_acc improved from 0.83880 to 0.84790, saving model to ../content/drive/My Drive/model_after_cutout.h5\n",
            "Epoch 37/100\n",
            "390/390 [==============================] - 28s 73ms/step - loss: 1.0742 - acc: 0.6072 - val_loss: 0.6285 - val_acc: 0.8460\n",
            "\n",
            "Epoch 00037: val_acc did not improve from 0.84790\n",
            "Epoch 38/100\n",
            "390/390 [==============================] - 29s 73ms/step - loss: 1.0743 - acc: 0.6076 - val_loss: 0.9417 - val_acc: 0.7363\n",
            "\n",
            "Epoch 00038: val_acc did not improve from 0.84790\n",
            "Epoch 39/100\n",
            "390/390 [==============================] - 29s 73ms/step - loss: 1.0708 - acc: 0.6074 - val_loss: 0.6675 - val_acc: 0.8279\n",
            "\n",
            "Epoch 00039: val_acc did not improve from 0.84790\n",
            "Epoch 40/100\n",
            "390/390 [==============================] - 28s 73ms/step - loss: 1.0634 - acc: 0.6144 - val_loss: 0.5825 - val_acc: 0.8525\n",
            "\n",
            "Epoch 00040: val_acc improved from 0.84790 to 0.85250, saving model to ../content/drive/My Drive/model_after_cutout.h5\n",
            "Epoch 41/100\n",
            "390/390 [==============================] - 28s 73ms/step - loss: 1.0587 - acc: 0.6110 - val_loss: 0.6118 - val_acc: 0.8476\n",
            "\n",
            "Epoch 00041: val_acc did not improve from 0.85250\n",
            "Epoch 42/100\n",
            "390/390 [==============================] - 29s 73ms/step - loss: 1.0442 - acc: 0.6157 - val_loss: 0.5998 - val_acc: 0.8481\n",
            "\n",
            "Epoch 00042: val_acc did not improve from 0.85250\n",
            "Epoch 43/100\n",
            "390/390 [==============================] - 28s 73ms/step - loss: 1.0478 - acc: 0.6153 - val_loss: 0.6697 - val_acc: 0.8219\n",
            "\n",
            "Epoch 00043: val_acc did not improve from 0.85250\n",
            "Epoch 44/100\n",
            "390/390 [==============================] - 28s 73ms/step - loss: 1.0542 - acc: 0.6157 - val_loss: 0.6275 - val_acc: 0.8389\n",
            "\n",
            "Epoch 00044: val_acc did not improve from 0.85250\n",
            "Epoch 45/100\n",
            "390/390 [==============================] - 29s 73ms/step - loss: 1.0533 - acc: 0.6166 - val_loss: 0.6236 - val_acc: 0.8411\n",
            "\n",
            "Epoch 00045: val_acc did not improve from 0.85250\n",
            "\n",
            "Epoch 00045: ReduceLROnPlateau reducing learning rate to 0.000800000037997961.\n",
            "Epoch 46/100\n",
            "390/390 [==============================] - 29s 73ms/step - loss: 1.0344 - acc: 0.6176 - val_loss: 0.6123 - val_acc: 0.8395\n",
            "\n",
            "Epoch 00046: val_acc did not improve from 0.85250\n",
            "Epoch 47/100\n",
            "390/390 [==============================] - 28s 73ms/step - loss: 1.0205 - acc: 0.6282 - val_loss: 0.5617 - val_acc: 0.8587\n",
            "\n",
            "Epoch 00047: val_acc improved from 0.85250 to 0.85870, saving model to ../content/drive/My Drive/model_after_cutout.h5\n",
            "Epoch 48/100\n",
            "390/390 [==============================] - 29s 73ms/step - loss: 1.0188 - acc: 0.6256 - val_loss: 0.6103 - val_acc: 0.8385\n",
            "\n",
            "Epoch 00048: val_acc did not improve from 0.85870\n",
            "Epoch 49/100\n",
            "390/390 [==============================] - 29s 73ms/step - loss: 1.0178 - acc: 0.6261 - val_loss: 0.5484 - val_acc: 0.8618\n",
            "\n",
            "Epoch 00049: val_acc improved from 0.85870 to 0.86180, saving model to ../content/drive/My Drive/model_after_cutout.h5\n",
            "Epoch 50/100\n",
            "390/390 [==============================] - 28s 73ms/step - loss: 1.0205 - acc: 0.6264 - val_loss: 0.5632 - val_acc: 0.8608\n",
            "\n",
            "Epoch 00050: val_acc did not improve from 0.86180\n",
            "Epoch 51/100\n",
            "390/390 [==============================] - 28s 73ms/step - loss: 1.0075 - acc: 0.6311 - val_loss: 0.5795 - val_acc: 0.8500\n",
            "\n",
            "Epoch 00051: val_acc did not improve from 0.86180\n",
            "Epoch 52/100\n",
            "390/390 [==============================] - 29s 73ms/step - loss: 1.0085 - acc: 0.6285 - val_loss: 0.5623 - val_acc: 0.8573\n",
            "\n",
            "Epoch 00052: val_acc did not improve from 0.86180\n",
            "Epoch 53/100\n",
            "390/390 [==============================] - 28s 73ms/step - loss: 1.0110 - acc: 0.6301 - val_loss: 0.5780 - val_acc: 0.8522\n",
            "\n",
            "Epoch 00053: val_acc did not improve from 0.86180\n",
            "Epoch 54/100\n",
            "390/390 [==============================] - 29s 74ms/step - loss: 1.0073 - acc: 0.6299 - val_loss: 0.5776 - val_acc: 0.8481\n",
            "\n",
            "Epoch 00054: val_acc did not improve from 0.86180\n",
            "\n",
            "Epoch 00054: ReduceLROnPlateau reducing learning rate to 0.0006400000303983689.\n",
            "Epoch 55/100\n",
            "390/390 [==============================] - 28s 73ms/step - loss: 0.9979 - acc: 0.6295 - val_loss: 0.5309 - val_acc: 0.8691\n",
            "\n",
            "Epoch 00055: val_acc improved from 0.86180 to 0.86910, saving model to ../content/drive/My Drive/model_after_cutout.h5\n",
            "Epoch 56/100\n",
            "390/390 [==============================] - 28s 73ms/step - loss: 0.9927 - acc: 0.6365 - val_loss: 0.5605 - val_acc: 0.8534\n",
            "\n",
            "Epoch 00056: val_acc did not improve from 0.86910\n",
            "Epoch 57/100\n",
            "390/390 [==============================] - 28s 73ms/step - loss: 0.9825 - acc: 0.6355 - val_loss: 0.5491 - val_acc: 0.8574\n",
            "\n",
            "Epoch 00057: val_acc did not improve from 0.86910\n",
            "Epoch 58/100\n",
            "390/390 [==============================] - 28s 73ms/step - loss: 0.9837 - acc: 0.6383 - val_loss: 0.6395 - val_acc: 0.8334\n",
            "\n",
            "Epoch 00058: val_acc did not improve from 0.86910\n",
            "Epoch 59/100\n",
            "390/390 [==============================] - 28s 73ms/step - loss: 0.9805 - acc: 0.6391 - val_loss: 0.5380 - val_acc: 0.8616\n",
            "\n",
            "Epoch 00059: val_acc did not improve from 0.86910\n",
            "Epoch 60/100\n",
            "390/390 [==============================] - 28s 73ms/step - loss: 0.9787 - acc: 0.6407 - val_loss: 0.5301 - val_acc: 0.8609\n",
            "\n",
            "Epoch 00060: val_acc did not improve from 0.86910\n",
            "\n",
            "Epoch 00060: ReduceLROnPlateau reducing learning rate to 0.0005120000336319208.\n",
            "Epoch 61/100\n",
            "390/390 [==============================] - 29s 73ms/step - loss: 0.9694 - acc: 0.6461 - val_loss: 0.5204 - val_acc: 0.8701\n",
            "\n",
            "Epoch 00061: val_acc improved from 0.86910 to 0.87010, saving model to ../content/drive/My Drive/model_after_cutout.h5\n",
            "Epoch 62/100\n",
            "390/390 [==============================] - 29s 73ms/step - loss: 0.9691 - acc: 0.6434 - val_loss: 0.5379 - val_acc: 0.8597\n",
            "\n",
            "Epoch 00062: val_acc did not improve from 0.87010\n",
            "Epoch 63/100\n",
            "390/390 [==============================] - 28s 73ms/step - loss: 0.9679 - acc: 0.6437 - val_loss: 0.5237 - val_acc: 0.8679\n",
            "\n",
            "Epoch 00063: val_acc did not improve from 0.87010\n",
            "Epoch 64/100\n",
            "390/390 [==============================] - 28s 73ms/step - loss: 0.9660 - acc: 0.6457 - val_loss: 0.5203 - val_acc: 0.8685\n",
            "\n",
            "Epoch 00064: val_acc did not improve from 0.87010\n",
            "Epoch 65/100\n",
            "390/390 [==============================] - 28s 73ms/step - loss: 0.9596 - acc: 0.6470 - val_loss: 0.5289 - val_acc: 0.8620\n",
            "\n",
            "Epoch 00065: val_acc did not improve from 0.87010\n",
            "Epoch 66/100\n",
            "390/390 [==============================] - 28s 73ms/step - loss: 0.9637 - acc: 0.6460 - val_loss: 0.5197 - val_acc: 0.8697\n",
            "\n",
            "Epoch 00066: val_acc did not improve from 0.87010\n",
            "\n",
            "Epoch 00066: ReduceLROnPlateau reducing learning rate to 0.00040960004553198815.\n",
            "Epoch 67/100\n",
            "390/390 [==============================] - 29s 73ms/step - loss: 0.9514 - acc: 0.6487 - val_loss: 0.5236 - val_acc: 0.8663\n",
            "\n",
            "Epoch 00067: val_acc did not improve from 0.87010\n",
            "Epoch 68/100\n",
            "390/390 [==============================] - 28s 73ms/step - loss: 0.9544 - acc: 0.6477 - val_loss: 0.5139 - val_acc: 0.8686\n",
            "\n",
            "Epoch 00068: val_acc did not improve from 0.87010\n",
            "Epoch 69/100\n",
            "390/390 [==============================] - 28s 73ms/step - loss: 0.9438 - acc: 0.6517 - val_loss: 0.5186 - val_acc: 0.8677\n",
            "\n",
            "Epoch 00069: val_acc did not improve from 0.87010\n",
            "Epoch 70/100\n",
            "390/390 [==============================] - 29s 73ms/step - loss: 0.9415 - acc: 0.6535 - val_loss: 0.5060 - val_acc: 0.8694\n",
            "\n",
            "Epoch 00070: val_acc did not improve from 0.87010\n",
            "Epoch 71/100\n",
            "390/390 [==============================] - 28s 73ms/step - loss: 0.9339 - acc: 0.6552 - val_loss: 0.5326 - val_acc: 0.8637\n",
            "\n",
            "Epoch 00071: val_acc did not improve from 0.87010\n",
            "\n",
            "Epoch 00071: ReduceLROnPlateau reducing learning rate to 0.00032768002711236477.\n",
            "Epoch 72/100\n",
            "390/390 [==============================] - 28s 73ms/step - loss: 0.9408 - acc: 0.6505 - val_loss: 0.4938 - val_acc: 0.8777\n",
            "\n",
            "Epoch 00072: val_acc improved from 0.87010 to 0.87770, saving model to ../content/drive/My Drive/model_after_cutout.h5\n",
            "Epoch 73/100\n",
            "390/390 [==============================] - 28s 73ms/step - loss: 0.9357 - acc: 0.6546 - val_loss: 0.5482 - val_acc: 0.8610\n",
            "\n",
            "Epoch 00073: val_acc did not improve from 0.87770\n",
            "Epoch 74/100\n",
            "390/390 [==============================] - 28s 72ms/step - loss: 0.9302 - acc: 0.6552 - val_loss: 0.4923 - val_acc: 0.8719\n",
            "\n",
            "Epoch 00074: val_acc did not improve from 0.87770\n",
            "Epoch 75/100\n",
            "390/390 [==============================] - 28s 72ms/step - loss: 0.9266 - acc: 0.6585 - val_loss: 0.4907 - val_acc: 0.8750\n",
            "\n",
            "Epoch 00075: val_acc did not improve from 0.87770\n",
            "Epoch 76/100\n",
            "390/390 [==============================] - 28s 72ms/step - loss: 0.9304 - acc: 0.6555 - val_loss: 0.4960 - val_acc: 0.8739\n",
            "\n",
            "Epoch 00076: val_acc did not improve from 0.87770\n",
            "Epoch 77/100\n",
            "390/390 [==============================] - 28s 73ms/step - loss: 0.9253 - acc: 0.6580 - val_loss: 0.4988 - val_acc: 0.8709\n",
            "\n",
            "Epoch 00077: val_acc did not improve from 0.87770\n",
            "\n",
            "Epoch 00077: ReduceLROnPlateau reducing learning rate to 0.0002621440216898918.\n",
            "Epoch 78/100\n",
            "390/390 [==============================] - 29s 73ms/step - loss: 0.9170 - acc: 0.6589 - val_loss: 0.4861 - val_acc: 0.8773\n",
            "\n",
            "Epoch 00078: val_acc did not improve from 0.87770\n",
            "Epoch 79/100\n",
            "390/390 [==============================] - 28s 73ms/step - loss: 0.9229 - acc: 0.6591 - val_loss: 0.4862 - val_acc: 0.8755\n",
            "\n",
            "Epoch 00079: val_acc did not improve from 0.87770\n",
            "Epoch 80/100\n",
            "390/390 [==============================] - 28s 73ms/step - loss: 0.9178 - acc: 0.6583 - val_loss: 0.4933 - val_acc: 0.8730\n",
            "\n",
            "Epoch 00080: val_acc did not improve from 0.87770\n",
            "Epoch 81/100\n",
            "390/390 [==============================] - 28s 73ms/step - loss: 0.9096 - acc: 0.6646 - val_loss: 0.4920 - val_acc: 0.8739\n",
            "\n",
            "Epoch 00081: val_acc did not improve from 0.87770\n",
            "Epoch 82/100\n",
            "390/390 [==============================] - 29s 73ms/step - loss: 0.9105 - acc: 0.6625 - val_loss: 0.4961 - val_acc: 0.8718\n",
            "\n",
            "Epoch 00082: val_acc did not improve from 0.87770\n",
            "\n",
            "Epoch 00082: ReduceLROnPlateau reducing learning rate to 0.00020971521735191345.\n",
            "Epoch 83/100\n",
            "390/390 [==============================] - 28s 73ms/step - loss: 0.9172 - acc: 0.6583 - val_loss: 0.4810 - val_acc: 0.8773\n",
            "\n",
            "Epoch 00083: val_acc did not improve from 0.87770\n",
            "Epoch 84/100\n",
            "390/390 [==============================] - 29s 74ms/step - loss: 0.9149 - acc: 0.6599 - val_loss: 0.4776 - val_acc: 0.8780\n",
            "\n",
            "Epoch 00084: val_acc improved from 0.87770 to 0.87800, saving model to ../content/drive/My Drive/model_after_cutout.h5\n",
            "Epoch 85/100\n",
            "390/390 [==============================] - 29s 73ms/step - loss: 0.9106 - acc: 0.6617 - val_loss: 0.4845 - val_acc: 0.8728\n",
            "\n",
            "Epoch 00085: val_acc did not improve from 0.87800\n",
            "Epoch 86/100\n",
            "390/390 [==============================] - 29s 74ms/step - loss: 0.9131 - acc: 0.6605 - val_loss: 0.4765 - val_acc: 0.8790\n",
            "\n",
            "Epoch 00086: val_acc improved from 0.87800 to 0.87900, saving model to ../content/drive/My Drive/model_after_cutout.h5\n",
            "Epoch 87/100\n",
            "390/390 [==============================] - 29s 74ms/step - loss: 0.9123 - acc: 0.6621 - val_loss: 0.4780 - val_acc: 0.8800\n",
            "\n",
            "Epoch 00087: val_acc improved from 0.87900 to 0.88000, saving model to ../content/drive/My Drive/model_after_cutout.h5\n",
            "Epoch 88/100\n",
            "390/390 [==============================] - 29s 74ms/step - loss: 0.9102 - acc: 0.6619 - val_loss: 0.4776 - val_acc: 0.8758\n",
            "\n",
            "Epoch 00088: val_acc did not improve from 0.88000\n",
            "Epoch 89/100\n",
            "390/390 [==============================] - 29s 75ms/step - loss: 0.9168 - acc: 0.6583 - val_loss: 0.4732 - val_acc: 0.8784\n",
            "\n",
            "Epoch 00089: val_acc did not improve from 0.88000\n",
            "Epoch 90/100\n",
            "390/390 [==============================] - 29s 74ms/step - loss: 0.9057 - acc: 0.6634 - val_loss: 0.4792 - val_acc: 0.8783\n",
            "\n",
            "Epoch 00090: val_acc did not improve from 0.88000\n",
            "Epoch 91/100\n",
            "390/390 [==============================] - 29s 74ms/step - loss: 0.9101 - acc: 0.6626 - val_loss: 0.4709 - val_acc: 0.8795\n",
            "\n",
            "Epoch 00091: val_acc did not improve from 0.88000\n",
            "Epoch 92/100\n",
            "390/390 [==============================] - 29s 75ms/step - loss: 0.9098 - acc: 0.6620 - val_loss: 0.4790 - val_acc: 0.8762\n",
            "\n",
            "Epoch 00092: val_acc did not improve from 0.88000\n",
            "\n",
            "Epoch 00092: ReduceLROnPlateau reducing learning rate to 0.00016777217388153076.\n",
            "Epoch 93/100\n",
            "390/390 [==============================] - 29s 75ms/step - loss: 0.9121 - acc: 0.6592 - val_loss: 0.4774 - val_acc: 0.8778\n",
            "\n",
            "Epoch 00093: val_acc did not improve from 0.88000\n",
            "Epoch 94/100\n",
            "390/390 [==============================] - 29s 74ms/step - loss: 0.8982 - acc: 0.6666 - val_loss: 0.4704 - val_acc: 0.8796\n",
            "\n",
            "Epoch 00094: val_acc did not improve from 0.88000\n",
            "Epoch 95/100\n",
            "390/390 [==============================] - 29s 75ms/step - loss: 0.9080 - acc: 0.6624 - val_loss: 0.4801 - val_acc: 0.8761\n",
            "\n",
            "Epoch 00095: val_acc did not improve from 0.88000\n",
            "Epoch 96/100\n",
            "390/390 [==============================] - 29s 73ms/step - loss: 0.9005 - acc: 0.6657 - val_loss: 0.4838 - val_acc: 0.8771\n",
            "\n",
            "Epoch 00096: val_acc did not improve from 0.88000\n",
            "Epoch 97/100\n",
            "390/390 [==============================] - 28s 73ms/step - loss: 0.8996 - acc: 0.6687 - val_loss: 0.4771 - val_acc: 0.8784\n",
            "\n",
            "Epoch 00097: val_acc did not improve from 0.88000\n",
            "\n",
            "Epoch 00097: ReduceLROnPlateau reducing learning rate to 0.00013421773910522462.\n",
            "Epoch 98/100\n",
            "390/390 [==============================] - 29s 73ms/step - loss: 0.9015 - acc: 0.6655 - val_loss: 0.4730 - val_acc: 0.8779\n",
            "\n",
            "Epoch 00098: val_acc did not improve from 0.88000\n",
            "Epoch 99/100\n",
            "390/390 [==============================] - 29s 73ms/step - loss: 0.8979 - acc: 0.6656 - val_loss: 0.4798 - val_acc: 0.8765\n",
            "\n",
            "Epoch 00099: val_acc did not improve from 0.88000\n",
            "Epoch 100/100\n",
            "390/390 [==============================] - 29s 74ms/step - loss: 0.9070 - acc: 0.6639 - val_loss: 0.4748 - val_acc: 0.8782\n",
            "\n",
            "Epoch 00100: val_acc did not improve from 0.88000\n",
            "Model took 2882.23 seconds to train\n"
          ],
          "name": "stdout"
        },
        {
          "output_type": "display_data",
          "data": {
            "image/png": "[encoded data removed]",
            "text/plain": [
              "<Figure size 1080x360 with 2 Axes>"
            ]
          },
          "metadata": {
            "tags": []
          }
        },
        {
          "output_type": "stream",
          "text": [
            "Accuracy on test data is: 87.82\n"
          ],
          "name": "stdout"
        }
      ]
    },
    {
      "cell_type": "code",
      "metadata": {
        "id": "IJQG_V96DZaP",
        "colab_type": "code",
        "colab": {}
      },
      "source": [
        "model=keras.models.load_model('../content/drive/My Drive/model_after_cutout.h5')"
      ],
      "execution_count": 0,
      "outputs": []
    },
    {
      "cell_type": "code",
      "metadata": {
        "id": "bqU2OhcdDg8R",
        "colab_type": "code",
        "outputId": "37c8c2c0-c3aa-4cfa-bd08-761d7fdc394a",
        "colab": {
          "base_uri": "https://localhost:8080/",
          "height": 54
        }
      },
      "source": [
        "score = model.evaluate(test_features, test_labels, batch_size=128)\n",
        "print (score[1])"
      ],
      "execution_count": 22,
      "outputs": [
        {
          "output_type": "stream",
          "text": [
            "10000/10000 [==============================] - 2s 232us/step\n",
            "0.88\n"
          ],
          "name": "stdout"
        }
      ]
    },
    {
      "cell_type": "markdown",
      "metadata": {
        "id": "JXWgwWzmDkq7",
        "colab_type": "text"
      },
      "source": [
        "***Model with Cutout : Grad CAM results ***"
      ]
    },
    {
      "cell_type": "code",
      "metadata": {
        "id": "sXidHWNsDibv",
        "colab_type": "code",
        "outputId": "9c74ebf9-8b63-4095-87d3-c57a8d97a7c5",
        "colab": {
          "base_uri": "https://localhost:8080/",
          "height": 1000
        }
      },
      "source": [
        "import cv2\n",
        "from google.colab.patches import cv2_imshow\n",
        "\n",
        "images = [1,101,201,501,901,1001,1501,1601,2001,4001,5001,6001,7001,8001,9001,9999]\n",
        "for j in images:\n",
        "  x = testX[j]\n",
        "  x = np.expand_dims(x, axis=0)\n",
        "  preds = model.predict(x,batch_size=1)\n",
        "  class_idx = np.argmax(preds[0])\n",
        "  class_output = model.output[:, class_idx]\n",
        "  last_conv_layer = model.get_layer(\"conv2d_16\") \n",
        "\n",
        "  grads = K.gradients(class_output, last_conv_layer.output)[0]\n",
        "  pooled_grads = K.mean(grads, axis=(0, 1, 2))\n",
        "  iterate = K.function([model.input], [pooled_grads, last_conv_layer.output[0]])\n",
        "  pooled_grads_value, conv_layer_output_value = iterate([x])\n",
        "  for i in range(10):\n",
        "    conv_layer_output_value[:, :, i] *= pooled_grads_value[i]\n",
        "  \n",
        "  heatmap = np.mean(conv_layer_output_value, axis=-1)\n",
        "  heatmap = np.maximum(heatmap, 0)\n",
        "  heatmap /= np.max(heatmap) \n",
        "  img = (testX[j])\n",
        "  heatmap = cv2.resize(heatmap, (img.shape[1], img.shape[0]))\n",
        "  heatmap = np.uint8(255 * heatmap)\n",
        "  heatmap = cv2.applyColorMap(heatmap, cv2.COLORMAP_JET)\n",
        "  superimposed_img = cv2.addWeighted(img, 0.6, heatmap, 0.4, 0)\n",
        "  #cv2_imshow(img)\n",
        "  #cv2_imshow(superimposed_img)\n",
        "  concatimg = cv2.hconcat([img,superimposed_img])\n",
        "  # Display the concatenated image\n",
        "  print (j)\n",
        "  cv2_imshow(concatimg)\n",
        "  cv2.waitKey(0)\n",
        "  print (\" \")\n",
        "  j = j + 1"
      ],
      "execution_count": 27,
      "outputs": [
        {
          "output_type": "stream",
          "text": [
            "1\n"
          ],
          "name": "stdout"
        },
        {
          "output_type": "display_data",
          "data": {
            "image/png": "[encoded data removed]",
            "text/plain": [
              "<PIL.Image.Image image mode=RGB size=64x32 at 0x7F19F81CACC0>"
            ]
          },
          "metadata": {
            "tags": []
          }
        },
        {
          "output_type": "stream",
          "text": [
            " \n",
            "101\n"
          ],
          "name": "stdout"
        },
        {
          "output_type": "display_data",
          "data": {
            "image/png": "[encoded data removed]",
            "text/plain": [
              "<PIL.Image.Image image mode=RGB size=64x32 at 0x7F19F81CAC50>"
            ]
          },
          "metadata": {
            "tags": []
          }
        },
        {
          "output_type": "stream",
          "text": [
            " \n",
            "201\n"
          ],
          "name": "stdout"
        },
        {
          "output_type": "display_data",
          "data": {
            "image/png": "[encoded data removed]",
            "text/plain": [
              "<PIL.Image.Image image mode=RGB size=64x32 at 0x7F19F8008828>"
            ]
          },
          "metadata": {
            "tags": []
          }
        },
        {
          "output_type": "stream",
          "text": [
            " \n",
            "501\n"
          ],
          "name": "stdout"
        },
        {
          "output_type": "display_data",
          "data": {
            "image/png": "[encoded data removed]",
            "text/plain": [
              "<PIL.Image.Image image mode=RGB size=64x32 at 0x7F19F81CAC50>"
            ]
          },
          "metadata": {
            "tags": []
          }
        },
        {
          "output_type": "stream",
          "text": [
            " \n",
            "901\n"
          ],
          "name": "stdout"
        },
        {
          "output_type": "display_data",
          "data": {
            "image/png": "[encoded data removed]",
            "text/plain": [
              "<PIL.Image.Image image mode=RGB size=64x32 at 0x7F19F7F83E48>"
            ]
          },
          "metadata": {
            "tags": []
          }
        },
        {
          "output_type": "stream",
          "text": [
            " \n",
            "1001\n"
          ],
          "name": "stdout"
        },
        {
          "output_type": "display_data",
          "data": {
            "image/png": "[encoded data removed]",
            "text/plain": [
              "<PIL.Image.Image image mode=RGB size=64x32 at 0x7F19F8032588>"
            ]
          },
          "metadata": {
            "tags": []
          }
        },
        {
          "output_type": "stream",
          "text": [
            " \n",
            "1501\n"
          ],
          "name": "stdout"
        },
        {
          "output_type": "display_data",
          "data": {
            "image/png": "[encoded data removed]",
            "text/plain": [
              "<PIL.Image.Image image mode=RGB size=64x32 at 0x7F19F7F2A9E8>"
            ]
          },
          "metadata": {
            "tags": []
          }
        },
        {
          "output_type": "stream",
          "text": [
            " \n",
            "1601\n"
          ],
          "name": "stdout"
        },
        {
          "output_type": "display_data",
          "data": {
            "image/png": "[encoded data removed]",
            "text/plain": [
              "<PIL.Image.Image image mode=RGB size=64x32 at 0x7F19F7E8EEB8>"
            ]
          },
          "metadata": {
            "tags": []
          }
        },
        {
          "output_type": "stream",
          "text": [
            " \n",
            "2001\n"
          ],
          "name": "stdout"
        },
        {
          "output_type": "display_data",
          "data": {
            "image/png": "[encoded data removed]",
            "text/plain": [
              "<PIL.Image.Image image mode=RGB size=64x32 at 0x7F19F7C94940>"
            ]
          },
          "metadata": {
            "tags": []
          }
        },
        {
          "output_type": "stream",
          "text": [
            " \n",
            "4001\n"
          ],
          "name": "stdout"
        },
        {
          "output_type": "display_data",
          "data": {
            "image/png": "[encoded data removed]",
            "text/plain": [
              "<PIL.Image.Image image mode=RGB size=64x32 at 0x7F19F7BCB4E0>"
            ]
          },
          "metadata": {
            "tags": []
          }
        },
        {
          "output_type": "stream",
          "text": [
            " \n",
            "5001\n"
          ],
          "name": "stdout"
        },
        {
          "output_type": "display_data",
          "data": {
            "image/png": "[encoded data removed]",
            "text/plain": [
              "<PIL.Image.Image image mode=RGB size=64x32 at 0x7F19F7B47AC8>"
            ]
          },
          "metadata": {
            "tags": []
          }
        },
        {
          "output_type": "stream",
          "text": [
            " \n",
            "6001\n"
          ],
          "name": "stdout"
        },
        {
          "output_type": "display_data",
          "data": {
            "image/png": "[encoded data removed]",
            "text/plain": [
              "<PIL.Image.Image image mode=RGB size=64x32 at 0x7F19F7BFBFD0>"
            ]
          },
          "metadata": {
            "tags": []
          }
        },
        {
          "output_type": "stream",
          "text": [
            " \n",
            "7001\n"
          ],
          "name": "stdout"
        },
        {
          "output_type": "display_data",
          "data": {
            "image/png": "[encoded data removed]",
            "text/plain": [
              "<PIL.Image.Image image mode=RGB size=64x32 at 0x7F19F7D03F98>"
            ]
          },
          "metadata": {
            "tags": []
          }
        },
        {
          "output_type": "stream",
          "text": [
            " \n",
            "8001\n"
          ],
          "name": "stdout"
        },
        {
          "output_type": "display_data",
          "data": {
            "image/png": "[encoded data removed]",
            "text/plain": [
              "<PIL.Image.Image image mode=RGB size=64x32 at 0x7F19F7BFBFD0>"
            ]
          },
          "metadata": {
            "tags": []
          }
        },
        {
          "output_type": "stream",
          "text": [
            " \n",
            "9001\n"
          ],
          "name": "stdout"
        },
        {
          "output_type": "display_data",
          "data": {
            "image/png": "[encoded data removed]",
            "text/plain": [
              "<PIL.Image.Image image mode=RGB size=64x32 at 0x7F19F78B7E48>"
            ]
          },
          "metadata": {
            "tags": []
          }
        },
        {
          "output_type": "stream",
          "text": [
            " \n",
            "9999\n"
          ],
          "name": "stdout"
        },
        {
          "output_type": "display_data",
          "data": {
            "image/png": "[encoded data removed]",
            "text/plain": [
              "<PIL.Image.Image image mode=RGB size=64x32 at 0x7F19F7A2D9B0>"
            ]
          },
          "metadata": {
            "tags": []
          }
        },
        {
          "output_type": "stream",
          "text": [
            " \n"
          ],
          "name": "stdout"
        }
      ]
    }
  ]
}