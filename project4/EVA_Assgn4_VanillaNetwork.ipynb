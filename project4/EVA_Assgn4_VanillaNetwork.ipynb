{
  "nbformat": 4,
  "nbformat_minor": 0,
  "metadata": {
    "colab": {
      "name": "EVA_Assgn4_VanillaNetwork.ipynb",
      "version": "0.3.2",
      "provenance": []
    },
    "kernelspec": {
      "name": "python3",
      "display_name": "Python 3"
    }
  },
  "cells": [
    {
      "cell_type": "markdown",
      "metadata": {
        "id": "966HFdd5kDwV",
        "colab_type": "text"
      },
      "source": [
        "## Basic Vanilla network \n",
        "\n",
        "* MaxPooling at the right layer\n",
        "* (1x1x10) before Flatten layer\n",
        "* Small batch size(32) and few epochs(15)\n",
        "* Activation function -  Adam \n",
        "\n",
        "Parameters - **16,930**\n",
        "Accuracy -  **99.05**"
      ]
    },
    {
      "cell_type": "code",
      "metadata": {
        "id": "clqdzjJ0V81-",
        "colab_type": "code",
        "outputId": "15c25dbc-17c9-4bab-a59d-655df7c06c82",
        "colab": {
          "base_uri": "https://localhost:8080/",
          "height": 35
        }
      },
      "source": [
        "# Import the necessary packages\n",
        "\n",
        "# https://keras.io/\n",
        "!pip install -q keras\n",
        "import keras"
      ],
      "execution_count": 0,
      "outputs": [
        {
          "output_type": "stream",
          "text": [
            "Using TensorFlow backend.\n"
          ],
          "name": "stderr"
        }
      ]
    },
    {
      "cell_type": "code",
      "metadata": {
        "id": "qCstpW4PWoV4",
        "colab_type": "code",
        "colab": {}
      },
      "source": [
        "# Importing necessary modules from the library \n",
        "import numpy as np\n",
        "\n",
        "from keras.models import Sequential #Sequential model is a linear stack of layers.\n",
        "from keras.layers import Dense, Dropout, Activation, Flatten, Add \n",
        "from keras.layers import Convolution2D, MaxPooling2D\n",
        "from keras.layers.normalization import BatchNormalization\n",
        "from keras.utils import np_utils\n",
        "\n",
        "from keras.datasets import mnist"
      ],
      "execution_count": 0,
      "outputs": []
    },
    {
      "cell_type": "code",
      "metadata": {
        "id": "xvuXn9scWs6p",
        "colab_type": "code",
        "colab": {}
      },
      "source": [
        "(X_train, y_train), (X_test, y_test) = mnist.load_data()  # split the dataset into testing and training samples"
      ],
      "execution_count": 0,
      "outputs": []
    },
    {
      "cell_type": "code",
      "metadata": {
        "id": "qfg8cQySWu4D",
        "colab_type": "code",
        "outputId": "a0d6c7e8-5706-47fb-b45b-5b82c3f41520",
        "colab": {
          "base_uri": "https://localhost:8080/",
          "height": 306
        }
      },
      "source": [
        "print (X_train.shape) \n",
        "from matplotlib import pyplot as plt # Matplotlib is a Python 2D plotting library. \n",
        "%matplotlib inline\n",
        "plt.imshow(X_train[0])"
      ],
      "execution_count": 0,
      "outputs": [
        {
          "output_type": "stream",
          "text": [
            "(60000, 28, 28)\n"
          ],
          "name": "stdout"
        },
        {
          "output_type": "execute_result",
          "data": {
            "text/plain": [
              "<matplotlib.image.AxesImage at 0x7f935c88afd0>"
            ]
          },
          "metadata": {
            "tags": []
          },
          "execution_count": 4
        },
        {
          "output_type": "display_data",
          "data": {
            "image/png": "[encoded data removed]",
            "text/plain": [
              "<Figure size 432x288 with 1 Axes>"
            ]
          },
          "metadata": {
            "tags": []
          }
        }
      ]
    },
    {
      "cell_type": "code",
      "metadata": {
        "id": "rvKF8Gu0Ww05",
        "colab_type": "code",
        "colab": {}
      },
      "source": [
        "#Changing the size of array to include channel information\n",
        "\n",
        "X_train = X_train.reshape(X_train.shape[0], 28, 28,1)\n",
        "X_test = X_test.reshape(X_test.shape[0], 28, 28,1)"
      ],
      "execution_count": 0,
      "outputs": []
    },
    {
      "cell_type": "code",
      "metadata": {
        "id": "cK-qZxLuWzHa",
        "colab_type": "code",
        "colab": {}
      },
      "source": [
        "X_train = X_train.astype('float32')\n",
        "X_test = X_test.astype('float32')\n",
        "X_train /= 255\n",
        "X_test /= 255 # making values 0 to 1 , normalising it so while multiplying value doesn't increase"
      ],
      "execution_count": 0,
      "outputs": []
    },
    {
      "cell_type": "code",
      "metadata": {
        "id": "VSOOoj0UW0wp",
        "colab_type": "code",
        "outputId": "6af3535e-d397-452b-e065-db8084b53be2",
        "colab": {
          "base_uri": "https://localhost:8080/",
          "height": 35
        }
      },
      "source": [
        "y_train[:10]"
      ],
      "execution_count": 0,
      "outputs": [
        {
          "output_type": "execute_result",
          "data": {
            "text/plain": [
              "array([5, 0, 4, 1, 9, 2, 1, 3, 1, 4], dtype=uint8)"
            ]
          },
          "metadata": {
            "tags": []
          },
          "execution_count": 7
        }
      ]
    },
    {
      "cell_type": "code",
      "metadata": {
        "id": "-57dae_mW2TQ",
        "colab_type": "code",
        "colab": {}
      },
      "source": [
        "# Convert 1-dimensional class arrays to 10-dimensional class matrices\n",
        "Y_train = np_utils.to_categorical(y_train, 10)\n",
        "Y_test = np_utils.to_categorical(y_test, 10)"
      ],
      "execution_count": 0,
      "outputs": []
    },
    {
      "cell_type": "code",
      "metadata": {
        "id": "sxhDHFVgW4LX",
        "colab_type": "code",
        "outputId": "4f76f6bd-cba9-4aa4-d635-1b3d897441ae",
        "colab": {
          "base_uri": "https://localhost:8080/",
          "height": 201
        }
      },
      "source": [
        "Y_train[:10]"
      ],
      "execution_count": 0,
      "outputs": [
        {
          "output_type": "execute_result",
          "data": {
            "text/plain": [
              "array([[0., 0., 0., 0., 0., 1., 0., 0., 0., 0.],\n",
              "       [1., 0., 0., 0., 0., 0., 0., 0., 0., 0.],\n",
              "       [0., 0., 0., 0., 1., 0., 0., 0., 0., 0.],\n",
              "       [0., 1., 0., 0., 0., 0., 0., 0., 0., 0.],\n",
              "       [0., 0., 0., 0., 0., 0., 0., 0., 0., 1.],\n",
              "       [0., 0., 1., 0., 0., 0., 0., 0., 0., 0.],\n",
              "       [0., 1., 0., 0., 0., 0., 0., 0., 0., 0.],\n",
              "       [0., 0., 0., 1., 0., 0., 0., 0., 0., 0.],\n",
              "       [0., 1., 0., 0., 0., 0., 0., 0., 0., 0.],\n",
              "       [0., 0., 0., 0., 1., 0., 0., 0., 0., 0.]], dtype=float32)"
            ]
          },
          "metadata": {
            "tags": []
          },
          "execution_count": 9
        }
      ]
    },
    {
      "cell_type": "code",
      "metadata": {
        "id": "lhjpTfIAW6Wj",
        "colab_type": "code",
        "outputId": "a373f7e4-6683-459b-deac-15d4a41084be",
        "colab": {
          "base_uri": "https://localhost:8080/",
          "height": 257
        }
      },
      "source": [
        "from keras.layers import Activation\n",
        "model = Sequential()\n",
        "\n",
        "\n",
        " #8 convolution filters of size 3x3\n",
        "model.add(Convolution2D(10, 3, 3,activation ='relu', input_shape=(28,28,1)))  #Output image : 26x26x8 , RF: 3x3\n",
        "\n",
        "\n",
        "model.add(Convolution2D(16, 3, 3,activation ='relu')) #24x24x12 , RF: 5x5\n",
        "\n",
        "\n",
        "model.add(Convolution2D(18, 3, 3,activation ='relu')) #22x22x16 , RF: 7x7\n",
        "\n",
        "model.add(MaxPooling2D(2)) #11x11x16 , RF: 14x14\n",
        "\n",
        "model.add(Convolution2D(20, 3, 3,activation ='relu')) #9x9x20, RF: 16x16\n",
        "\n",
        "\n",
        "model.add(Convolution2D(24, 3, 3,activation ='relu')) #7x7x24 , RF: 18x18\n",
        "\n",
        "\n",
        "model.add(Convolution2D(10, 1)) #7x7x10 , RF:18x18\n",
        "\n",
        "model.add(Convolution2D(10, 7))#1x1x10, RF:28x28\n",
        "model.add(Flatten()) #Converts input shape (1,1,10) to 1D of 10\n",
        "model.add(Activation('softmax'))  # input to Softmax is 10X1"
      ],
      "execution_count": 0,
      "outputs": [
        {
          "output_type": "stream",
          "text": [
            "WARNING:tensorflow:From /usr/local/lib/python3.6/dist-packages/tensorflow/python/framework/op_def_library.py:263: colocate_with (from tensorflow.python.framework.ops) is deprecated and will be removed in a future version.\n",
            "Instructions for updating:\n",
            "Colocations handled automatically by placer.\n"
          ],
          "name": "stdout"
        },
        {
          "output_type": "stream",
          "text": [
            "/usr/local/lib/python3.6/dist-packages/ipykernel_launcher.py:6: UserWarning: Update your `Conv2D` call to the Keras 2 API: `Conv2D(10, (3, 3), activation=\"relu\", input_shape=(28, 28, 1...)`\n",
            "  \n",
            "/usr/local/lib/python3.6/dist-packages/ipykernel_launcher.py:9: UserWarning: Update your `Conv2D` call to the Keras 2 API: `Conv2D(16, (3, 3), activation=\"relu\")`\n",
            "  if __name__ == '__main__':\n",
            "/usr/local/lib/python3.6/dist-packages/ipykernel_launcher.py:12: UserWarning: Update your `Conv2D` call to the Keras 2 API: `Conv2D(18, (3, 3), activation=\"relu\")`\n",
            "  if sys.path[0] == '':\n",
            "/usr/local/lib/python3.6/dist-packages/ipykernel_launcher.py:16: UserWarning: Update your `Conv2D` call to the Keras 2 API: `Conv2D(20, (3, 3), activation=\"relu\")`\n",
            "  app.launch_new_instance()\n",
            "/usr/local/lib/python3.6/dist-packages/ipykernel_launcher.py:19: UserWarning: Update your `Conv2D` call to the Keras 2 API: `Conv2D(24, (3, 3), activation=\"relu\")`\n"
          ],
          "name": "stderr"
        }
      ]
    },
    {
      "cell_type": "code",
      "metadata": {
        "id": "3ELLwo5_YNpq",
        "colab_type": "code",
        "outputId": "59559dc3-0e66-4eeb-d457-762aba997b29",
        "colab": {
          "base_uri": "https://localhost:8080/",
          "height": 513
        }
      },
      "source": [
        "model.summary()"
      ],
      "execution_count": 0,
      "outputs": [
        {
          "output_type": "stream",
          "text": [
            "_________________________________________________________________\n",
            "Layer (type)                 Output Shape              Param #   \n",
            "=================================================================\n",
            "conv2d_1 (Conv2D)            (None, 26, 26, 10)        100       \n",
            "_________________________________________________________________\n",
            "conv2d_2 (Conv2D)            (None, 24, 24, 16)        1456      \n",
            "_________________________________________________________________\n",
            "conv2d_3 (Conv2D)            (None, 22, 22, 18)        2610      \n",
            "_________________________________________________________________\n",
            "max_pooling2d_1 (MaxPooling2 (None, 11, 11, 18)        0         \n",
            "_________________________________________________________________\n",
            "conv2d_4 (Conv2D)            (None, 9, 9, 20)          3260      \n",
            "_________________________________________________________________\n",
            "conv2d_5 (Conv2D)            (None, 7, 7, 24)          4344      \n",
            "_________________________________________________________________\n",
            "conv2d_6 (Conv2D)            (None, 7, 7, 10)          250       \n",
            "_________________________________________________________________\n",
            "conv2d_7 (Conv2D)            (None, 1, 1, 10)          4910      \n",
            "_________________________________________________________________\n",
            "flatten_1 (Flatten)          (None, 10)                0         \n",
            "_________________________________________________________________\n",
            "activation_1 (Activation)    (None, 10)                0         \n",
            "=================================================================\n",
            "Total params: 16,930\n",
            "Trainable params: 16,930\n",
            "Non-trainable params: 0\n",
            "_________________________________________________________________\n"
          ],
          "name": "stdout"
        }
      ]
    },
    {
      "cell_type": "code",
      "metadata": {
        "id": "Oa2KKSM9YQAU",
        "colab_type": "code",
        "colab": {}
      },
      "source": [
        "# Configure the learning process, using the compile method.\n",
        "model.compile(loss='categorical_crossentropy',\n",
        "             optimizer='adam',\n",
        "             metrics=['accuracy'])"
      ],
      "execution_count": 0,
      "outputs": []
    },
    {
      "cell_type": "code",
      "metadata": {
        "id": "5xc0MkWwYR7I",
        "colab_type": "code",
        "outputId": "2268ed03-ff07-4645-cf4e-82f2456c6f31",
        "colab": {
          "base_uri": "https://localhost:8080/",
          "height": 643
        }
      },
      "source": [
        "model.fit(X_train, Y_train, batch_size=32, nb_epoch=15, verbose=1) # Train the model, iterating on the data in batches of 32 samples for 10 epochs"
      ],
      "execution_count": 0,
      "outputs": [
        {
          "output_type": "stream",
          "text": [
            "Epoch 1/15\n",
            "\r   32/60000 [..............................] - ETA: 3:54 - loss: 0.0111 - acc: 1.0000"
          ],
          "name": "stdout"
        },
        {
          "output_type": "stream",
          "text": [
            "/usr/local/lib/python3.6/dist-packages/ipykernel_launcher.py:1: UserWarning: The `nb_epoch` argument in `fit` has been renamed `epochs`.\n",
            "  \"\"\"Entry point for launching an IPython kernel.\n"
          ],
          "name": "stderr"
        },
        {
          "output_type": "stream",
          "text": [
            "60000/60000 [==============================] - 218s 4ms/step - loss: 0.0175 - acc: 0.9941\n",
            "Epoch 2/15\n",
            "60000/60000 [==============================] - 216s 4ms/step - loss: 0.0149 - acc: 0.9952\n",
            "Epoch 3/15\n",
            "60000/60000 [==============================] - 217s 4ms/step - loss: 0.0140 - acc: 0.9954\n",
            "Epoch 4/15\n",
            "60000/60000 [==============================] - 211s 4ms/step - loss: 0.0150 - acc: 0.9952\n",
            "Epoch 5/15\n",
            "60000/60000 [==============================] - 144s 2ms/step - loss: 0.0098 - acc: 0.9967\n",
            "Epoch 6/15\n",
            "60000/60000 [==============================] - 113s 2ms/step - loss: 0.0100 - acc: 0.9968\n",
            "Epoch 7/15\n",
            "60000/60000 [==============================] - 111s 2ms/step - loss: 0.0098 - acc: 0.9968\n",
            "Epoch 8/15\n",
            "60000/60000 [==============================] - 111s 2ms/step - loss: 0.0100 - acc: 0.9966\n",
            "Epoch 9/15\n",
            "60000/60000 [==============================] - 112s 2ms/step - loss: 0.0091 - acc: 0.9970\n",
            "Epoch 10/15\n",
            "60000/60000 [==============================] - 111s 2ms/step - loss: 0.0083 - acc: 0.9972\n",
            "Epoch 11/15\n",
            "60000/60000 [==============================] - 115s 2ms/step - loss: 0.0083 - acc: 0.9971\n",
            "Epoch 12/15\n",
            "60000/60000 [==============================] - 205s 3ms/step - loss: 0.0105 - acc: 0.9967\n",
            "Epoch 13/15\n",
            "60000/60000 [==============================] - 210s 3ms/step - loss: 0.0106 - acc: 0.9970\n",
            "Epoch 14/15\n",
            "60000/60000 [==============================] - 210s 3ms/step - loss: 0.0074 - acc: 0.9978\n",
            "Epoch 15/15\n",
            "60000/60000 [==============================] - 212s 4ms/step - loss: 0.0109 - acc: 0.9969\n"
          ],
          "name": "stdout"
        },
        {
          "output_type": "execute_result",
          "data": {
            "text/plain": [
              "<keras.callbacks.History at 0x7f935906d2b0>"
            ]
          },
          "metadata": {
            "tags": []
          },
          "execution_count": 16
        }
      ]
    },
    {
      "cell_type": "code",
      "metadata": {
        "id": "sCZz-AmeYWUA",
        "colab_type": "code",
        "outputId": "a0a39b7c-2b21-47ed-c992-221a59dacf7a",
        "colab": {
          "base_uri": "https://localhost:8080/",
          "height": 35
        }
      },
      "source": [
        "# Score is the evaluation of the loss function for a given input.\n",
        "score = model.evaluate(X_test, Y_test)"
      ],
      "execution_count": 0,
      "outputs": [
        {
          "output_type": "stream",
          "text": [
            "10000/10000 [==============================] - 14s 1ms/step\n"
          ],
          "name": "stdout"
        }
      ]
    },
    {
      "cell_type": "code",
      "metadata": {
        "id": "CnD6uk0TYYM3",
        "colab_type": "code",
        "outputId": "a088fad7-021c-48ec-a7f8-3eaf3d53ea76",
        "colab": {
          "base_uri": "https://localhost:8080/",
          "height": 35
        }
      },
      "source": [
        "print(score)  # [Loss/Cross Entropy Value, Accuracy]"
      ],
      "execution_count": 0,
      "outputs": [
        {
          "output_type": "stream",
          "text": [
            "[0.06274954557233234, 0.9905]\n"
          ],
          "name": "stdout"
        }
      ]
    }
  ]
}