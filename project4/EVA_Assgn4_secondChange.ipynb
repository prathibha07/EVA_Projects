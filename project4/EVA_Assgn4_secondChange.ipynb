{
  "nbformat": 4,
  "nbformat_minor": 0,
  "metadata": {
    "colab": {
      "name": "Copy of EVA_Assgn4_secondChange.ipynb",
      "version": "0.3.2",
      "provenance": []
    },
    "kernelspec": {
      "name": "python3",
      "display_name": "Python 3"
    }
  },
  "cells": [
    {
      "cell_type": "markdown",
      "metadata": {
        "id": "quzOUSlT2LJN",
        "colab_type": "text"
      },
      "source": [
        "## Second Code Iteration :\n",
        "\n",
        "Changes incorporated : \n",
        "\n",
        "* Introduced Dropout (0.1), retaining Batch norm in every layer\n",
        "\n",
        "* Split batch size - (32 & 256) , epochs 10 each \n",
        "\n",
        "* Reduced number of filters/ channels in every layer above MP\n",
        "\n",
        " Paramters - **15,424**\n",
        "Accuracy-   **99.29**"
      ]
    },
    {
      "cell_type": "code",
      "metadata": {
        "id": "clqdzjJ0V81-",
        "colab_type": "code",
        "outputId": "ada108ea-2a57-436d-ed10-3678a98acb45",
        "colab": {
          "base_uri": "https://localhost:8080/",
          "height": 35
        }
      },
      "source": [
        "# Import the necessary packages\n",
        "\n",
        "# https://keras.io/\n",
        "!pip install -q keras\n",
        "import keras"
      ],
      "execution_count": 1,
      "outputs": [
        {
          "output_type": "stream",
          "text": [
            "Using TensorFlow backend.\n"
          ],
          "name": "stderr"
        }
      ]
    },
    {
      "cell_type": "code",
      "metadata": {
        "id": "qCstpW4PWoV4",
        "colab_type": "code",
        "colab": {}
      },
      "source": [
        "# Importing necessary modules from the library \n",
        "import numpy as np\n",
        "\n",
        "from keras.models import Sequential #Sequential model is a linear stack of layers.\n",
        "from keras.layers import Dense, Dropout, Activation, Flatten, Add \n",
        "from keras.layers import Convolution2D, MaxPooling2D\n",
        "from keras.layers.normalization import BatchNormalization\n",
        "from keras.utils import np_utils\n",
        "\n",
        "from keras.datasets import mnist"
      ],
      "execution_count": 0,
      "outputs": []
    },
    {
      "cell_type": "code",
      "metadata": {
        "id": "xvuXn9scWs6p",
        "colab_type": "code",
        "colab": {}
      },
      "source": [
        "(X_train, y_train), (X_test, y_test) = mnist.load_data()  # split the dataset into testing and training samples"
      ],
      "execution_count": 0,
      "outputs": []
    },
    {
      "cell_type": "code",
      "metadata": {
        "id": "qfg8cQySWu4D",
        "colab_type": "code",
        "outputId": "e7360535-db70-4a96-ff5d-4c3a9aa4f574",
        "colab": {
          "base_uri": "https://localhost:8080/",
          "height": 306
        }
      },
      "source": [
        "print (X_train.shape) \n",
        "from matplotlib import pyplot as plt # Matplotlib is a Python 2D plotting library. \n",
        "%matplotlib inline\n",
        "plt.imshow(X_train[0])"
      ],
      "execution_count": 4,
      "outputs": [
        {
          "output_type": "stream",
          "text": [
            "(60000, 28, 28)\n"
          ],
          "name": "stdout"
        },
        {
          "output_type": "execute_result",
          "data": {
            "text/plain": [
              "<matplotlib.image.AxesImage at 0x7fa298418240>"
            ]
          },
          "metadata": {
            "tags": []
          },
          "execution_count": 4
        },
        {
          "output_type": "display_data",
          "data": {
            "image/png": "[encoded data removed]",
            "text/plain": [
              "<Figure size 432x288 with 1 Axes>"
            ]
          },
          "metadata": {
            "tags": []
          }
        }
      ]
    },
    {
      "cell_type": "code",
      "metadata": {
        "id": "rvKF8Gu0Ww05",
        "colab_type": "code",
        "colab": {}
      },
      "source": [
        "#Changing the size of array to include channel information\n",
        "\n",
        "X_train = X_train.reshape(X_train.shape[0], 28, 28,1)\n",
        "X_test = X_test.reshape(X_test.shape[0], 28, 28,1)"
      ],
      "execution_count": 0,
      "outputs": []
    },
    {
      "cell_type": "code",
      "metadata": {
        "id": "cK-qZxLuWzHa",
        "colab_type": "code",
        "colab": {}
      },
      "source": [
        "X_train = X_train.astype('float32')\n",
        "X_test = X_test.astype('float32')\n",
        "X_train /= 255\n",
        "X_test /= 255 # making values 0 to 1 , normalising it so while multiplying value doesn't increase"
      ],
      "execution_count": 0,
      "outputs": []
    },
    {
      "cell_type": "code",
      "metadata": {
        "id": "VSOOoj0UW0wp",
        "colab_type": "code",
        "outputId": "33862372-e3e4-42eb-f2a9-a05a7e321474",
        "colab": {
          "base_uri": "https://localhost:8080/",
          "height": 35
        }
      },
      "source": [
        "y_train[:10]"
      ],
      "execution_count": 7,
      "outputs": [
        {
          "output_type": "execute_result",
          "data": {
            "text/plain": [
              "array([5, 0, 4, 1, 9, 2, 1, 3, 1, 4], dtype=uint8)"
            ]
          },
          "metadata": {
            "tags": []
          },
          "execution_count": 7
        }
      ]
    },
    {
      "cell_type": "code",
      "metadata": {
        "id": "-57dae_mW2TQ",
        "colab_type": "code",
        "colab": {}
      },
      "source": [
        "# Convert 1-dimensional class arrays to 10-dimensional class matrices\n",
        "Y_train = np_utils.to_categorical(y_train, 10)\n",
        "Y_test = np_utils.to_categorical(y_test, 10)"
      ],
      "execution_count": 0,
      "outputs": []
    },
    {
      "cell_type": "code",
      "metadata": {
        "id": "sxhDHFVgW4LX",
        "colab_type": "code",
        "outputId": "ba1d29e3-4316-4796-8a79-4b5e3aa656f8",
        "colab": {
          "base_uri": "https://localhost:8080/",
          "height": 201
        }
      },
      "source": [
        "Y_train[:10]"
      ],
      "execution_count": 9,
      "outputs": [
        {
          "output_type": "execute_result",
          "data": {
            "text/plain": [
              "array([[0., 0., 0., 0., 0., 1., 0., 0., 0., 0.],\n",
              "       [1., 0., 0., 0., 0., 0., 0., 0., 0., 0.],\n",
              "       [0., 0., 0., 0., 1., 0., 0., 0., 0., 0.],\n",
              "       [0., 1., 0., 0., 0., 0., 0., 0., 0., 0.],\n",
              "       [0., 0., 0., 0., 0., 0., 0., 0., 0., 1.],\n",
              "       [0., 0., 1., 0., 0., 0., 0., 0., 0., 0.],\n",
              "       [0., 1., 0., 0., 0., 0., 0., 0., 0., 0.],\n",
              "       [0., 0., 0., 1., 0., 0., 0., 0., 0., 0.],\n",
              "       [0., 1., 0., 0., 0., 0., 0., 0., 0., 0.],\n",
              "       [0., 0., 0., 0., 1., 0., 0., 0., 0., 0.]], dtype=float32)"
            ]
          },
          "metadata": {
            "tags": []
          },
          "execution_count": 9
        }
      ]
    },
    {
      "cell_type": "code",
      "metadata": {
        "id": "lhjpTfIAW6Wj",
        "colab_type": "code",
        "outputId": "bb19b883-c82f-49f2-8ebe-2399b871ebe3",
        "colab": {
          "base_uri": "https://localhost:8080/",
          "height": 276
        }
      },
      "source": [
        "# dropout , reduce epochs and batch size  , sgd\n",
        "\n",
        "from keras.layers import Activation\n",
        "model = Sequential()\n",
        "\n",
        "\n",
        "\n",
        " #8 convolution filters of size 3x3\n",
        "model.add(Convolution2D(8, 3, 3, input_shape=(28,28,1)))  #Output image : 26x26x8 , RF: 3x3\n",
        "model.add(BatchNormalization())\n",
        "model.add(Activation('relu'))\n",
        "model.add(Dropout(0.1))\n",
        "\n",
        "model.add(Convolution2D(12, 3, 3)) #24x24x12 , RF: 5x5\n",
        "model.add(BatchNormalization())\n",
        "model.add(Activation('relu'))\n",
        "model.add(Dropout(0.1))\n",
        "\n",
        "model.add(Convolution2D(16, 3, 3)) #22x22x16 , RF: 7x7\n",
        "model.add(BatchNormalization())\n",
        "model.add(Activation('relu'))\n",
        "model.add(Dropout(0.1))\n",
        "\n",
        "model.add(MaxPooling2D(2)) #11x11x16 , RF: 14x14\n",
        "\n",
        "model.add(Convolution2D(20, 3, 3)) #9x9x20, RF: 16x16\n",
        "model.add(BatchNormalization())\n",
        "model.add(Activation('relu'))\n",
        "model.add(Dropout(0.1))\n",
        "\n",
        "model.add(Convolution2D(24, 3, 3)) #7x7x24 , RF: 18x18\n",
        "model.add(BatchNormalization())\n",
        "model.add(Activation('relu'))\n",
        "model.add(Dropout(0.1))\n",
        "\n",
        "model.add(Convolution2D(10, 1)) #7x7x10 , RF:18x18\n",
        "\n",
        "model.add(Convolution2D(10, 7))#1x1x10, RF:28x28\n",
        "model.add(Flatten()) #Converts input shape (1,1,10) to 1D of 10nvolution2D(10, 3, 3,activation ='relu', input_shape=(28,28,1)))  #Output image : 26x26x8 , RF: 3x3\n",
        "\n",
        "\n",
        "\n",
        "model.add(Activation('softmax'))  # input to Softmax is 10X1"
      ],
      "execution_count": 10,
      "outputs": [
        {
          "output_type": "stream",
          "text": [
            "WARNING:tensorflow:From /usr/local/lib/python3.6/dist-packages/tensorflow/python/framework/op_def_library.py:263: colocate_with (from tensorflow.python.framework.ops) is deprecated and will be removed in a future version.\n",
            "Instructions for updating:\n",
            "Colocations handled automatically by placer.\n"
          ],
          "name": "stdout"
        },
        {
          "output_type": "stream",
          "text": [
            "/usr/local/lib/python3.6/dist-packages/ipykernel_launcher.py:8: UserWarning: Update your `Conv2D` call to the Keras 2 API: `Conv2D(8, (3, 3), input_shape=(28, 28, 1...)`\n",
            "  \n"
          ],
          "name": "stderr"
        },
        {
          "output_type": "stream",
          "text": [
            "WARNING:tensorflow:From /usr/local/lib/python3.6/dist-packages/keras/backend/tensorflow_backend.py:3445: calling dropout (from tensorflow.python.ops.nn_ops) with keep_prob is deprecated and will be removed in a future version.\n",
            "Instructions for updating:\n",
            "Please use `rate` instead of `keep_prob`. Rate should be set to `rate = 1 - keep_prob`.\n"
          ],
          "name": "stdout"
        },
        {
          "output_type": "stream",
          "text": [
            "/usr/local/lib/python3.6/dist-packages/ipykernel_launcher.py:13: UserWarning: Update your `Conv2D` call to the Keras 2 API: `Conv2D(12, (3, 3))`\n",
            "  del sys.path[0]\n",
            "/usr/local/lib/python3.6/dist-packages/ipykernel_launcher.py:18: UserWarning: Update your `Conv2D` call to the Keras 2 API: `Conv2D(16, (3, 3))`\n",
            "/usr/local/lib/python3.6/dist-packages/ipykernel_launcher.py:25: UserWarning: Update your `Conv2D` call to the Keras 2 API: `Conv2D(20, (3, 3))`\n",
            "/usr/local/lib/python3.6/dist-packages/ipykernel_launcher.py:30: UserWarning: Update your `Conv2D` call to the Keras 2 API: `Conv2D(24, (3, 3))`\n"
          ],
          "name": "stderr"
        }
      ]
    },
    {
      "cell_type": "code",
      "metadata": {
        "id": "3ELLwo5_YNpq",
        "colab_type": "code",
        "outputId": "bab64bab-a33e-48bc-b777-7d1118083b8d",
        "colab": {
          "base_uri": "https://localhost:8080/",
          "height": 1064
        }
      },
      "source": [
        "model.summary()"
      ],
      "execution_count": 11,
      "outputs": [
        {
          "output_type": "stream",
          "text": [
            "_________________________________________________________________\n",
            "Layer (type)                 Output Shape              Param #   \n",
            "=================================================================\n",
            "conv2d_1 (Conv2D)            (None, 26, 26, 8)         80        \n",
            "_________________________________________________________________\n",
            "batch_normalization_1 (Batch (None, 26, 26, 8)         32        \n",
            "_________________________________________________________________\n",
            "activation_1 (Activation)    (None, 26, 26, 8)         0         \n",
            "_________________________________________________________________\n",
            "dropout_1 (Dropout)          (None, 26, 26, 8)         0         \n",
            "_________________________________________________________________\n",
            "conv2d_2 (Conv2D)            (None, 24, 24, 12)        876       \n",
            "_________________________________________________________________\n",
            "batch_normalization_2 (Batch (None, 24, 24, 12)        48        \n",
            "_________________________________________________________________\n",
            "activation_2 (Activation)    (None, 24, 24, 12)        0         \n",
            "_________________________________________________________________\n",
            "dropout_2 (Dropout)          (None, 24, 24, 12)        0         \n",
            "_________________________________________________________________\n",
            "conv2d_3 (Conv2D)            (None, 22, 22, 16)        1744      \n",
            "_________________________________________________________________\n",
            "batch_normalization_3 (Batch (None, 22, 22, 16)        64        \n",
            "_________________________________________________________________\n",
            "activation_3 (Activation)    (None, 22, 22, 16)        0         \n",
            "_________________________________________________________________\n",
            "dropout_3 (Dropout)          (None, 22, 22, 16)        0         \n",
            "_________________________________________________________________\n",
            "max_pooling2d_1 (MaxPooling2 (None, 11, 11, 16)        0         \n",
            "_________________________________________________________________\n",
            "conv2d_4 (Conv2D)            (None, 9, 9, 20)          2900      \n",
            "_________________________________________________________________\n",
            "batch_normalization_4 (Batch (None, 9, 9, 20)          80        \n",
            "_________________________________________________________________\n",
            "activation_4 (Activation)    (None, 9, 9, 20)          0         \n",
            "_________________________________________________________________\n",
            "dropout_4 (Dropout)          (None, 9, 9, 20)          0         \n",
            "_________________________________________________________________\n",
            "conv2d_5 (Conv2D)            (None, 7, 7, 24)          4344      \n",
            "_________________________________________________________________\n",
            "batch_normalization_5 (Batch (None, 7, 7, 24)          96        \n",
            "_________________________________________________________________\n",
            "activation_5 (Activation)    (None, 7, 7, 24)          0         \n",
            "_________________________________________________________________\n",
            "dropout_5 (Dropout)          (None, 7, 7, 24)          0         \n",
            "_________________________________________________________________\n",
            "conv2d_6 (Conv2D)            (None, 7, 7, 10)          250       \n",
            "_________________________________________________________________\n",
            "conv2d_7 (Conv2D)            (None, 1, 1, 10)          4910      \n",
            "_________________________________________________________________\n",
            "flatten_1 (Flatten)          (None, 10)                0         \n",
            "_________________________________________________________________\n",
            "activation_6 (Activation)    (None, 10)                0         \n",
            "=================================================================\n",
            "Total params: 15,424\n",
            "Trainable params: 15,264\n",
            "Non-trainable params: 160\n",
            "_________________________________________________________________\n"
          ],
          "name": "stdout"
        }
      ]
    },
    {
      "cell_type": "code",
      "metadata": {
        "id": "Oa2KKSM9YQAU",
        "colab_type": "code",
        "colab": {}
      },
      "source": [
        "# Configure the learning process, using the compile method.\n",
        "model.compile(loss='categorical_crossentropy',\n",
        "             optimizer='adam',\n",
        "             metrics=['accuracy'])"
      ],
      "execution_count": 0,
      "outputs": []
    },
    {
      "cell_type": "code",
      "metadata": {
        "id": "5xc0MkWwYR7I",
        "colab_type": "code",
        "outputId": "39366c44-4851-427d-8683-88845fa877dc",
        "colab": {
          "base_uri": "https://localhost:8080/",
          "height": 515
        }
      },
      "source": [
        "model.fit(X_train, Y_train, batch_size=32, nb_epoch=10, verbose=1) # Train the model, iterating on the data in batches of 32 samples for 10 epochs"
      ],
      "execution_count": 13,
      "outputs": [
        {
          "output_type": "stream",
          "text": [
            "WARNING:tensorflow:From /usr/local/lib/python3.6/dist-packages/tensorflow/python/ops/math_ops.py:3066: to_int32 (from tensorflow.python.ops.math_ops) is deprecated and will be removed in a future version.\n",
            "Instructions for updating:\n",
            "Use tf.cast instead.\n"
          ],
          "name": "stdout"
        },
        {
          "output_type": "stream",
          "text": [
            "/usr/local/lib/python3.6/dist-packages/ipykernel_launcher.py:1: UserWarning: The `nb_epoch` argument in `fit` has been renamed `epochs`.\n",
            "  \"\"\"Entry point for launching an IPython kernel.\n"
          ],
          "name": "stderr"
        },
        {
          "output_type": "stream",
          "text": [
            "Epoch 1/10\n",
            "60000/60000 [==============================] - 360s 6ms/step - loss: 0.1687 - acc: 0.9468\n",
            "Epoch 2/10\n",
            "60000/60000 [==============================] - 369s 6ms/step - loss: 0.0635 - acc: 0.9800\n",
            "Epoch 3/10\n",
            "60000/60000 [==============================] - 361s 6ms/step - loss: 0.0499 - acc: 0.9843\n",
            "Epoch 4/10\n",
            "60000/60000 [==============================] - 349s 6ms/step - loss: 0.0425 - acc: 0.9870\n",
            "Epoch 5/10\n",
            "60000/60000 [==============================] - 203s 3ms/step - loss: 0.0388 - acc: 0.9876\n",
            "Epoch 6/10\n",
            "60000/60000 [==============================] - 201s 3ms/step - loss: 0.0349 - acc: 0.9896\n",
            "Epoch 7/10\n",
            "60000/60000 [==============================] - 201s 3ms/step - loss: 0.0318 - acc: 0.9894\n",
            "Epoch 8/10\n",
            "60000/60000 [==============================] - 202s 3ms/step - loss: 0.0288 - acc: 0.9905\n",
            "Epoch 9/10\n",
            "60000/60000 [==============================] - 198s 3ms/step - loss: 0.0266 - acc: 0.9912\n",
            "Epoch 10/10\n",
            "60000/60000 [==============================] - 196s 3ms/step - loss: 0.0267 - acc: 0.9912\n"
          ],
          "name": "stdout"
        },
        {
          "output_type": "execute_result",
          "data": {
            "text/plain": [
              "<keras.callbacks.History at 0x7fa2bc617cc0>"
            ]
          },
          "metadata": {
            "tags": []
          },
          "execution_count": 13
        }
      ]
    },
    {
      "cell_type": "code",
      "metadata": {
        "id": "lQWeV5ONYTz8",
        "colab_type": "code",
        "outputId": "4f1302ac-2fe4-4df3-f5dd-7f007ceff981",
        "colab": {
          "base_uri": "https://localhost:8080/",
          "height": 459
        }
      },
      "source": [
        "model.fit(X_train, Y_train, batch_size=256, nb_epoch=10, verbose=1) # Train the model, iterating on the data in batches of 256 samples for 10 epochs"
      ],
      "execution_count": 15,
      "outputs": [
        {
          "output_type": "stream",
          "text": [
            "/usr/local/lib/python3.6/dist-packages/ipykernel_launcher.py:1: UserWarning: The `nb_epoch` argument in `fit` has been renamed `epochs`.\n",
            "  \"\"\"Entry point for launching an IPython kernel.\n"
          ],
          "name": "stderr"
        },
        {
          "output_type": "stream",
          "text": [
            "Epoch 1/10\n",
            "60000/60000 [==============================] - 172s 3ms/step - loss: 0.0111 - acc: 0.9965\n",
            "Epoch 2/10\n",
            "60000/60000 [==============================] - 172s 3ms/step - loss: 0.0117 - acc: 0.9962\n",
            "Epoch 3/10\n",
            "60000/60000 [==============================] - 171s 3ms/step - loss: 0.0112 - acc: 0.9962\n",
            "Epoch 4/10\n",
            "60000/60000 [==============================] - 172s 3ms/step - loss: 0.0115 - acc: 0.9960\n",
            "Epoch 5/10\n",
            "60000/60000 [==============================] - 171s 3ms/step - loss: 0.0102 - acc: 0.9965\n",
            "Epoch 6/10\n",
            "60000/60000 [==============================] - 170s 3ms/step - loss: 0.0105 - acc: 0.9962\n",
            "Epoch 7/10\n",
            "60000/60000 [==============================] - 171s 3ms/step - loss: 0.0092 - acc: 0.9971\n",
            "Epoch 8/10\n",
            "60000/60000 [==============================] - 170s 3ms/step - loss: 0.0107 - acc: 0.9963\n",
            "Epoch 9/10\n",
            "60000/60000 [==============================] - 171s 3ms/step - loss: 0.0107 - acc: 0.9964\n",
            "Epoch 10/10\n",
            "60000/60000 [==============================] - 171s 3ms/step - loss: 0.0095 - acc: 0.9968\n"
          ],
          "name": "stdout"
        },
        {
          "output_type": "execute_result",
          "data": {
            "text/plain": [
              "<keras.callbacks.History at 0x7fa2b0457080>"
            ]
          },
          "metadata": {
            "tags": []
          },
          "execution_count": 15
        }
      ]
    },
    {
      "cell_type": "code",
      "metadata": {
        "id": "sCZz-AmeYWUA",
        "colab_type": "code",
        "outputId": "93bc2aa4-6d76-4164-a646-8698585d2f48",
        "colab": {
          "base_uri": "https://localhost:8080/",
          "height": 35
        }
      },
      "source": [
        "# Score is the evaluation of the loss function for a given input.\n",
        "score = model.evaluate(X_test, Y_test)"
      ],
      "execution_count": 16,
      "outputs": [
        {
          "output_type": "stream",
          "text": [
            "10000/10000 [==============================] - 10s 976us/step\n"
          ],
          "name": "stdout"
        }
      ]
    },
    {
      "cell_type": "code",
      "metadata": {
        "id": "CnD6uk0TYYM3",
        "colab_type": "code",
        "outputId": "44e8b4d9-251c-4d1d-d729-14244eaadbcd",
        "colab": {
          "base_uri": "https://localhost:8080/",
          "height": 35
        }
      },
      "source": [
        "print(score)  # [Loss/Cross Entropy Value, Accuracy]"
      ],
      "execution_count": 17,
      "outputs": [
        {
          "output_type": "stream",
          "text": [
            "[0.022552279580690084, 0.9933]\n"
          ],
          "name": "stdout"
        }
      ]
    }
  ]
}