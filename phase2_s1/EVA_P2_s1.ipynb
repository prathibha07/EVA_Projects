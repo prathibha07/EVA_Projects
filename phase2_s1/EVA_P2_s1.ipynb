{
  "nbformat": 4,
  "nbformat_minor": 0,
  "metadata": {
    "colab": {
      "name": "EVA_P2.ipynb",
      "provenance": [],
      "collapsed_sections": []
    },
    "kernelspec": {
      "name": "python3",
      "display_name": "Python 3"
    }
  },
  "cells": [
    {
      "cell_type": "markdown",
      "metadata": {
        "id": "1zawVnhPRws5",
        "colab_type": "text"
      },
      "source": [
        "Deep Learning for text and sequences"
      ]
    },
    {
      "cell_type": "code",
      "metadata": {
        "id": "jWktWWZW35p7",
        "colab_type": "code",
        "colab": {}
      },
      "source": [
        "# Word-level one-hot encoding\n",
        "import numpy as np\n",
        "samples = ['The cat sat on the mat.', 'The dog ate my homework.'] #Initial data: one entry per sample\n",
        "token_index = {}# Builds an index of all tokens in the data\n",
        "for sample in samples:\n",
        "  for word in sample.split(): #tokenizes the samples via the splitmethod. \n",
        "    if word not in token_index:\n",
        "      token_index[word] = len(token_index) + 1 #Assigns a unique index to each unique word. Note that you don’t attribute index 0 to anything."
      ],
      "execution_count": 0,
      "outputs": []
    },
    {
      "cell_type": "code",
      "metadata": {
        "id": "rCBhyk24AcI9",
        "colab_type": "code",
        "colab": {}
      },
      "source": [
        "max_length = 10 #Vectorizes the samples. You’ll only consider the first max_lengthwords in each sample.\n",
        "results = np.zeros(shape=(len(samples),max_length,max(token_index.values()) + 1)) #storing results\n",
        "for i, sample in enumerate(samples):\n",
        "  for j, word in list(enumerate(sample.split()))[:max_length]:\n",
        "    index = token_index.get(word)\n",
        "    results[i, j, index] = 1"
      ],
      "execution_count": 0,
      "outputs": []
    },
    {
      "cell_type": "code",
      "metadata": {
        "id": "WRymhL1BCNEM",
        "colab_type": "code",
        "colab": {}
      },
      "source": [
        "# Character-level one-hot encoding\n",
        "import string\n",
        "samples = ['The cat sat on the mat.', 'The dog ate my homework.']\n",
        "characters = string.printable #All printable ASCIIcharacters\n",
        "token_index = dict(zip(range(1, len(characters) + 1), characters))\n",
        "max_length = 50\n",
        "results = np.zeros((len(samples), max_length, max(token_index.keys()) + 1))\n",
        "for i, sample in enumerate(samples):\n",
        "  for j, character in enumerate(sample):\n",
        "    index = token_index.get(character)\n",
        "    results[i, j, index] = 1"
      ],
      "execution_count": 0,
      "outputs": []
    },
    {
      "cell_type": "code",
      "metadata": {
        "id": "B25hbpocCxmc",
        "colab_type": "code",
        "outputId": "67cefff3-ffcc-4016-bca5-b52cd30abe47",
        "colab": {
          "base_uri": "https://localhost:8080/",
          "height": 101
        }
      },
      "source": [
        "# Using Keras for word-level one-hot encoding\n",
        "from keras.preprocessing.text import Tokenizer\n",
        "samples = ['The cat sat on the mat.', 'The dog ate my homework.']\n",
        "tokenizer = Tokenizer(num_words=1000) #Creates a tokenizer, configured to only take into account the1,000 most common words\n",
        "tokenizer.fit_on_texts(samples) # builds the word index\n",
        "sequences = tokenizer.texts_to_sequences(samples)# Turns strings into lists of integer indices\n",
        "one_hot_results = tokenizer.texts_to_matrix(samples, mode='binary') #You could also directly get the one-hot binary representations. Vectorization modes other than one-hot encoding are supported by this tokenizer\n",
        "word_index = tokenizer.word_index #recovering the word index that was computed\n",
        "print('Found %s unique tokens.' % len(word_index))\n"
      ],
      "execution_count": 0,
      "outputs": [
        {
          "output_type": "stream",
          "text": [
            "Using TensorFlow backend.\n"
          ],
          "name": "stderr"
        },
        {
          "output_type": "display_data",
          "data": {
            "text/html": [
              "<p style=\"color: red;\">\n",
              "The default version of TensorFlow in Colab will soon switch to TensorFlow 2.x.<br>\n",
              "We recommend you <a href=\"https://www.tensorflow.org/guide/migrate\" target=\"_blank\">upgrade</a> now \n",
              "or ensure your notebook will continue to use TensorFlow 1.x via the <code>%tensorflow_version 1.x</code> magic:\n",
              "<a href=\"https://colab.research.google.com/notebooks/tensorflow_version.ipynb\" target=\"_blank\">more info</a>.</p>\n"
            ],
            "text/plain": [
              "<IPython.core.display.HTML object>"
            ]
          },
          "metadata": {
            "tags": []
          }
        },
        {
          "output_type": "stream",
          "text": [
            "Found 9 unique tokens.\n"
          ],
          "name": "stdout"
        }
      ]
    },
    {
      "cell_type": "code",
      "metadata": {
        "id": "YANY8ZKBIfEh",
        "colab_type": "code",
        "colab": {}
      },
      "source": [
        "# Word-level one-hot encoding with hashing trick (toy example)\n",
        "samples = ['The cat sat on the mat.', 'The dog ate my homework.']\n",
        "dimensionality = 1000\n",
        "#Stores the words as vectors of size 1,000. If you have close to 1,000 words (or more), you’ll see many hash collisions, which will decrease the accuracy of this encoding method\n",
        "max_length = 10\n",
        "results = np.zeros((len(samples), max_length, dimensionality))\n",
        "for i, sample in enumerate(samples):\n",
        "  for j, word in list(enumerate(sample.split()))[:max_length]:\n",
        "    index = abs(hash(word)) % dimensionality #Hashes the word into a random integer index between 0 and 1,000\n",
        "    results[i, j, index] = 1"
      ],
      "execution_count": 0,
      "outputs": []
    },
    {
      "cell_type": "markdown",
      "metadata": {
        "id": "HVJ4g0IoJJBd",
        "colab_type": "text"
      },
      "source": [
        "The Embedding layer is best understood as a dictionary that maps integer indices(which stand for specific words) to dense vectors. It takes integers as input, it looks upthese integers in an internal dictionary, and it returns the associated vectors. It’s effec-tively a dictionary lookup"
      ]
    },
    {
      "cell_type": "code",
      "metadata": {
        "id": "AsqabEdzI5_z",
        "colab_type": "code",
        "outputId": "751342e0-64b5-4f3f-de3a-33920be8d5b1",
        "colab": {
          "base_uri": "https://localhost:8080/",
          "height": 74
        }
      },
      "source": [
        "# Instantiating an Embedding layer\n",
        "from keras.layers import Embedding\n",
        "embedding_layer = Embedding(1000, 64)\n",
        "# The Embedding layer takes at least two arguments: the number of possible tokens (here, 1,000: 1 + maximum word index) and the dimensionality of the embeddings (here, 64) "
      ],
      "execution_count": 0,
      "outputs": [
        {
          "output_type": "stream",
          "text": [
            "WARNING:tensorflow:From /usr/local/lib/python3.6/dist-packages/keras/backend/tensorflow_backend.py:66: The name tf.get_default_graph is deprecated. Please use tf.compat.v1.get_default_graph instead.\n",
            "\n"
          ],
          "name": "stdout"
        }
      ]
    },
    {
      "cell_type": "markdown",
      "metadata": {
        "id": "Bu4tWemZLslU",
        "colab_type": "text"
      },
      "source": [
        "Let's try it out on IMDB movie-review sentiment-prediction task.\n",
        "\n",
        " \n",
        "\n",
        "First, you'll quickly prepare the data. You'll restrict the movie reviews to the top 10,000 most common words and cut off the reviews after only 20 words. The network will learn 8-dimensional embeddings for each of the 10000 words, turn the input integer sequences (2D integer tensor) into embedding sequences (3D float tensor), flatten the tensor to 2D, and train a single Dense layer on top for classification.\n",
        "\n",
        " \n",
        "\n",
        "Loading the IMDB data for use with an Embedding layer"
      ]
    },
    {
      "cell_type": "code",
      "metadata": {
        "id": "_A_R4HyjJOSg",
        "colab_type": "code",
        "outputId": "cc3338da-bb51-43fa-b3cb-bd634779e2b0",
        "colab": {
          "base_uri": "https://localhost:8080/",
          "height": 54
        }
      },
      "source": [
        "# Loading the IMDB data for use with an Embedding layer\n",
        "from keras.datasets import imdb\n",
        "from keras import preprocessing\n",
        "max_features = 10000 # Number of words to consider as features\n",
        "maxlen = 20 # Cuts off the text after this number of words (among the max_features most common words)\n",
        "(x_train, y_train), (x_test, y_test) = imdb.load_data(num_words=max_features) #Loads the data as lists of integers\n",
        "x_train = preprocessing.sequence.pad_sequences(x_train, maxlen=maxlen) #Turns the lists of integers intoa 2D integer tensor of shape(samples, maxlen)\n",
        "x_test = preprocessing.sequence.pad_sequences(x_test, maxlen=maxlen)"
      ],
      "execution_count": 0,
      "outputs": [
        {
          "output_type": "stream",
          "text": [
            "Downloading data from https://s3.amazonaws.com/text-datasets/imdb.npz\n",
            "17465344/17464789 [==============================] - 1s 0us/step\n"
          ],
          "name": "stdout"
        }
      ]
    },
    {
      "cell_type": "code",
      "metadata": {
        "id": "qH4opd-SJ6H_",
        "colab_type": "code",
        "outputId": "5a51800e-1ab3-4b8d-f635-3cd9f230b898",
        "colab": {
          "base_uri": "https://localhost:8080/",
          "height": 1000
        }
      },
      "source": [
        "# Loading the IMDB data for use with an Embedding layer\n",
        "from keras.models import Sequential\n",
        "from keras.layers import Flatten, Dense\n",
        "model = Sequential()\n",
        "model.add(Embedding(10000, 8, input_length=maxlen)) # Specifies the maximum input length to the Embedding layer so you can later flatten the embedded inputs. \n",
        "# After the Embedding layer, the activations have shape (samples, maxlen, 8)\n",
        "model.add(Flatten()) # Flattens the 3D tensor of embeddings into a 2D tensor of shape (samples, maxlen * 8\n",
        "model.add(Dense(1, activation='sigmoid')) # Adds the classifier on top\n",
        "model.compile(optimizer='rmsprop', loss='binary_crossentropy', metrics=['acc'])\n",
        "model.summary()\n",
        "history = model.fit(x_train, y_train,epochs=10,batch_size=32,validation_split=0.2)"
      ],
      "execution_count": 0,
      "outputs": [
        {
          "output_type": "stream",
          "text": [
            "WARNING:tensorflow:From /usr/local/lib/python3.6/dist-packages/keras/backend/tensorflow_backend.py:541: The name tf.placeholder is deprecated. Please use tf.compat.v1.placeholder instead.\n",
            "\n",
            "WARNING:tensorflow:From /usr/local/lib/python3.6/dist-packages/keras/backend/tensorflow_backend.py:4432: The name tf.random_uniform is deprecated. Please use tf.random.uniform instead.\n",
            "\n",
            "WARNING:tensorflow:From /usr/local/lib/python3.6/dist-packages/keras/optimizers.py:793: The name tf.train.Optimizer is deprecated. Please use tf.compat.v1.train.Optimizer instead.\n",
            "\n",
            "WARNING:tensorflow:From /usr/local/lib/python3.6/dist-packages/keras/backend/tensorflow_backend.py:3657: The name tf.log is deprecated. Please use tf.math.log instead.\n",
            "\n",
            "WARNING:tensorflow:From /usr/local/lib/python3.6/dist-packages/tensorflow_core/python/ops/nn_impl.py:183: where (from tensorflow.python.ops.array_ops) is deprecated and will be removed in a future version.\n",
            "Instructions for updating:\n",
            "Use tf.where in 2.0, which has the same broadcast rule as np.where\n",
            "Model: \"sequential_1\"\n",
            "_________________________________________________________________\n",
            "Layer (type)                 Output Shape              Param #   \n",
            "=================================================================\n",
            "embedding_2 (Embedding)      (None, 20, 8)             80000     \n",
            "_________________________________________________________________\n",
            "flatten_1 (Flatten)          (None, 160)               0         \n",
            "_________________________________________________________________\n",
            "dense_1 (Dense)              (None, 1)                 161       \n",
            "=================================================================\n",
            "Total params: 80,161\n",
            "Trainable params: 80,161\n",
            "Non-trainable params: 0\n",
            "_________________________________________________________________\n",
            "WARNING:tensorflow:From /usr/local/lib/python3.6/dist-packages/keras/backend/tensorflow_backend.py:1033: The name tf.assign_add is deprecated. Please use tf.compat.v1.assign_add instead.\n",
            "\n",
            "WARNING:tensorflow:From /usr/local/lib/python3.6/dist-packages/keras/backend/tensorflow_backend.py:1020: The name tf.assign is deprecated. Please use tf.compat.v1.assign instead.\n",
            "\n",
            "WARNING:tensorflow:From /usr/local/lib/python3.6/dist-packages/keras/backend/tensorflow_backend.py:3005: The name tf.Session is deprecated. Please use tf.compat.v1.Session instead.\n",
            "\n",
            "Train on 20000 samples, validate on 5000 samples\n",
            "Epoch 1/10\n",
            "WARNING:tensorflow:From /usr/local/lib/python3.6/dist-packages/keras/backend/tensorflow_backend.py:190: The name tf.get_default_session is deprecated. Please use tf.compat.v1.get_default_session instead.\n",
            "\n",
            "WARNING:tensorflow:From /usr/local/lib/python3.6/dist-packages/keras/backend/tensorflow_backend.py:197: The name tf.ConfigProto is deprecated. Please use tf.compat.v1.ConfigProto instead.\n",
            "\n",
            "WARNING:tensorflow:From /usr/local/lib/python3.6/dist-packages/keras/backend/tensorflow_backend.py:207: The name tf.global_variables is deprecated. Please use tf.compat.v1.global_variables instead.\n",
            "\n",
            "WARNING:tensorflow:From /usr/local/lib/python3.6/dist-packages/keras/backend/tensorflow_backend.py:216: The name tf.is_variable_initialized is deprecated. Please use tf.compat.v1.is_variable_initialized instead.\n",
            "\n",
            "WARNING:tensorflow:From /usr/local/lib/python3.6/dist-packages/keras/backend/tensorflow_backend.py:223: The name tf.variables_initializer is deprecated. Please use tf.compat.v1.variables_initializer instead.\n",
            "\n",
            "20000/20000 [==============================] - 2s 94us/step - loss: 0.6692 - acc: 0.6215 - val_loss: 0.6155 - val_acc: 0.6956\n",
            "Epoch 2/10\n",
            "20000/20000 [==============================] - 1s 68us/step - loss: 0.5360 - acc: 0.7526 - val_loss: 0.5233 - val_acc: 0.7308\n",
            "Epoch 3/10\n",
            "20000/20000 [==============================] - 1s 72us/step - loss: 0.4596 - acc: 0.7879 - val_loss: 0.5009 - val_acc: 0.7434\n",
            "Epoch 4/10\n",
            "20000/20000 [==============================] - 1s 68us/step - loss: 0.4242 - acc: 0.8069 - val_loss: 0.4960 - val_acc: 0.7502\n",
            "Epoch 5/10\n",
            "20000/20000 [==============================] - 1s 67us/step - loss: 0.4004 - acc: 0.8203 - val_loss: 0.4969 - val_acc: 0.7508\n",
            "Epoch 6/10\n",
            "20000/20000 [==============================] - 1s 67us/step - loss: 0.3826 - acc: 0.8293 - val_loss: 0.4991 - val_acc: 0.7512\n",
            "Epoch 7/10\n",
            "20000/20000 [==============================] - 1s 68us/step - loss: 0.3657 - acc: 0.8402 - val_loss: 0.5036 - val_acc: 0.7530\n",
            "Epoch 8/10\n",
            "20000/20000 [==============================] - 1s 69us/step - loss: 0.3495 - acc: 0.8505 - val_loss: 0.5113 - val_acc: 0.7516\n",
            "Epoch 9/10\n",
            "20000/20000 [==============================] - 1s 69us/step - loss: 0.3347 - acc: 0.8577 - val_loss: 0.5167 - val_acc: 0.7526\n",
            "Epoch 10/10\n",
            "20000/20000 [==============================] - 1s 70us/step - loss: 0.3194 - acc: 0.8661 - val_loss: 0.5228 - val_acc: 0.7508\n"
          ],
          "name": "stdout"
        }
      ]
    },
    {
      "cell_type": "markdown",
      "metadata": {
        "id": "x9YrVY8xMOVk",
        "colab_type": "text"
      },
      "source": [
        "Downloading the IMDB data as raw text\n",
        "\n",
        "\n",
        "First, head to http://mng.nz/0tIo and download the raw IMDB dataset. Uncompress it. Now, let's collect the individual training reviews into a list of strings, one string per review. You'll also collect the review labels (positive/negative) into a labels list."
      ]
    },
    {
      "cell_type": "code",
      "metadata": {
        "id": "fDxnhbYHKf5d",
        "colab_type": "code",
        "colab": {
          "base_uri": "https://localhost:8080/",
          "height": 35
        },
        "outputId": "93d8c45a-7757-4504-ddbe-2ecfbd6514d6"
      },
      "source": [
        "from google.colab import drive\n",
        "drive.mount('/content/gdrive', force_remount=True)"
      ],
      "execution_count": 79,
      "outputs": [
        {
          "output_type": "stream",
          "text": [
            "Mounted at /content/gdrive\n"
          ],
          "name": "stdout"
        }
      ]
    },
    {
      "cell_type": "code",
      "metadata": {
        "id": "L6kCxy8RdwBd",
        "colab_type": "code",
        "colab": {}
      },
      "source": [
        "import os"
      ],
      "execution_count": 0,
      "outputs": []
    },
    {
      "cell_type": "code",
      "metadata": {
        "id": "gLT0LFxtjc82",
        "colab_type": "code",
        "colab": {}
      },
      "source": [
        "import zipfile\n",
        "zip_ref = zipfile.ZipFile(\"/content/drive/My Drive/Colab Notebooks/EVA/phase2/S1/aclImdb/aclImdb.zip\", 'r')\n",
        "zip_ref.extractall(\"/content/drive/My Drive/Colab Notebooks/EVA/phase2/S1/aclImdb/temp\")\n",
        "zip_ref.close()"
      ],
      "execution_count": 0,
      "outputs": []
    },
    {
      "cell_type": "code",
      "metadata": {
        "id": "NqCPpSInkOWM",
        "colab_type": "code",
        "colab": {}
      },
      "source": [
        "# Processing the labels of the raw IMDB data\n",
        "imdb_dir= '/content/gdrive/My Drive/Colab Notebooks/EVA/phase2/S1/aclImdb/temp/aclImdb/'"
      ],
      "execution_count": 0,
      "outputs": []
    },
    {
      "cell_type": "code",
      "metadata": {
        "id": "tIjDwg2dehUN",
        "colab_type": "code",
        "colab": {}
      },
      "source": [
        "train_dir = os.path.join(imdb_dir, 'train')\n",
        "\n",
        "labels = []\n",
        "texts = []\n",
        "\n",
        "for label_type in ['neg', 'pos']:\n",
        "  dir_name = os.path.join(train_dir, label_type)\n",
        "  for fname in os.listdir(dir_name):\n",
        "    if fname[-4:] == '.txt': \n",
        "      f = open(os.path.join(dir_name, fname))\n",
        "      texts.append(f.read())\n",
        "      f.close()\n",
        "      if label_type == 'neg':\n",
        "        labels.append(0)\n",
        "      else:\n",
        "        labels.append(1)\n"
      ],
      "execution_count": 0,
      "outputs": []
    },
    {
      "cell_type": "markdown",
      "metadata": {
        "id": "f8z6kEj-MvFd",
        "colab_type": "text"
      },
      "source": [
        "Tokenizing the data\n"
      ]
    },
    {
      "cell_type": "code",
      "metadata": {
        "id": "Kce9nuaAM7Q3",
        "colab_type": "code",
        "outputId": "bf7a1847-843b-4d2e-fc3b-3a8e0a10d156",
        "colab": {
          "base_uri": "https://localhost:8080/",
          "height": 72
        }
      },
      "source": [
        "# Tokenizing the text of the raw IMDB data\n",
        "from keras.preprocessing.text import Tokenizer\n",
        "from keras.preprocessing.sequence import pad_sequences\n",
        "import numpy as np\n",
        "\n",
        "maxlen = 100 # cuts off reviews after 100 words\n",
        "training_samples = 8000 # train only on 200 samples\n",
        "validation_samples = 10000 # Validates on 10,000 samples\n",
        "max_words = 10000 # Considers only the top 10,000 words in the datase\n",
        "tokenizer = Tokenizer(num_words=max_words)\n",
        "tokenizer.fit_on_texts(texts)\n",
        "sequences = tokenizer.texts_to_sequences(texts)\n",
        "word_index = tokenizer.word_index\n",
        "print('Found %s unique tokens.' % len(word_index))\n",
        "data = pad_sequences(sequences, maxlen=maxlen)\n",
        "labels = np.asarray(labels)\n",
        "print('Shape of data tensor:', data.shape)\n",
        "print('Shape of label tensor:', labels.shape)\n",
        "\n",
        "#Splits the data into a training set and a validation set, but first shuffles the data because you're starting with data in which samples are ordered, all negatives first, then all positives\n",
        "indices = np.arange(data.shape[0])\n",
        "np.random.shuffle(indices)\n",
        "data = data[indices]\n",
        "labels = labels[indices]\n",
        "x_train = data[:training_samples]\n",
        "y_train = labels[:training_samples]\n",
        "x_val = data[training_samples: training_samples + validation_samples]\n",
        "y_val = labels[training_samples: training_samples + validation_samples]"
      ],
      "execution_count": 62,
      "outputs": [
        {
          "output_type": "stream",
          "text": [
            "Found 88582 unique tokens.\n",
            "Shape of data tensor: (25000, 100)\n",
            "Shape of label tensor: (25000,)\n"
          ],
          "name": "stdout"
        }
      ]
    },
    {
      "cell_type": "markdown",
      "metadata": {
        "id": "IVf0RkawP9Ro",
        "colab_type": "text"
      },
      "source": [
        "Download the Glove word embeddings\n",
        "\n",
        "Go   to   https://nlp.stanford.edu/projects/glove,  and  download  the  precomputedembeddings from 2014 English Wikipedia. It’s an 822 MB zip file called glove.6B.zip,containing  100-dimensional  embedding  vectors  for  400,000  words  (or  nonwordtokens). Unzip it.\n",
        "\n",
        "\n",
        "\n"
      ]
    },
    {
      "cell_type": "code",
      "metadata": {
        "id": "T7EPD1-ytzik",
        "colab_type": "code",
        "outputId": "7a264ae5-b443-42b6-d309-dab7678979fb",
        "colab": {
          "base_uri": "https://localhost:8080/",
          "height": 35
        }
      },
      "source": [
        "from google.colab import drive\n",
        "drive.mount('/content/drive/')"
      ],
      "execution_count": 0,
      "outputs": [
        {
          "output_type": "stream",
          "text": [
            "Drive already mounted at /content/drive/; to attempt to forcibly remount, call drive.mount(\"/content/drive/\", force_remount=True).\n"
          ],
          "name": "stdout"
        }
      ]
    },
    {
      "cell_type": "code",
      "metadata": {
        "id": "J6X9zU1hPlV5",
        "colab_type": "code",
        "colab": {}
      },
      "source": [
        "# Parsing the GloVe word-embeddings file\n",
        "# glove_dir\n",
        "f = open('/content/gdrive/My Drive/Colab Notebooks/EVA/phase2/S1/glove/glovetemp/glove_6B_100d.txt')\n",
        "embeddings_index = {}\n",
        "for line in f:\n",
        "  values = line.split()\n",
        "  word = values[0]\n",
        "  coefs = np.asarray(values[1:],dtype='float32')\n",
        "  embeddings_index[word] = coefs\n",
        "f.close()"
      ],
      "execution_count": 0,
      "outputs": []
    },
    {
      "cell_type": "code",
      "metadata": {
        "id": "twAJJAB_N4vh",
        "colab_type": "code",
        "colab": {
          "base_uri": "https://localhost:8080/",
          "height": 35
        },
        "outputId": "35b10a5f-ca65-4518-c28a-10dd1c164de9"
      },
      "source": [
        "print('Found %s word vectors.' % len(embeddings_index))"
      ],
      "execution_count": 66,
      "outputs": [
        {
          "output_type": "stream",
          "text": [
            "Found 400000 word vectors.\n"
          ],
          "name": "stdout"
        }
      ]
    },
    {
      "cell_type": "code",
      "metadata": {
        "id": "OZijv-rw4_2Z",
        "colab_type": "code",
        "colab": {}
      },
      "source": [
        "# preparing the GloVe word-embeddings matrix\n",
        "embedding_dim = 100\n",
        "embedding_matrix = np.zeros((max_words, embedding_dim))\n",
        "for word, i in word_index.items():\n",
        "  if i < max_words:\n",
        "    embedding_vector = embeddings_index.get(word)\n",
        "    if embedding_vector is not None:\n",
        "      embedding_matrix[i] = embedding_vector # Words not found in the embedding index will be all zeros"
      ],
      "execution_count": 0,
      "outputs": []
    },
    {
      "cell_type": "code",
      "metadata": {
        "id": "ANs1b2ZX5LX4",
        "colab_type": "code",
        "outputId": "21c81a72-96dc-4447-82a5-6af91c78fb22",
        "colab": {
          "base_uri": "https://localhost:8080/",
          "height": 313
        }
      },
      "source": [
        "# model definition\n",
        "from keras.models import Sequential\n",
        "from keras.layers import Embedding, Flatten, Dense\n",
        "model = Sequential()\n",
        "model.add(Embedding(max_words, embedding_dim, input_length=maxlen))\n",
        "model.add(Flatten())\n",
        "model.add(Dense(32, activation='relu'))\n",
        "model.add(Dense(1, activation='sigmoid'))\n",
        "model.summary()"
      ],
      "execution_count": 68,
      "outputs": [
        {
          "output_type": "stream",
          "text": [
            "Model: \"sequential_3\"\n",
            "_________________________________________________________________\n",
            "Layer (type)                 Output Shape              Param #   \n",
            "=================================================================\n",
            "embedding_4 (Embedding)      (None, 100, 100)          1000000   \n",
            "_________________________________________________________________\n",
            "flatten_3 (Flatten)          (None, 10000)             0         \n",
            "_________________________________________________________________\n",
            "dense_4 (Dense)              (None, 32)                320032    \n",
            "_________________________________________________________________\n",
            "dense_5 (Dense)              (None, 1)                 33        \n",
            "=================================================================\n",
            "Total params: 1,320,065\n",
            "Trainable params: 1,320,065\n",
            "Non-trainable params: 0\n",
            "_________________________________________________________________\n"
          ],
          "name": "stdout"
        }
      ]
    },
    {
      "cell_type": "code",
      "metadata": {
        "id": "QAEU75aK5YAI",
        "colab_type": "code",
        "colab": {}
      },
      "source": [
        "# Loading pretrained word embeddings into the Embedding lay\n",
        "model.layers[0].set_weights([embedding_matrix])\n",
        "model.layers[0].trainable = False"
      ],
      "execution_count": 0,
      "outputs": []
    },
    {
      "cell_type": "code",
      "metadata": {
        "id": "AAdcjrnG5clx",
        "colab_type": "code",
        "outputId": "6a033e63-6abf-4915-d4ca-0d3284c674d8",
        "colab": {
          "base_uri": "https://localhost:8080/",
          "height": 405
        }
      },
      "source": [
        "#training and evaluating\n",
        "model.compile(optimizer='rmsprop',loss='binary_crossentropy',metrics=['acc'])\n",
        "history = model.fit(x_train, y_train,epochs=10,batch_size=32,validation_data=(x_val, y_val))\n",
        "model.save_weights('pre_trained_glove_model.h5')"
      ],
      "execution_count": 87,
      "outputs": [
        {
          "output_type": "stream",
          "text": [
            "Train on 8000 samples, validate on 10000 samples\n",
            "Epoch 1/10\n",
            "8000/8000 [==============================] - 6s 765us/step - loss: 1.0996e-07 - acc: 1.0000 - val_loss: 0.9664 - val_acc: 0.8145\n",
            "Epoch 2/10\n",
            "8000/8000 [==============================] - 5s 657us/step - loss: 1.0990e-07 - acc: 1.0000 - val_loss: 0.9679 - val_acc: 0.8149\n",
            "Epoch 3/10\n",
            "8000/8000 [==============================] - 5s 665us/step - loss: 1.0981e-07 - acc: 1.0000 - val_loss: 0.9733 - val_acc: 0.8147\n",
            "Epoch 4/10\n",
            "8000/8000 [==============================] - 5s 662us/step - loss: 1.0978e-07 - acc: 1.0000 - val_loss: 0.9758 - val_acc: 0.8144\n",
            "Epoch 5/10\n",
            "8000/8000 [==============================] - 5s 653us/step - loss: 1.0977e-07 - acc: 1.0000 - val_loss: 0.9748 - val_acc: 0.8152\n",
            "Epoch 6/10\n",
            "8000/8000 [==============================] - 5s 670us/step - loss: 1.0973e-07 - acc: 1.0000 - val_loss: 0.9765 - val_acc: 0.8150\n",
            "Epoch 7/10\n",
            "8000/8000 [==============================] - 5s 653us/step - loss: 1.0976e-07 - acc: 1.0000 - val_loss: 0.9793 - val_acc: 0.8148\n",
            "Epoch 8/10\n",
            "8000/8000 [==============================] - 5s 652us/step - loss: 1.0972e-07 - acc: 1.0000 - val_loss: 0.9781 - val_acc: 0.8156\n",
            "Epoch 9/10\n",
            "8000/8000 [==============================] - 5s 650us/step - loss: 1.0972e-07 - acc: 1.0000 - val_loss: 0.9786 - val_acc: 0.8155\n",
            "Epoch 10/10\n",
            "8000/8000 [==============================] - 5s 650us/step - loss: 1.0971e-07 - acc: 1.0000 - val_loss: 0.9815 - val_acc: 0.8150\n"
          ],
          "name": "stdout"
        }
      ]
    },
    {
      "cell_type": "code",
      "metadata": {
        "id": "VJVpVdPo5krL",
        "colab_type": "code",
        "outputId": "dc1ea93e-40c9-4908-e140-fbcd8c19da4e",
        "colab": {
          "base_uri": "https://localhost:8080/",
          "height": 545
        }
      },
      "source": [
        "# plotting the results\n",
        "import matplotlib.pyplot as plt\n",
        "acc = history.history['acc']\n",
        "val_acc = history.history['val_acc']\n",
        "loss = history.history['loss']\n",
        "val_loss = history.history['val_loss']\n",
        "epochs = range(1, len(acc) + 1)\n",
        "plt.plot(epochs, acc, 'bo', label='Training acc')\n",
        "plt.plot(epochs, val_acc, 'b', label='Validation acc')\n",
        "plt.title('Training and validation accuracy')\n",
        "plt.legend()\n",
        "plt.figure()\n",
        "plt.plot(epochs, loss, 'bo', label='Training loss')\n",
        "plt.plot(epochs, val_loss, 'b', label='Validation loss')\n",
        "plt.title('Training and validation loss')\n",
        "plt.legend()\n",
        "plt.show()"
      ],
      "execution_count": 71,
      "outputs": [
        {
          "output_type": "display_data",
          "data": {
            "image/png": "[encoded data removed]",
            "text/plain": [
              "<Figure size 432x288 with 1 Axes>"
            ]
          },
          "metadata": {
            "tags": []
          }
        },
        {
          "output_type": "display_data",
          "data": {
            "image/png": "[encoded data removed]",
            "text/plain": [
              "<Figure size 432x288 with 1 Axes>"
            ]
          },
          "metadata": {
            "tags": []
          }
        }
      ]
    },
    {
      "cell_type": "markdown",
      "metadata": {
        "id": "TGCjyAd7tPCa",
        "colab_type": "text"
      },
      "source": [
        "Training the same model without pretrained word embeddings"
      ]
    },
    {
      "cell_type": "code",
      "metadata": {
        "id": "Q_f_f2u656l6",
        "colab_type": "code",
        "outputId": "ae627d18-7065-42b9-a4dd-b0960cae060c",
        "colab": {
          "base_uri": "https://localhost:8080/",
          "height": 313
        }
      },
      "source": [
        "\n",
        "from keras.models import Sequential\n",
        "from keras.layers import Embedding, Flatten, Dense\n",
        "model = Sequential()\n",
        "model.add(Embedding(max_words, embedding_dim, input_length=maxlen))\n",
        "model.add(Flatten())\n",
        "model.add(Dense(32, activation='relu'))\n",
        "model.add(Dense(1, activation='sigmoid'))\n",
        "model.summary()"
      ],
      "execution_count": 72,
      "outputs": [
        {
          "output_type": "stream",
          "text": [
            "Model: \"sequential_4\"\n",
            "_________________________________________________________________\n",
            "Layer (type)                 Output Shape              Param #   \n",
            "=================================================================\n",
            "embedding_5 (Embedding)      (None, 100, 100)          1000000   \n",
            "_________________________________________________________________\n",
            "flatten_4 (Flatten)          (None, 10000)             0         \n",
            "_________________________________________________________________\n",
            "dense_6 (Dense)              (None, 32)                320032    \n",
            "_________________________________________________________________\n",
            "dense_7 (Dense)              (None, 1)                 33        \n",
            "=================================================================\n",
            "Total params: 1,320,065\n",
            "Trainable params: 1,320,065\n",
            "Non-trainable params: 0\n",
            "_________________________________________________________________\n"
          ],
          "name": "stdout"
        }
      ]
    },
    {
      "cell_type": "code",
      "metadata": {
        "id": "NMfark4c8K83",
        "colab_type": "code",
        "outputId": "baf55d42-d34f-4e93-bd82-90c15c74dbab",
        "colab": {
          "base_uri": "https://localhost:8080/",
          "height": 405
        }
      },
      "source": [
        "model.compile(optimizer='rmsprop',loss='binary_crossentropy',metrics=['acc'])\n",
        "history = model.fit(x_train, y_train,epochs=10,batch_size=32,validation_data=(x_val, y_val))"
      ],
      "execution_count": 73,
      "outputs": [
        {
          "output_type": "stream",
          "text": [
            "Train on 8000 samples, validate on 10000 samples\n",
            "Epoch 1/10\n",
            "8000/8000 [==============================] - 5s 657us/step - loss: 0.5482 - acc: 0.7086 - val_loss: 0.3818 - val_acc: 0.8324\n",
            "Epoch 2/10\n",
            "8000/8000 [==============================] - 5s 606us/step - loss: 0.1521 - acc: 0.9470 - val_loss: 0.4284 - val_acc: 0.8150\n",
            "Epoch 3/10\n",
            "8000/8000 [==============================] - 5s 657us/step - loss: 0.0128 - acc: 0.9976 - val_loss: 0.5410 - val_acc: 0.8192\n",
            "Epoch 4/10\n",
            "8000/8000 [==============================] - 5s 594us/step - loss: 5.0908e-04 - acc: 1.0000 - val_loss: 0.6762 - val_acc: 0.8147\n",
            "Epoch 5/10\n",
            "8000/8000 [==============================] - 5s 599us/step - loss: 1.0983e-05 - acc: 1.0000 - val_loss: 0.8176 - val_acc: 0.8172\n",
            "Epoch 6/10\n",
            "8000/8000 [==============================] - 5s 599us/step - loss: 4.6071e-07 - acc: 1.0000 - val_loss: 0.9122 - val_acc: 0.8142\n",
            "Epoch 7/10\n",
            "8000/8000 [==============================] - 5s 591us/step - loss: 1.1980e-07 - acc: 1.0000 - val_loss: 0.9384 - val_acc: 0.8145\n",
            "Epoch 8/10\n",
            "8000/8000 [==============================] - 5s 601us/step - loss: 1.1110e-07 - acc: 1.0000 - val_loss: 0.9460 - val_acc: 0.8152\n",
            "Epoch 9/10\n",
            "8000/8000 [==============================] - 5s 597us/step - loss: 1.1019e-07 - acc: 1.0000 - val_loss: 0.9570 - val_acc: 0.8152\n",
            "Epoch 10/10\n",
            "8000/8000 [==============================] - 5s 599us/step - loss: 1.1002e-07 - acc: 1.0000 - val_loss: 0.9672 - val_acc: 0.8138\n"
          ],
          "name": "stdout"
        }
      ]
    },
    {
      "cell_type": "code",
      "metadata": {
        "id": "cGfcY74g8cx0",
        "colab_type": "code",
        "colab": {}
      },
      "source": [
        "# Tokenizing the data of the test set\n",
        "test_dir = os.path.join(imdb_dir, 'test')\n",
        "labels = []\n",
        "texts = []\n",
        "\n",
        "for label_type in ['neg', 'pos']:\n",
        "  dir_name = os.path.join(test_dir, label_type)\n",
        "  for fname in sorted(os.listdir(dir_name)):\n",
        "    if fname[-4:] == '.txt':\n",
        "      f = open(os.path.join(dir_name, fname))\n",
        "      texts.append(f.read())\n",
        "      f.close()\n",
        "      if label_type == 'neg':\n",
        "        labels.append(0)\n",
        "      else:\n",
        "        labels.append(1)\n",
        "        \n",
        "sequences = tokenizer.texts_to_sequences(texts)\n",
        "x_test = pad_sequences(sequences, maxlen=maxlen)\n",
        "y_test = np.asarray(labels)"
      ],
      "execution_count": 0,
      "outputs": []
    },
    {
      "cell_type": "code",
      "metadata": {
        "id": "_0SW2NMn85QU",
        "colab_type": "code",
        "colab": {
          "base_uri": "https://localhost:8080/",
          "height": 54
        },
        "outputId": "eee3a2cf-41e7-4fbe-ffac-ecde9980f854"
      },
      "source": [
        "# Evaluating the model on the test set\n",
        "model.load_weights('pre_trained_glove_model.h5')\n",
        "model.evaluate(x_test, y_test)"
      ],
      "execution_count": 88,
      "outputs": [
        {
          "output_type": "stream",
          "text": [
            "25000/25000 [==============================] - 2s 62us/step\n"
          ],
          "name": "stdout"
        },
        {
          "output_type": "execute_result",
          "data": {
            "text/plain": [
              "[0.9902084547122195, 0.81236]"
            ]
          },
          "metadata": {
            "tags": []
          },
          "execution_count": 88
        }
      ]
    },
    {
      "cell_type": "code",
      "metadata": {
        "id": "MSWDMplcM2Qn",
        "colab_type": "code",
        "colab": {
          "base_uri": "https://localhost:8080/",
          "height": 545
        },
        "outputId": "db1f0616-1200-4b4a-a0d9-ea112d364cd1"
      },
      "source": [
        "import matplotlib.pyplot as plt\n",
        "acc = history.history['acc']\n",
        "val_acc = history.history['val_acc']\n",
        "loss = history.history['loss']\n",
        "val_loss = history.history['val_loss']\n",
        "epochs = range(1, len(acc) + 1)\n",
        "plt.plot(epochs, acc, 'bo', label='Training acc')\n",
        "plt.plot(epochs, val_acc, 'b', label='Validation acc')\n",
        "plt.title('Training and validation accuracy')\n",
        "plt.legend()\n",
        "plt.figure()\n",
        "plt.plot(epochs, loss, 'bo', label='Training loss')\n",
        "plt.plot(epochs, val_loss, 'b', label='Validation loss')\n",
        "plt.title('Training and validation loss')\n",
        "plt.legend()\n",
        "plt.show()"
      ],
      "execution_count": 89,
      "outputs": [
        {
          "output_type": "display_data",
          "data": {
            "image/png": "[encoded data removed]",
            "text/plain": [
              "<Figure size 432x288 with 1 Axes>"
            ]
          },
          "metadata": {
            "tags": []
          }
        },
        {
          "output_type": "display_data",
          "data": {
            "image/png": "[encoded data removed]",
            "text/plain": [
              "<Figure size 432x288 with 1 Axes>"
            ]
          },
          "metadata": {
            "tags": []
          }
        }
      ]
    }
  ]
}