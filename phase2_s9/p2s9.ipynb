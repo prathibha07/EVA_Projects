{
  "nbformat": 4,
  "nbformat_minor": 0,
  "metadata": {
    "colab": {
      "name": "p2s9",
      "provenance": [],
      "collapsed_sections": []
    },
    "kernelspec": {
      "name": "python3",
      "display_name": "Python 3"
    }
  },
  "cells": [
    {
      "cell_type": "code",
      "metadata": {
        "id": "qfaRey_CIJDi",
        "colab_type": "code",
        "colab": {}
      },
      "source": [
        "!pip install pybullet"
      ],
      "execution_count": 0,
      "outputs": []
    },
    {
      "cell_type": "code",
      "metadata": {
        "id": "eHCNfh_j-_Lu",
        "colab_type": "code",
        "colab": {}
      },
      "source": [
        "import os\n",
        "import time\n",
        "import random\n",
        "import numpy as np\n",
        "import matplotlib.pyplot as plt\n",
        "import pybullet_envs\n",
        "import gym\n",
        "import torch\n",
        "import torch.nn as nn\n",
        "import torch.nn.functional as F\n",
        "from gym import wrappers\n",
        "from torch.autograd import Variable\n",
        "from collections import deque"
      ],
      "execution_count": 0,
      "outputs": []
    },
    {
      "cell_type": "code",
      "metadata": {
        "id": "Hl04mhG8IbcC",
        "colab_type": "code",
        "colab": {}
      },
      "source": [
        "# STEP 1\n",
        "# We initialize the Experience Replay Memory with a size of 1e6.\n",
        "# Then we populate it with new transitions\n",
        "class ReplayBuffer(object):\n",
        "  def __init__(self, max_size = 1e6):\n",
        "    self.storage = []\n",
        "    self.max_size = max_size\n",
        "    selt.ptr = 0\n",
        "\n",
        "  def add(self, transition):\n",
        "    if len(self.storage) == self.max_size:\n",
        "      self.storage[int(self.ptr)] = transition\n",
        "      self.ptr = (self.ptr+1) % self.max_size\n",
        "    else:\n",
        "      self.storage.append(transition)\n",
        "  \n",
        "  def sample(self, batch_size):\n",
        "    ind = np.random.randint(0, len(self.storage), batch_size)\n",
        "    batch_states, batch_next_states, batch_actions, batch_rewards,\\\n",
        "      batch_dones= [], [], [], [], [] \n",
        "    for i in ind:\n",
        "      state, next_state, action, reward, done = self.storage[i]\n",
        "      batch_states.append(np.array(state, copy = False))\n",
        "      batch_next_states.append(np.array(next_state, copy = False))\n",
        "      batch_actions.append(np.array(action, copy = False))\n",
        "      batch_rewards.append(np.array(reward, copy = False))\n",
        "      batch_dones.append(np.array(done, copy = False))\n",
        "    return np.array(batch_states), np.array(batch_next_states),\\\n",
        "      np.array(batch_actions), np.array(batch_rewards).reshape(-1,1),\\\n",
        "        np.array(batch_dones).reshape(-1,1)\n"
      ],
      "execution_count": 0,
      "outputs": []
    },
    {
      "cell_type": "code",
      "metadata": {
        "id": "0pi51MptBEbH",
        "colab_type": "code",
        "colab": {}
      },
      "source": [
        "# STEP 2\n",
        "# Build one DNN for the Actor model and one for Actor Target\n",
        "class Actor(nn.Module):\n",
        "\n",
        "  def __init__(self, state_dims, action_dim, max_action):\n",
        "    #max_action is to clip in case we added too much noise\n",
        "    super(Actor,self).__init__() #activate the inheritance\n",
        "    self.layer_1 = nn.Linear(state_dims,400)\n",
        "    self.layer_2 = nn.Linear(400,300)\n",
        "    self.layer_3 = nn.Linear(300,action_dim)\n",
        "    self.max_action = max_action\n",
        "\n",
        "  def forward(self,x):\n",
        "    x = F.relu(self,layer_1(x))\n",
        "    x = F.relu(self.layer_2(x))\n",
        "    x = self.max_action * torch.tanh(self.layer_3(x))\n",
        "    return x\n"
      ],
      "execution_count": 0,
      "outputs": []
    },
    {
      "cell_type": "code",
      "metadata": {
        "id": "_R2lJ4ElCLIa",
        "colab_type": "code",
        "colab": {}
      },
      "source": [
        "# STEP 3\n",
        "# Build two DNNs for the two Critic models and two DNNs \n",
        "# for the two Critic Targets\n",
        "class Critic(nn.Module):\n",
        "\n",
        "  def __init__(self, state_dims, action_dim):\n",
        "    #max_action is to clip in case we added too much noise\n",
        "    super(Critic,self).__init__() #activate the inheritance\n",
        "    #First Critic Network\n",
        "    self.layer_1 = nn.Linear(state_dims + action_dim,400)\n",
        "    self.layer_2 = nn.Linear(400,300)\n",
        "    self.layer_3 = nn.Linear(300,action_dim)\n",
        "    #second critic network\n",
        "    self.layer_4 = nn.Linear(state_dims + action_dim,400)\n",
        "    self.layer_5 = nn.Linear(400,300)\n",
        "    self.layer_6 = nn.Linear(300,action_dim)\n",
        "    \n",
        "  def forward(self, x, u): # x- state, u- action\n",
        "    xu = torch.cat([x,u],1) # 1 for vertical concat, 0 for Horizontal\n",
        "    # forward propogation on first Critic\n",
        "    x = F.relu(self,layer_1(xu))\n",
        "    x = F.relu(self.layer_2(x1))\n",
        "    x = self.layer_3(x1)\n",
        "    #forward propogation on second Critic\n",
        "    x = F.relu(self,layer_4(xu))\n",
        "    x = F.relu(self.layer_5(x1))\n",
        "    x = self.layer_6(x2)\n",
        "    \n",
        "    return x1, x2\n",
        "\n",
        "  def Q1(self, x, u): # x- state, u=  action, used for updating the Q values\n",
        "    xu = torch.cat([x,u],1) #1 for vertical concat, 0 for horizontal\n",
        "    x = F.relu(self,layer_1(xu))\n",
        "    x = F.relu(self.layer_2(x1))\n",
        "    x = self.layer_3(x1)\n",
        "    \n",
        "    return x1\n",
        "    \n"
      ],
      "execution_count": 0,
      "outputs": []
    },
    {
      "cell_type": "code",
      "metadata": {
        "id": "bbmvYcoCImAQ",
        "colab_type": "code",
        "colab": {}
      },
      "source": [
        "# STEP 4-15\n",
        "# training process , create a T3D class, initialize variables\n",
        "\n",
        "# selecting the device- cpu/gpu\n",
        "device = torch.device('cuda' if torch.cuda.is_available() else 'cpu')\n",
        "# building the whole training process into a class\n",
        "\n",
        "class T3D(object):\n",
        "  def __init__(self, state_dims, action_dim, max_action):\n",
        "    #making sure out T3D class can work with any env\n",
        "    self.actor = Actor(state_dims, action_dim, max_action).to(device) # GD\n",
        "    self.actor_target = Actor(state_dims, action_dim, max_action).to(device)\n",
        "    self.actor_target.load_state_dict(self.actor.state_dict)\n",
        "    #initializing with model weights to keep them same\n",
        "    self.actor_optimizer = torch.optim.Adam(self.actor.parameters())\n",
        "\n",
        "    self.critic = Critic(state_dims, action_dim).to(device) #GD\n",
        "    self.critic_target = Critic(state_dims, action_dim).to(device) #polyak avg\n",
        "    self.critic_target.load_state_dict(self.critic.state_dict)\n",
        "    #initializing with model weights to keep them same\n",
        "    self.critic_optimizer = torch.optim.Adam(self.critic.parameters())\n",
        "    self.max_action = max_action\n",
        "\n",
        "  def select_action(self, state):\n",
        "    state= torch.Tensor(state.reshape(1, -1).to(device))\n",
        "    return self.actor(state).cpu().data.numpy().flatten()\n",
        "    # need to convert to numpy, due to clipping\n",
        "\n",
        "  \n",
        "\n"
      ],
      "execution_count": 0,
      "outputs": []
    },
    {
      "cell_type": "code",
      "metadata": {
        "id": "s58z43bMLzYl",
        "colab_type": "code",
        "colab": {}
      },
      "source": [
        "# STEP 4-15\n",
        "# sample from a batch of transitions(s,s',a,r) from the memory \n",
        "def train(self, replay_buffer, iterations, batch_size=100, discount=0.99,\n",
        "            tau=0.005, policy_noise=0.2, noise_clip=0.5, policy_freq=2):\n",
        "  for it in range(iterations):\n",
        "      # we sample from a batch of transitions (s,s',a,r) from memory\n",
        "    batch_states, batch_next_states, batch_actions, batch_rewards, batch_dones\\\n",
        "        = replay_buffer.sample(batch_size)\n",
        "    state = torch.Tensor(batch_states).to(device)\n",
        "    next_state = torch.Tensor(batch_next_states).to(device)\n",
        "    action = torch.Tensor(batch_actions).to(device)\n",
        "    reward = torch.Tensor(batch_rewards).to(device)\n",
        "    done = torch.Tensor(batch_dones).to(device)\n",
        "# STEP 5\n",
        "# from the next state s', the Actor target plays the next actions a'\n",
        "    next_action = self.actor_target.forward(next_state)\n",
        "# STEP 6\n",
        "# we add gaussian noiseto this next action a' and we clamp it in a \n",
        "# range ofvalues suported by the environment\n",
        "    noise = torch.Tensor(batch_actions).data.normal(0, policy_noise).to(device)\n",
        "    action = torch.clamp(-noise_clip, noise_clip)\n",
        "    next_action = (next_action + noise).clamp(-self.max_Action,self_max_action)\n",
        "# STEP 7\n",
        "# the two critic targets take each the couple (s',a') as input return two Q values\n",
        "# Qt1(s',a')and Qt2(s',a') as ouputs   \n",
        "    target_Q1, target_Q2 = self.critic_target.forward(next_state, next_action)\n",
        "# STEP 8\n",
        "# we keep the minimum of these two Q-values\n",
        "# this is not target_Q, we are just being lazy, and want to use the same variable name later on\n",
        "    target_Q = torch.min(torch_Q1, target_Q2)\n",
        "# STEP 9\n",
        "# we get the final target of the two critic model which is:\n",
        "# Qt= r+ gamma*min(Qt1,Qt2)\n",
        "# target_Q=reward+(1-done)* discount*target_Q\n",
        "# 0 = episode not over, 1= episode over\n",
        "# we cant run the above equation efficiently as some components are in \n",
        "# computational graphs and some are not. We need to make one minor modification\n",
        "    target_Q = reward +((1-done)) * discount* target_Q.detach()\n",
        " # STEP 10\n",
        "# the two critic models take each of couple(s,a)as input\n",
        "# and return two Q values   \n",
        "    current_Q1, curret_Q2= self.critic.forward(state,action)\n",
        "# STEP 11\n",
        "# we compute the loss coming from the two critic models    \n",
        "    critic_loss = F.mse_loss(current_Q1, target_Q) + F.mse_loss(current_Q2, target_Q)\n",
        "# STEP 12\n",
        "# we backpropagate this Critic loss and update the parameters of the two\\\n",
        "# critic  models with adam optimizer   \n",
        "    self.critic_otpimizer.zero_grad() # initializing the gradients to zero\n",
        "    critic_loss.backward() # computing the gradients\n",
        "    self.critic_optimizer.step() # performing the weight updates\n",
        "# STEP 13\n",
        "# once every  two iterations, we update our Actor model by\\\n",
        "# performing gradient ascent on the output of the first critic model   \n",
        "    if it % policy_freq == 0:  # this is DPG part\n",
        "      actor_loss = -(self.critic.Q1(state, self.actor(state).mean()))\n",
        "      self.actor_optimizer.grad_zero()\n",
        "      actor_loss.backward()\n",
        "      self.actor_optimizer.step()\n",
        "# STEP 14\n",
        "# still once every two iterations, we update the weights of the actor target\\\n",
        "# by polyak averaging     \n",
        "    for param, target_param in zip(self.actor.parameters(),self.actor_target.parameters()):\n",
        "      target_param.data.copy_(tau* param.data + (1-tau)* target_param.data)\n",
        "# STEP 15\n",
        "# still once every two iterations, we update the weights of the critic target\\\n",
        "# by polyak averaging    \n",
        "    for param, target_param in zip(self.critic.parameters(),self.critic_target.parameters()):\n",
        "      target_param.data.copy_(tau* param.data + (1-tau)* target_param.data)\n"
      ],
      "execution_count": 0,
      "outputs": []
    },
    {
      "cell_type": "code",
      "metadata": {
        "id": "xz4utv1MnUzv",
        "colab_type": "code",
        "colab": {}
      },
      "source": [
        "# Individual steps below for better readability"
      ],
      "execution_count": 0,
      "outputs": []
    },
    {
      "cell_type": "code",
      "metadata": {
        "id": "tjQORBDrUQ4x",
        "colab_type": "code",
        "colab": {}
      },
      "source": [
        "# STEP 5\n",
        "# from the next state s', the Actor target plays the next actions a'\n",
        "next_action = self.actor_target.forward(next_state)\n"
      ],
      "execution_count": 0,
      "outputs": []
    },
    {
      "cell_type": "code",
      "metadata": {
        "id": "MtxMKmr-Umf0",
        "colab_type": "code",
        "colab": {}
      },
      "source": [
        "# STEP 6\n",
        "# we add gaussian noiseto this next action a' and we clamp it in a \n",
        "# range ofvalues suported by the environment\n",
        "noise = torch.Tensor(batch_actions).data.normal(0, policy_noise).to(device)\n",
        "action = torch.clamp(-noise_clip, noise_clip)\n",
        "next_action = (next_action + noise).clamp(-self.max_Action,self_max_action)\n"
      ],
      "execution_count": 0,
      "outputs": []
    },
    {
      "cell_type": "code",
      "metadata": {
        "id": "F9hwKPtKVaWn",
        "colab_type": "code",
        "colab": {}
      },
      "source": [
        "# STEP 7\n",
        "# the two critictargets take each the couple (s',a') as input return two Q values\n",
        "# Qt1(s',a')and Qt2(s',a') as ouputs\n",
        "target_Q1, target_Q2 = self.critic_target.forward(next_state, next_action)\n"
      ],
      "execution_count": 0,
      "outputs": []
    },
    {
      "cell_type": "code",
      "metadata": {
        "id": "IG1V5gnteoAW",
        "colab_type": "code",
        "colab": {}
      },
      "source": [
        "# STEP 8\n",
        "# we keep the minimum of these two Q-values\n",
        "# this is not target_Q, we are just being lazy, and want to use the same variable name later on\n",
        "target_Q = torch.min(torch_Q1, target_Q2)"
      ],
      "execution_count": 0,
      "outputs": []
    },
    {
      "cell_type": "code",
      "metadata": {
        "id": "u-ScCknde5JY",
        "colab_type": "code",
        "colab": {}
      },
      "source": [
        "# STEP 9\n",
        "# we get the final target of the two critic model which is:\n",
        "# Qt= r+ gamma*min(Qt1,Qt2)\n",
        "# target_Q=reward+(1-done)* discount*target_Q\n",
        "# 0 = episode not over, 1= episode over\n",
        "# we cant run the above equation efficiently as some components are in \n",
        "# computational graphs and some are not. We need to make one minor modification\n",
        "target_Q = reward +((1-done)) * discount* target_Q).detach()\n"
      ],
      "execution_count": 0,
      "outputs": []
    },
    {
      "cell_type": "code",
      "metadata": {
        "id": "SSX1nfy9f1ha",
        "colab_type": "code",
        "colab": {}
      },
      "source": [
        "# STEP 10\n",
        "# the two critic models take each of couple(s,a)as input\n",
        "# and return two Q values\n",
        "current_Q1, curret_Q2= self.critic.forward(state,action)"
      ],
      "execution_count": 0,
      "outputs": []
    },
    {
      "cell_type": "code",
      "metadata": {
        "id": "AdRwNbe_g-gB",
        "colab_type": "code",
        "colab": {}
      },
      "source": [
        "# STEP 11\n",
        "# we compute the loss coming from the two critic models\n",
        "critic_loss = F.mse_loss(current_Q1, target_Q) + F.mse_loss(current_Q2, target_Q)\n"
      ],
      "execution_count": 0,
      "outputs": []
    },
    {
      "cell_type": "code",
      "metadata": {
        "id": "IQU-Z4B8hSKZ",
        "colab_type": "code",
        "colab": {}
      },
      "source": [
        "# STEP 12\n",
        "# we backpropagate this Critic loss and update the parameters of the two\\\n",
        " # critic  models with adam optimizer\n",
        "self.critic_otpimizer.zero_grad() # initializing the gradients to zero\n",
        "critic_loss.backward() # computing the gradients\n",
        "self.critic_optimizer.step() # performing the weight updates\n"
      ],
      "execution_count": 0,
      "outputs": []
    },
    {
      "cell_type": "code",
      "metadata": {
        "id": "xB_0doF_h7YF",
        "colab_type": "code",
        "colab": {}
      },
      "source": [
        "# STEP 13\n",
        "# once every  two iterations, we update our Actor model by\\\n",
        "# performing gradient ascent on the output of the first critic model\n",
        "if it % policy_freq == 0:\n",
        "  # this is DPG part\n",
        "  actor_loss = -(self.critic.Q1(state, self.actor(state).mean()))\n",
        "  self.actor_optimizer.grad_zero()\n",
        "  actor_loss.backward()\n",
        "  self.actor_optimizer.step()\n"
      ],
      "execution_count": 0,
      "outputs": []
    },
    {
      "cell_type": "code",
      "metadata": {
        "id": "Cup7jWSBiXJY",
        "colab_type": "code",
        "colab": {}
      },
      "source": [
        "# STEP 14\n",
        "# still once every two iterations, we update the weights of the actor target\\\n",
        "# by polyak averaging \n",
        "for param, target_param in zip(self.actor.parameters(),self.actor_target.parameters()):\n",
        "  target_param.data.copy_(tau* param.data + (1-tau)* target_param.data)\n"
      ],
      "execution_count": 0,
      "outputs": []
    },
    {
      "cell_type": "code",
      "metadata": {
        "id": "txD35PMUlJsw",
        "colab_type": "code",
        "colab": {}
      },
      "source": [
        "# STEP 15\n",
        "# still once every two iterations, we update the weights of the critic target\\\n",
        "# by polyak averaging \n",
        "for param, target_param in zip(self.critic.parameters(),self.critic_target.parameters()):\n",
        "  target_param.data.copy_(tau* param.data + (1-tau)* target_param.data)\n"
      ],
      "execution_count": 0,
      "outputs": []
    },
    {
      "cell_type": "code",
      "metadata": {
        "id": "R73zi-UTir25",
        "colab_type": "code",
        "colab": {}
      },
      "source": [
        ""
      ],
      "execution_count": 0,
      "outputs": []
    }
  ]
}